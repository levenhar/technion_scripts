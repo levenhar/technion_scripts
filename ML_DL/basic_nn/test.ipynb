{
 "cells": [
  {
   "cell_type": "code",
   "execution_count": 24,
   "id": "f1d0f604-34cd-4c37-85cd-2f10228f5e81",
   "metadata": {},
   "outputs": [
    {
     "name": "stdout",
     "output_type": "stream",
     "text": [
      "The autoreload extension is already loaded. To reload it, use:\n",
      "  %reload_ext autoreload\n"
     ]
    }
   ],
   "source": [
    "import numpy as np # Importing the numpy package to perform calculations\n",
    "import matplotlib.pyplot as plt # Importing the pyplot package to plot data\n",
    "import sys\n",
    "import os\n",
    "from PIL import Image\n",
    "\n",
    "%matplotlib inline\n",
    "\n",
    "# Import local files\n",
    "sys.path.append('code')\n",
    "from utils import *\n",
    "from nn import *\n",
    "\n",
    "# Do not change below! Important for reloading code you write in external .py files.\n",
    "%load_ext autoreload \n",
    "%autoreload 2 "
   ]
  },
  {
   "cell_type": "code",
   "execution_count": 32,
   "id": "b83fa9c5-8db9-4b72-bdef-bde905502abd",
   "metadata": {},
   "outputs": [],
   "source": [
    "# Load images from both directories\n",
    "fire_images = load_images_and_labels('./data/fire', 1)\n",
    "nofire_images = load_images_and_labels('./data/nofire', 0)\n",
    "\n",
    "# Combine the datasets\n",
    "all_images = fire_images + nofire_images\n",
    "\n",
    "# Shuffle the combined dataset to ensure random distribution\n",
    "np.random.shuffle(all_images)\n",
    "\n",
    "# Separate the images and labels\n",
    "images, labels = zip(*all_images)\n",
    "\n",
    "images = np.array(images)\n",
    "labels = np.array(labels)\n",
    "\n",
    "# Manual train-test split\n",
    "split_ratio = 0.0  # 80% for training, 20% for testing\n",
    "split_index = int(len(images) * split_ratio)\n",
    "\n",
    "train_images, test_images = images[:split_index], images[split_index:]\n",
    "train_labels, test_labels = labels[:split_index], labels[split_index:]"
   ]
  },
  {
   "cell_type": "code",
   "execution_count": 33,
   "id": "75f8bcfd-628e-452b-8047-6440d848b9bc",
   "metadata": {},
   "outputs": [],
   "source": [
    "n_samples = train_images.shape[0]\n",
    "height = train_images.shape[1]\n",
    "width = train_images.shape[2]\n",
    "channels = train_images.shape[3]\n",
    "\n",
    "X_flattened = train_images.reshape(n_samples, height * width * channels)  \n",
    "y_true = train_labels.reshape(-1, 1)\n",
    "\n",
    "n_samples_test = test_images.shape[0]\n",
    "X_test_flattened = test_images.reshape(n_samples_test, -1)\n",
    "y_true_test = test_labels.reshape(-1, 1)"
   ]
  },
  {
   "cell_type": "code",
   "execution_count": 34,
   "id": "f8da70db-5700-4d45-83c5-289d09a5c2f1",
   "metadata": {},
   "outputs": [],
   "source": [
    "import numpy as np\n",
    "\n",
    "W1 = np.load(\"W1.npy\")\n",
    "W2 = np.load(\"W2.npy\")\n",
    "W3 = np.load(\"W3.npy\")\n",
    "W4 = np.load(\"W4.npy\")\n",
    "\n",
    "b1 = np.load(\"b1.npy\")\n",
    "b2 = np.load(\"b2.npy\")\n",
    "b3 = np.load(\"b3.npy\")\n",
    "b4 = np.load(\"b4.npy\")\n",
    "\n"
   ]
  },
  {
   "cell_type": "code",
   "execution_count": 35,
   "id": "338b0857-1f36-494c-9e41-4889ad715a10",
   "metadata": {},
   "outputs": [
    {
     "name": "stdout",
     "output_type": "stream",
     "text": [
      "Accuracy: 0.9787\n"
     ]
    }
   ],
   "source": [
    "_, _, _, predictions = forward_pass(X_test_flattened, W1, b1, W2, b2, W3, b3, W4, b4)\n",
    "\n",
    "# Convert probabilities to binary labels based on a 0.5 threshold\n",
    "predicted_labels = (predictions > 0.5).astype(int)\n",
    "\n",
    "# Calculate accuracy\n",
    "accuracy = np.mean(predicted_labels == y_true_test)\n",
    "\n",
    "print(f\"Accuracy: {accuracy:.4f}\")"
   ]
  },
  {
   "cell_type": "code",
   "execution_count": 9,
   "id": "ee2b2eb5-d600-41e1-9b7b-edd16c5862ba",
   "metadata": {},
   "outputs": [],
   "source": [
    "aaa = np.array([1,2,32,1,0,4])"
   ]
  },
  {
   "cell_type": "code",
   "execution_count": 10,
   "id": "32dcde67-4c1d-4a9c-bb57-d9bf04061a6d",
   "metadata": {},
   "outputs": [
    {
     "data": {
      "text/plain": [
       "array([4, 0, 3, 1, 5, 2], dtype=int64)"
      ]
     },
     "execution_count": 10,
     "metadata": {},
     "output_type": "execute_result"
    }
   ],
   "source": [
    "np.array(np.argsort(aaa))"
   ]
  },
  {
   "cell_type": "code",
   "execution_count": 11,
   "id": "01f3e7c0-2f52-4c39-b2e3-e5b912908f9b",
   "metadata": {},
   "outputs": [
    {
     "data": {
      "text/plain": [
       "array([ 0,  1,  1,  2,  4, 32])"
      ]
     },
     "execution_count": 11,
     "metadata": {},
     "output_type": "execute_result"
    }
   ],
   "source": [
    "aaa[np.array(np.argsort(aaa))]"
   ]
  }
 ],
 "metadata": {
  "kernelspec": {
   "display_name": "Python 3 (ipykernel)",
   "language": "python",
   "name": "python3"
  },
  "language_info": {
   "codemirror_mode": {
    "name": "ipython",
    "version": 3
   },
   "file_extension": ".py",
   "mimetype": "text/x-python",
   "name": "python",
   "nbconvert_exporter": "python",
   "pygments_lexer": "ipython3",
   "version": "3.8.18"
  }
 },
 "nbformat": 4,
 "nbformat_minor": 5
}
