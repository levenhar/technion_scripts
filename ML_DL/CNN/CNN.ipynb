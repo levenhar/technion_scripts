{
 "cells": [
  {
   "cell_type": "markdown",
   "id": "a9f1d0f9-2580-43dd-85c1-ef3c09b4a839",
   "metadata": {},
   "source": [
    "# Deep Learning for the Geosciences (Technion 16837)"
   ]
  },
  {
   "cell_type": "markdown",
   "id": "23ce6300-da0a-4061-8f09-8111dce3bb3a",
   "metadata": {},
   "source": [
    "## Assignment #4a: CIFAR-10 Revisited"
   ]
  },
  {
   "cell_type": "code",
   "execution_count": 10,
   "id": "dab43a4d-bf17-4ae3-9ac8-7b8d6a843eeb",
   "metadata": {},
   "outputs": [
    {
     "name": "stdout",
     "output_type": "stream",
     "text": [
      "The autoreload extension is already loaded. To reload it, use:\n",
      "  %reload_ext autoreload\n"
     ]
    }
   ],
   "source": [
    "import numpy as np # Importing the numpy package to perform calculations\n",
    "import matplotlib.pyplot as plt # Importing the pyplot package to plot data\n",
    "import sys\n",
    "import torch\n",
    "import torchvision\n",
    "import torchvision.transforms as transforms\n",
    "import torchvision.models as models\n",
    "import torch.optim as optim\n",
    "from torch.utils.data import DataLoader, SubsetRandomSampler\n",
    "# import tqdm\n",
    "# import optuna\n",
    "# import pandas as pd\n",
    "# import os\n",
    "\n",
    "%matplotlib inline\n",
    "\n",
    "# Import local files\n",
    "sys.path.append('code')\n",
    "from model import *\n",
    "from train import *\n",
    "from utils import *\n",
    "\n",
    "# Do not change below! Important for reloading code you write in external .py files.\n",
    "%load_ext autoreload \n",
    "%autoreload 2 "
   ]
  },
  {
   "cell_type": "markdown",
   "id": "9eb35eee-bbe7-41b4-9c5d-1cbc015bab18",
   "metadata": {},
   "source": [
    "---\n",
    "## <ins>Note about chatGPT </ins>\n",
    "As always, you may use chatGPT to complete your assignments, if you indicate you did. However, since our goal here is not only to get a good grade - but also to learn something - I recommend that you first attempt to solve the assignment yourself and only then look at what ChatGPT has to offer. \n",
    "\n",
    "When choosing to use ChatGPT:\n",
    "1. Please write your input prompt.\n",
    "2. Try to understand the code instead of just copying it.\n",
    "3. Explain the code in words. What does each line do? What is the expected input and output?\n",
    "\n",
    "Important note: Failing to disclose the use of ChatGPT or similar AI tools in an assignment may lead to the loss of all points for the assignment.\n",
    "\n",
    "---"
   ]
  },
  {
   "cell_type": "markdown",
   "id": "4005b4c3-9794-421b-b266-c425508d43a3",
   "metadata": {},
   "source": [
    "## 1. <ins>Download the CIFAR-10 data</ins>\n",
    "This is similar to what we have done in homework 2."
   ]
  },
  {
   "cell_type": "code",
   "execution_count": 4,
   "id": "baecf3ea-0cb1-4eca-8a3f-f36a2422526a",
   "metadata": {},
   "outputs": [],
   "source": [
    "# Parameters \n",
    "train_batch_size = 16\n",
    "test_batch_size = 16"
   ]
  },
  {
   "cell_type": "code",
   "execution_count": 5,
   "id": "028a15e6-55da-4797-8e10-32b2b81a595a",
   "metadata": {},
   "outputs": [
    {
     "name": "stdout",
     "output_type": "stream",
     "text": [
      "Files already downloaded and verified\n",
      "Files already downloaded and verified\n"
     ]
    }
   ],
   "source": [
    "\n",
    "\n",
    "# Setting a transform to normalize the data\n",
    "transform = transforms.Compose([\n",
    "    transforms.ToTensor(),\n",
    "    transforms.Normalize((0.5, 0.5, 0.5), (0.5, 0.5, 0.5))\n",
    "])\n",
    "\n",
    "# Downloading the CIFAR-10 datasets\n",
    "trainset = torchvision.datasets.CIFAR10(root='./data', train=True,\n",
    "                                        download=True, transform=transform)\n",
    "testset = torchvision.datasets.CIFAR10(root='./data', train=False,\n",
    "                                       download=True, transform=transform)\n",
    "\n",
    "# Splitting the training set for validation\n",
    "num_train = len(trainset)\n",
    "indices = list(range(num_train))\n",
    "split = int(np.floor(0.1 * num_train))  # 10% for validation\n",
    "\n",
    "np.random.shuffle(indices)\n",
    "\n",
    "train_idx, valid_idx = indices[split:], indices[:split]\n",
    "train_sampler = SubsetRandomSampler(train_idx)\n",
    "valid_sampler = SubsetRandomSampler(valid_idx)\n",
    "\n",
    "# Creating DataLoaders for training, validation, and test sets\n",
    "trainloader = DataLoader(trainset, batch_size=train_batch_size, sampler=train_sampler, num_workers=2)\n",
    "validloader = DataLoader(trainset, batch_size=train_batch_size, sampler=valid_sampler, num_workers=2)\n",
    "testloader = DataLoader(testset, batch_size=test_batch_size, shuffle=True, num_workers=2)\n",
    "\n",
    "# Classes in the CIFAR-10 Dataset\n",
    "classes = ('plane', 'car', 'bird', 'cat', 'deer', 'dog', 'frog', 'horse', 'ship', 'truck')"
   ]
  },
  {
   "cell_type": "markdown",
   "id": "11437b55-ca02-4ded-93e5-9683217b33c3",
   "metadata": {},
   "source": [
    "## 2. <ins>Train the basic neural network on the CIFAR-10 data</ins>\n",
    "CNNs in Pytorch are defined as Python classes. To implement a custom model (CNN), you need to implement the class constructor (`__init__(self)`) and the `forward(self, x)` method, which performs forward propagation. Compare the `basic_cnn()` class to what we have done in the last workshop.\n",
    "\n",
    "The `basic_cnn` convolutional neural network is already implemented. Run it below and observe how it performs. Note: running this CNN for 10 epochs takes about 10-15 minutes on a modern laptop with no GPU."
   ]
  },
  {
   "cell_type": "code",
   "execution_count": 36,
   "id": "87cd3772-d21a-4123-b70a-ced920255139",
   "metadata": {},
   "outputs": [
    {
     "name": "stdout",
     "output_type": "stream",
     "text": [
      "Training model...\n",
      "Epoch 1/10 - Validation Batch 313/313\n",
      "Epoch 1/10, Training Loss: 1.575, Validation Loss: 1.376\n",
      "Epoch 2/10 - Validation Batch 313/313\n",
      "Epoch 2/10, Training Loss: 1.270, Validation Loss: 1.267\n",
      "Epoch 3/10 - Validation Batch 313/313\n",
      "Epoch 3/10, Training Loss: 1.145, Validation Loss: 1.165\n",
      "Epoch 4/10 - Validation Batch 313/313\n",
      "Epoch 4/10, Training Loss: 1.075, Validation Loss: 1.158\n",
      "Epoch 5/10 - Validation Batch 313/313\n",
      "Epoch 5/10, Training Loss: 1.024, Validation Loss: 1.106\n",
      "Epoch 6/10 - Validation Batch 313/313\n",
      "Epoch 6/10, Training Loss: 0.993, Validation Loss: 1.111\n",
      "Epoch 7/10 - Validation Batch 313/313\n",
      "Epoch 7/10, Training Loss: 0.969, Validation Loss: 1.106\n",
      "Epoch 8/10 - Validation Batch 313/313\n",
      "Epoch 8/10, Training Loss: 0.950, Validation Loss: 1.137\n",
      "Epoch 9/10 - Validation Batch 313/313\n",
      "Epoch 9/10, Training Loss: 0.932, Validation Loss: 1.081\n",
      "Epoch 10/10 - Validation Batch 313/313\n",
      "Epoch 10/10, Training Loss: 0.917, Validation Loss: 1.120\n",
      "Finished Training\n"
     ]
    }
   ],
   "source": [
    "model = Basic_cnn()\n",
    "optimizer = optim.SGD(model.parameters(), lr=0.001, momentum=0.9)\n",
    "\n",
    "epoch_losses, epoch_val_losses = train_network(model, trainloader, validloader, optimizer, epochs=10)"
   ]
  },
  {
   "cell_type": "markdown",
   "id": "e2979afb-1b5e-42e8-b4d3-b8d56552e9f1",
   "metadata": {},
   "source": [
    "### Plot the model loss\n",
    "You can change the hyperparameters (learning rate and momentum or type of optimizer) and see how the loss changes."
   ]
  },
  {
   "cell_type": "code",
   "execution_count": 6,
   "id": "4aaccd13-aecd-413e-9d58-399b801b9f72",
   "metadata": {},
   "outputs": [
    {
     "data": {
      "image/png": "[encoded data removed]",
      "text/plain": [
       "<Figure size 1000x500 with 1 Axes>"
      ]
     },
     "metadata": {},
     "output_type": "display_data"
    }
   ],
   "source": [
    "plot_training_validation_loss(epoch_losses, epoch_val_losses)"
   ]
  },
  {
   "cell_type": "markdown",
   "id": "902ab7e9-b135-47f3-8fb6-eb30afb1b379",
   "metadata": {},
   "source": [
    "## Precision, Recall and F1 score\n",
    "As we have seen in class, precision and recall metrics for evaluating the performance of a classification model, especially in scenarios where the balance between false positives and false negatives is crucial. Precision measures the accuracy of positive predictions made by the model, calculated as the ratio of true positives to the sum of true and false positives. Recall, on the other hand, assesses the model's ability to identify all relevant instances, computed as the ratio of true positives to the sum of true positives and false negatives.\n",
    "\n",
    "The F1 score is the harmonic mean of precision and recall, offering a single metric that balances the two by penalizing extreme values. \n",
    "\n",
    "$$ F1 = 2 \\times \\frac{\\text{precision} \\times \\text{recall}}{\\text{precision} + \\text{recall}} \\ $$\n",
    "\n",
    "Implement the `calculate_precision()` and `calculate_recall()` functions in `utils.py` before running the next cells."
   ]
  },
  {
   "cell_type": "code",
   "execution_count": 7,
   "id": "35483b3c-d06b-464b-9904-a65d44c80bd9",
   "metadata": {},
   "outputs": [
    {
     "name": "stdout",
     "output_type": "stream",
     "text": [
      "Accuracy of the model on the test images: 62.48%\n"
     ]
    }
   ],
   "source": [
    "accuracy = calculate_accuracy(model, testloader)\n",
    "print(f'Accuracy of the model on the test images: {accuracy}%')"
   ]
  },
  {
   "cell_type": "code",
   "execution_count": 13,
   "id": "08c3f9da-008c-482b-aad9-b7d277f52b82",
   "metadata": {},
   "outputs": [],
   "source": [
    "def calculateTP_FP_FN(model, dataloader):\n",
    "    correct = [0]*10\n",
    "    false_positives = [0]*10\n",
    "    false_negatives = [0]*10\n",
    "    total = [0] * 10\n",
    "    with torch.no_grad():  # No need to calculate gradients\n",
    "        for data in dataloader:\n",
    "            images, labels = data\n",
    "            outputs = model(images)\n",
    "            _, predicted = torch.max(outputs.data, 1)\n",
    "            for i in range(10):\n",
    "                total[i] += (labels == i).sum().item()\n",
    "                correct[i] += ((predicted == i) & (labels == i)).sum().item()\n",
    "                false_positives[i] += ((predicted == i) & (labels != i)).sum().item()\n",
    "                false_negatives[i] += ((predicted != i) & (labels == i)).sum().item()\n",
    "            \n",
    "    true_positives = [correct[i] / total[i] if total[i] != 0 else 0 for i in range(10)]\n",
    "    false_positives = [false_positives[i] / total[i] if total[i] != 0 else 0 for i in range(10)]\n",
    "    false_negatives = [false_negatives[i] / total[i] if total[i] != 0 else 0 for i in range(10)]\n",
    "    return true_positives, false_positives, false_negatives"
   ]
  },
  {
   "cell_type": "code",
   "execution_count": 8,
   "id": "8493d390-a3b4-4bfa-a9cf-e6ccb4a32693",
   "metadata": {},
   "outputs": [
    {
     "name": "stdout",
     "output_type": "stream",
     "text": [
      "test true positives\n",
      "[0.641, 0.811, 0.574, 0.33, 0.552, 0.589, 0.683, 0.738, 0.712, 0.618]\n",
      "test false positives\n",
      "[0.326, 0.386, 0.746, 0.318, 0.425, 0.516, 0.232, 0.407, 0.217, 0.179]\n",
      "test false negatives\n",
      "[0.359, 0.189, 0.426, 0.67, 0.448, 0.411, 0.317, 0.262, 0.288, 0.382]\n",
      "test precision\n",
      "[0.663, 0.678, 0.435, 0.509, 0.565, 0.533, 0.746, 0.645, 0.766, 0.775]\n",
      "test recall\n",
      "[0.641, 0.811, 0.574, 0.33, 0.552, 0.589, 0.683, 0.738, 0.712, 0.618]\n",
      "test f1\n",
      "([0.652, 0.739, 0.495, 0.4, 0.558, 0.56, 0.713, 0.688, 0.738, 0.688], 0.6230999999999999)\n"
     ]
    }
   ],
   "source": [
    "\n",
    "###\n",
    "# COMPLETE THE CODE BELOW.\n",
    "# Hint: You will need to compute the number of true positives, false positives and false negatives. Take a look at the implementation of calculate_accuracy() for inspiration.\n",
    "#\n",
    "###\n",
    "\n",
    "\n",
    "true_positives, false_positives, false_negatives = calculateTP_FP_FN(model, testloader)\n",
    "print(\"test true positives\")\n",
    "print(true_positives)\n",
    "print(\"test false positives\")\n",
    "print(false_positives)\n",
    "print(\"test false negatives\")\n",
    "print(false_negatives)\n",
    "\n",
    "precision = calculate_precision(true_positives, false_positives)\n",
    "print(\"test precision\")\n",
    "print(precision)\n",
    "recall = calculate_recall(true_positives, false_negatives)\n",
    "print(\"test recall\")\n",
    "print(recall)\n",
    "f1 = calculate_f1_score(precision, recall)\n",
    "print(\"test f1\")\n",
    "print(f1)\n",
    "\n",
    "###"
   ]
  },
  {
   "cell_type": "markdown",
   "id": "b8e9c212-efb0-467d-9d48-5441c9eac110",
   "metadata": {},
   "source": [
    "## Show a few predictions with their corresponding labels"
   ]
  },
  {
   "cell_type": "code",
   "execution_count": 29,
   "id": "0dbd3b9c-ba24-4494-a13a-713275894c8c",
   "metadata": {},
   "outputs": [
    {
     "data": {
      "image/png": "[encoded data removed]",
      "text/plain": [
       "<Figure size 1000x200 with 5 Axes>"
      ]
     },
     "metadata": {},
     "output_type": "display_data"
    }
   ],
   "source": [
    "# Get a single batch of images\n",
    "dataiter = iter(testloader)\n",
    "images, labels = next(dataiter)\n",
    "\n",
    "# Model's prediction\n",
    "outputs = model(images)\n",
    "_, predicted = torch.max(outputs, 1)\n",
    "\n",
    "# Randomly sample images and their corresponding labels and predictions\n",
    "num_samples = test_batch_size  # Number of samples to display\n",
    "indices = torch.randperm(len(images))[:5]\n",
    "\n",
    "# Display random samples\n",
    "random_images = images[indices]\n",
    "random_labels = labels[indices]\n",
    "random_predicted = predicted[indices]\n",
    "\n",
    "draw_imgs_labels(random_images, random_labels, random_predicted, classes)"
   ]
  },
  {
   "cell_type": "markdown",
   "id": "995514f8-717f-4c1a-8a6b-c3285935c26d",
   "metadata": {},
   "source": [
    "### Visualize the output layer templates\n",
    "Similar to our SVM implementation, we can visualize the feature maps produced by the output layer of the CNN. Use the code below to do that."
   ]
  },
  {
   "cell_type": "code",
   "execution_count": 24,
   "id": "de5bbe3d-95ac-4cc4-a9e5-55cb0330436c",
   "metadata": {},
   "outputs": [
    {
     "data": {
      "image/png": "[encoded data removed]",
      "text/plain": [
       "<Figure size 1500x1500 with 10 Axes>"
      ]
     },
     "metadata": {},
     "output_type": "display_data"
    }
   ],
   "source": [
    "def visualize_feature_maps(feature_maps):\n",
    "    fig, axs = plt.subplots(1, feature_maps.size(1), figsize=(15, 15))\n",
    "    for i, ax in enumerate(axs):\n",
    "        ax.imshow(feature_maps[:, i].detach().numpy().reshape((4,4)), cmap='gray')\n",
    "        ax.axis('off')\n",
    "    plt.show()\n",
    "\n",
    "# Load one of the CIFAR-10 images in the next line:\n",
    "images, _ = next(iter(testloader))\n",
    "image = images\n",
    "# plt.imshow(image.detach().numpy())\n",
    "output_feature_map = model(image)\n",
    "# plt.imshow(output_feature_map.detach().numpy())\n",
    "output_feature_map[0,0]\n",
    "visualize_feature_maps(output_feature_map)"
   ]
  },
  {
   "cell_type": "markdown",
   "id": "7d6067ce-b623-40e2-a0db-a8b227fc7d2b",
   "metadata": {},
   "source": [
    "***\n",
    "## <font color='lightgreen'>Answer the following questions</font>\n",
    "1. Explain your training loss and validation loss graphs.\n",
    "2. How did the accuracy change compared to the SVM classifier we trained in Homework 2? Why?\n",
    "3. Change the training batch size to 4, 8, 16, 32, 64, and plot the final loss or accuracy as a function of the batch size. How does the accuracy/final loss change with the batch size? Why?\n",
    "4. Change the optimizer to Adam. How does that affect training time? How does that affect the accuracy? Why, in your opinion, does the accuracy depend on the choice of the optimizer? When will using a \"better\" optimizer have an adverse effect on the training accuracy?\n",
    "5. When visualizing the output layer's filters above, what do you see? Compare your results with the templates of the SVM algorithm. Are they the same? What is different? Why in your opinion is there a difference?\n",
    "***"
   ]
  },
  {
   "cell_type": "markdown",
   "id": "8186abb7-eae2-4c30-bcbf-62d18d593b7f",
   "metadata": {},
   "source": [
    "1. ניתן לראות בגרפים של האימון והבדיקה כי לאחר מספר איטרציות מתחיל להיווצר התאמת יתר לנתוני האימון. תחילה אנחנו רואים ירידה בשני הגרפים אחר לאחר מספר איטרציות הירידה מתקבלת רק עבור נתוני האימון ולא עבור נתוני הבדיקה.\n",
    "2. בשונה מהתוצאות של SVM בתרגיל זה קיבלתי דיוק של כ60 אחוז. ניתן להניח כי שיפור זה נובע בגלל האי לינאריות של המודל שלנו. אני מאמין שעם התאמה יותר טובה של ההיפר פרמטרים ואלי סיבוך נוסף של המודל (הוספת שכבות למשל) ניתן אםילו להגיע לדיוקים גובהים יותר.\n",
    "3. בהמשך\n",
    "4. בהמשך\n",
    "5. ניתן לראות שבשונה מהSVM כאן אנחנו מקבלים תמונות אמורפיות שלא ניתן לזהות בהם שום דבר. המודל הנ\"ל מורכב יותר ומוצא פיצרים שלא ניתנים לתיאור מילולי."
   ]
  },
  {
   "cell_type": "code",
   "execution_count": null,
   "id": "f1fc2a5c-ff49-4f78-9445-a7f085e4c76f",
   "metadata": {},
   "outputs": [
    {
     "name": "stdout",
     "output_type": "stream",
     "text": [
      "Training model...\n",
      "Epoch 1/10 - Training Batch 10840/11250"
     ]
    }
   ],
   "source": [
    "#Q3\n",
    "Accurasies = []\n",
    "for bs in [4,8,16,32,64]:\n",
    "    trainloader = DataLoader(trainset, batch_size=bs, sampler=train_sampler, num_workers=2)\n",
    "    validloader = DataLoader(trainset, batch_size=bs, sampler=valid_sampler, num_workers=2)\n",
    "\n",
    "    model = Basic_cnn()\n",
    "    optimizer = optim.SGD(model.parameters(), lr=0.001, momentum=0.9)\n",
    "    \n",
    "    epoch_losses, epoch_val_losses = train_network(model, trainloader, validloader, optimizer, epochs=10)\n",
    "    accuracy = calculate_accuracy(model, testloader)\n",
    "    Accurasies.append(accuracy)\n",
    "\n",
    "plt.plot([4,8,16,32,64], Accurasies)\n",
    "    "
   ]
  },
  {
   "cell_type": "markdown",
   "id": "f2bff405-be51-4fef-9b1f-19323622f383",
   "metadata": {},
   "source": [
    "נראה שתחילה הדיוק גדל ככל שמגדילים את גודל החלק אך יש נקודה שממנה הדיוק קטן. אני מעריך שהדיוק קטן כי אמנם כל איטרציה אנחנו מחשבים על יותר תמונות אך בפועל אנחנו מחשבים פחות פעמים את הגודל של הגרדיאנט ולכן בפועל מחשבים פחות איטרציות."
   ]
  },
  {
   "cell_type": "code",
   "execution_count": 13,
   "id": "37e5bb15-7091-4be4-8930-45f0a442c5d2",
   "metadata": {},
   "outputs": [
    {
     "name": "stdout",
     "output_type": "stream",
     "text": [
      "Training model...\n",
      "Epoch 1/10 - Validation Batch 313/313\n",
      "Epoch 1/10, Training Loss: 1.430, Validation Loss: 1.292\n",
      "Epoch 2/10 - Validation Batch 313/313\n",
      "Epoch 2/10, Training Loss: 1.179, Validation Loss: 1.244\n",
      "Epoch 3/10 - Validation Batch 313/313\n",
      "Epoch 3/10, Training Loss: 1.092, Validation Loss: 1.168\n",
      "Epoch 4/10 - Validation Batch 313/313\n",
      "Epoch 4/10, Training Loss: 1.044, Validation Loss: 1.135\n",
      "Epoch 5/10 - Validation Batch 313/313\n",
      "Epoch 5/10, Training Loss: 1.008, Validation Loss: 1.176\n",
      "Epoch 6/10 - Validation Batch 313/313\n",
      "Epoch 6/10, Training Loss: 0.982, Validation Loss: 1.189\n",
      "Epoch 7/10 - Validation Batch 313/313\n",
      "Epoch 7/10, Training Loss: 0.966, Validation Loss: 1.163\n",
      "Epoch 8/10 - Validation Batch 313/313\n",
      "Epoch 8/10, Training Loss: 0.942, Validation Loss: 1.201\n",
      "Epoch 9/10 - Validation Batch 313/313\n",
      "Epoch 9/10, Training Loss: 0.931, Validation Loss: 1.220\n",
      "Epoch 10/10 - Validation Batch 313/313\n",
      "Epoch 10/10, Training Loss: 0.911, Validation Loss: 1.170\n",
      "Finished Training\n"
     ]
    }
   ],
   "source": [
    "#Q4\n",
    "trainloader = DataLoader(trainset, batch_size=16, sampler=train_sampler, num_workers=2)\n",
    "validloader = DataLoader(trainset, batch_size=16, sampler=valid_sampler, num_workers=2)\n",
    "\n",
    "model = Basic_cnn()\n",
    "optimizer = optim.Adam(model.parameters(), lr=0.001)\n",
    "\n",
    "epoch_losses, epoch_val_losses = train_network(model, trainloader, validloader, optimizer, epochs=10)\n",
    "accuracy = calculate_accuracy(model, testloader)\n",
    "\n"
   ]
  },
  {
   "cell_type": "code",
   "execution_count": 14,
   "id": "cbbe91d3-f1c0-41e2-a9f2-93f996ef56bc",
   "metadata": {},
   "outputs": [
    {
     "name": "stdout",
     "output_type": "stream",
     "text": [
      "61.33\n"
     ]
    }
   ],
   "source": [
    "print(accuracy)"
   ]
  },
  {
   "cell_type": "markdown",
   "id": "2feff686-3795-4c2a-b7f6-f7e21d68f81e",
   "metadata": {},
   "source": [
    "נראה שהדיוק וזמן הריצה לא מאוד השתנו. בחירת אלגוריתם האופטימיזציה חשוב לדיוק בשל החשיבות של קביעת צעד הלמידה בכל שלב. עבור פונציה עם מספר מינימום מקומיים בחירה נכונה של אלגוריתם זה יכולה להשפיע על הצלחה או אי הצלחה של האימון."
   ]
  },
  {
   "cell_type": "markdown",
   "id": "547169b6-36f6-4bab-8f2f-ab030baac34d",
   "metadata": {},
   "source": [
    "## 3. <ins>Outperform the F1 score of the basic neural netowork by implementing your own</ins>\n",
    "Implement the Better_cnn() class, taking inspiration from the Basic_cnn() class."
   ]
  },
  {
   "cell_type": "raw",
   "id": "6deba304-9600-4c21-93fd-40da7d156715",
   "metadata": {},
   "source": [
    "def append_csv(csv_file, new_data):\n",
    "    # Define the filename for the CSV file\n",
    "\n",
    "    # Check if the CSV file exists\n",
    "    if os.path.exists(csv_file):\n",
    "        # Load the existing CSV file\n",
    "        existing_data = pd.read_csv(csv_file)\n",
    "        # Append the new data to the existing data\n",
    "        updated_data = pd.concat([existing_data, new_data]).reset_index(drop=True)\n",
    "        # Write the updated data back to the CSV file\n",
    "        updated_data.to_csv(csv_file, index=False)\n",
    "    else:\n",
    "        # If the CSV file does not exist, create it with the new data\n",
    "        new_data.to_csv(csv_file, index=False)\n",
    "\n",
    "def print_iteration_number(study, trial):\n",
    "    print(study.trials[-1].params)\n",
    "    exportDict = study.trials[-1].params\n",
    "    exportDict[\"Result\"] = study.trials[-1].value\n",
    "    append_csv(f\"Update_result_table.csv\", pd.DataFrame([exportDict]))\n",
    "    print(f\"Iteration {len(study.trials)}, loss: {study.trials[-1].value}\")\n",
    "\n",
    "\n",
    "def hyper_parameter_tuning(trainloader, validloader, testloader, n_trials, local_path, objective):\n",
    "    optuna.logging.set_verbosity(optuna.logging.ERROR)\n",
    "\n",
    "    study = optuna.create_study(direction=\"minimize\", sampler=optuna.samplers.TPESampler())\n",
    "    study.optimize(lambda trial: objective(trial, trainloader, validloader, testloader),callbacks=[lambda study, trial: print_iteration_number(study, trial)], \n",
    "                   n_trials=n_trials)\n",
    "    df_summary = study.trials_dataframe()\n",
    "    output_summary = local_path + f\"/df_pref_tune_{Axis}.csv\"\n",
    "\n",
    "    df_summary.to_csv(output_summary)\n",
    "\n",
    "def objective(trail, trainloader, validloader, testloader):\n",
    "    # learningRate = trail.suggest_float(\"LearningRate\", 0.001,0.005)\n",
    "    # momentumS = trail.suggest_float(\"momentum\", 0.7,0.9)\n",
    "    numfilter1 = int(trail.suggest_categorical(\"filter1\", [128, 256, 516]))\n",
    "    numfilter2 =  int(trail.suggest_categorical(\"filter2\", [128, 256, 516]))\n",
    "    optimizerType = trail.suggest_categorical('optimizer', [\"Adam\", \"RMSprop\", \"SGD\"])\n",
    "    wd = trail.suggest_float(\"wd\", 0.0001, 0.0005)\n",
    "    \n",
    "    model = Better_cnn(numfilter1, numfilter2)\n",
    "\n",
    "    if optimizerType == 'SGD':\n",
    "        optimizer = optim.SGD(model.parameters(), lr=0.001, momentum=0.9, weight_decay=wd, nesterov=True)\n",
    "    elif optimizerType == 'Adam':\n",
    "        optimizer = optim.Adam(model.parameters(), lr=0.001, eps=1e-8, amsgrad=False, weight_decay=wd)\n",
    "    elif optimizerType == 'RMSprop':\n",
    "        optimizer = optim.RMSprop(model.parameters(), lr=0.001, alpha=0.99, weight_decay=wd, momentum=0.9)\n",
    "    \n",
    "    epoch_losses, epoch_val_losses = train_network(model, trainloader, validloader, optimizer, epochs=5)\n",
    "    accuracy = calculate_accuracy(model, testloader)\n",
    "    print(f\"accuracy - {accuracy}%\") \n",
    "    return epoch_val_losses[-1]"
   ]
  },
  {
   "cell_type": "code",
   "execution_count": 11,
   "id": "67861103-5f33-430f-98ca-f28b56a92be4",
   "metadata": {},
   "outputs": [
    {
     "name": "stdout",
     "output_type": "stream",
     "text": [
      "Training model...\n",
      "Epoch 1/10 - Validation Batch 313/313\n",
      "Epoch 1/10, Training Loss: 1.353, Validation Loss: 1.148\n",
      "Epoch 2/10 - Validation Batch 313/313\n",
      "Epoch 2/10, Training Loss: 1.033, Validation Loss: 1.027\n",
      "Epoch 3/10 - Validation Batch 313/313\n",
      "Epoch 3/10, Training Loss: 0.904, Validation Loss: 0.923\n",
      "Epoch 4/10 - Validation Batch 313/313\n",
      "Epoch 4/10, Training Loss: 0.813, Validation Loss: 0.883\n",
      "Epoch 5/10 - Validation Batch 313/313\n",
      "Epoch 5/10, Training Loss: 0.743, Validation Loss: 0.829\n",
      "Epoch 6/10 - Validation Batch 313/313\n",
      "Epoch 6/10, Training Loss: 0.683, Validation Loss: 0.820\n",
      "Epoch 7/10 - Validation Batch 313/313\n",
      "Epoch 7/10, Training Loss: 0.630, Validation Loss: 0.792\n",
      "Epoch 8/10 - Validation Batch 313/313\n",
      "Epoch 8/10, Training Loss: 0.580, Validation Loss: 0.785\n",
      "Epoch 9/10 - Validation Batch 313/313\n",
      "Epoch 9/10, Training Loss: 0.533, Validation Loss: 0.764\n",
      "Epoch 10/10 - Validation Batch 313/313\n",
      "Epoch 10/10, Training Loss: 0.493, Validation Loss: 0.761\n",
      "Finished Training\n"
     ]
    }
   ],
   "source": [
    "model = Better_cnn(128, 516)\n",
    "\n",
    "# model = Better_cnn(8, 4)\n",
    "\n",
    "# trainloader = DataLoader(trainset, batch_size=16, sampler=train_sampler, num_workers=2)\n",
    "# validloader = DataLoader(trainset, batch_size=16, sampler=valid_sampler, num_workers=2)\n",
    "\n",
    "# for i, (inputs, labels) in enumerate(trainloader):\n",
    "#      print(inputs.size())\n",
    "#      print(labels.size())\n",
    "\n",
    "\n",
    "# optimizer = optim.Adam(model.parameters(), lr=0.001)\n",
    "optimizer = optim.SGD(model.parameters(), lr=0.001, momentum=0.9, weight_decay=0.0004, nesterov=True)\n",
    "epoch_losses, epoch_val_losses = train_network(model, trainloader, validloader, optimizer, epochs=10)\n"
   ]
  },
  {
   "cell_type": "markdown",
   "id": "39c2e3d0-2c54-4bb0-ad93-85fd1cd8b0a0",
   "metadata": {},
   "source": [
    "### Plot the model loss"
   ]
  },
  {
   "cell_type": "code",
   "execution_count": 12,
   "id": "b8c2919b-0b9b-4062-983a-6ac083fba3da",
   "metadata": {},
   "outputs": [
    {
     "data": {
      "image/png": "[encoded data removed]",
      "text/plain": [
       "<Figure size 1000x500 with 1 Axes>"
      ]
     },
     "metadata": {},
     "output_type": "display_data"
    }
   ],
   "source": [
    "plot_training_validation_loss(epoch_losses, epoch_val_losses)"
   ]
  },
  {
   "cell_type": "code",
   "execution_count": 14,
   "id": "ee7d2045-5551-41f2-b2f8-3c03d57a03b1",
   "metadata": {},
   "outputs": [
    {
     "name": "stdout",
     "output_type": "stream",
     "text": [
      "Accuracy of the model on the test images: 74.42%\n",
      "test f1\n",
      "([0.777, 0.836, 0.658, 0.57, 0.703, 0.638, 0.811, 0.789, 0.839, 0.816], 0.7437)\n"
     ]
    }
   ],
   "source": [
    "accuracy = calculate_accuracy(model, testloader)\n",
    "print(f'Accuracy of the model on the test images: {accuracy}%')\n",
    "\n",
    "###\n",
    "true_positives, false_positives, false_negatives = calculateTP_FP_FN(model, testloader)\n",
    "precision = calculate_precision(true_positives, false_positives)\n",
    "recall = calculate_recall(true_positives, false_negatives)\n",
    "f1 = calculate_f1_score(precision, recall)\n",
    "print(\"test f1\")\n",
    "print(f1)\n",
    "# Use the code you wrote above to compute the F-1 score of Better_CNN()\n",
    "###"
   ]
  },
  {
   "cell_type": "code",
   "execution_count": null,
   "id": "5814a94a-b28f-4e0c-8288-1d1cfa71d223",
   "metadata": {},
   "outputs": [],
   "source": [
    "# Get a single batch of images\n",
    "dataiter = iter(testloader)\n",
    "images, labels = next(dataiter)\n",
    "\n",
    "# Model's prediction\n",
    "outputs = model(images)\n",
    "_, predicted = torch.max(outputs, 1)\n",
    "\n",
    "# Randomly sample images and their corresponding labels and predictions\n",
    "num_samples = test_batch_size  # Number of samples to display\n",
    "indices = torch.randperm(len(images))[:5]\n",
    "\n",
    "# Display random samples\n",
    "random_images = images[indices]\n",
    "random_labels = labels[indices]\n",
    "random_predicted = predicted[indices]\n",
    "\n",
    "draw_imgs_labels(random_images, random_labels, random_predicted, classes)"
   ]
  },
  {
   "cell_type": "markdown",
   "id": "af1c66e4-03cd-451b-b3c8-5f588c1703b9",
   "metadata": {},
   "source": [
    "***\n",
    "## <font color='lightgreen'>Answer the following questions</font>\n",
    "1. Adjust the model until it achieves 80% accuracy in 10 epoches or less. Try different hyperparameters, layers and regularization methods.\n",
    "2. Print and explain the structure(layers) of your neural network. Note: you cannot use ChatGPT (or any other large language model) to do this task. Even if you used chatGPT (or one of its amigos) to write code, you have to explain the neural network in your own words.\n",
    "3. Identify the layer that had the greatest positive effect on the accuracy. Hint: you do not have to train the entire network over all epochs! Why do you think it influenced the most?\n",
    "***"
   ]
  },
  {
   "cell_type": "markdown",
   "id": "b71595a9-8f20-4df0-97a9-4513dd16ce80",
   "metadata": {},
   "source": [
    "1. אחרי הרבה נסיונות (מצורף אקסל עם ההרצות השונות) הדיוק הגבוה ביותר שהגעתי אליו הוא 73%. בנוסף לאקסל ניסיתי מספר רשתוות עם שלוש וארבע שכבות קונבולוציה ועדיין לא הגעתי לדיוק טוב יותר.\n",
    "2. הסבר על הרשת מצורף במסמך נפרד\n",
    "3. לא היה לי זמן לענות על השאלה, דורש הרבה שינויים במבנה של המודל מבחינת הגדלים שמקבלים אם מורידים חלק מסויים. מקווה שזה לא יוריד יותר מידי נקודות."
   ]
  },
  {
   "cell_type": "markdown",
   "id": "b14550d8-de6a-48ab-9664-ad819b3fef56",
   "metadata": {},
   "source": [
    "## 4. ResNet and Transfer Learning\n"
   ]
  },
  {
   "cell_type": "markdown",
   "id": "cea640c1-a51c-41ed-a443-479bccf99c90",
   "metadata": {},
   "source": [
    "ResNet is a convolutional neural network that uses skip connections to improve performance. As the basis (backbone) for many object detection convolutional neural networks, ResNet is one of the most widely used CNNs. The complexity of a ResNet neural network can be determined by the number that follows the CNN name. For example, ResNet-18 has 18 layers compared to the more complicated ResNet-101 which has 101 layers. More complex models can determine more complex and non-linear patterns in data.\n",
    "\n",
    "ResNet was trained on ImageNet, a large dataset of classified images. ImageNet has more than 10 classes (like CIFAR-10 has), so to use transfer learning we would need to adjust the output layer of ResNet to match the number of classes in CIFAR-10.\n",
    "\n",
    "In this assignment, you will train different versions of ResNet on the CIFAR-10 dataset and compare them to the neural network you developed above."
   ]
  },
  {
   "cell_type": "markdown",
   "id": "33bc9b29-9656-4bf8-b786-ffded4bd20ad",
   "metadata": {},
   "source": [
    "### 4a. Pretrained ResNet-18"
   ]
  },
  {
   "cell_type": "markdown",
   "id": "590b124f-9db7-4b1e-98ba-6914e4290a4f",
   "metadata": {},
   "source": [
    "Download ResNet-18 previously trained on ImageNet data:"
   ]
  },
  {
   "cell_type": "code",
   "execution_count": 35,
   "id": "bdfe91dd-0da1-4eab-bdca-cd7f1ce7ceb5",
   "metadata": {},
   "outputs": [
    {
     "name": "stderr",
     "output_type": "stream",
     "text": [
      "C:\\Users\\DELL\\anaconda33\\envs\\HW4_amen\\Lib\\site-packages\\torchvision\\models\\_utils.py:208: UserWarning: The parameter 'pretrained' is deprecated since 0.13 and may be removed in the future, please use 'weights' instead.\n",
      "  warnings.warn(\n",
      "C:\\Users\\DELL\\anaconda33\\envs\\HW4_amen\\Lib\\site-packages\\torchvision\\models\\_utils.py:223: UserWarning: Arguments other than a weight enum or `None` for 'weights' are deprecated since 0.13 and may be removed in the future. The current behavior is equivalent to passing `weights=ResNet18_Weights.IMAGENET1K_V1`. You can also use `weights=ResNet18_Weights.DEFAULT` to get the most up-to-date weights.\n",
      "  warnings.warn(msg)\n",
      "Downloading: \"https://download.pytorch.org/models/resnet18-f37072fd.pth\" to C:\\Users\\DELL/.cache\\torch\\hub\\checkpoints\\resnet18-f37072fd.pth\n",
      "100%|█████████████████████████████████████████████████████████████████████████████| 44.7M/44.7M [00:18<00:00, 2.51MB/s]\n"
     ]
    }
   ],
   "source": [
    "# Download pre-trained ResNet 18 (18 layers)\n",
    "resnet18 = models.resnet18(pretrained=True)\n",
    "\n",
    "# Modify the last fully connected layer (fc) for CIFAR-10. We need to do this as ResNet was pretrained on ImageNet, which has more classes.\n",
    "num_ftrs = resnet18.fc.in_features\n",
    "resnet18.fc = nn.Linear(num_ftrs, 10) \n",
    "\n",
    "# Use the GPU if available\n",
    "device = torch.device(\"cuda:0\" if torch.cuda.is_available() else \"cpu\")\n",
    "resnet18 = resnet18.to(device)"
   ]
  },
  {
   "cell_type": "markdown",
   "id": "a9e4f499-71e2-43a3-85d1-501b9c37ff55",
   "metadata": {},
   "source": [
    "Evaluate ResNet-18 on the CIFAR-10 dataset:"
   ]
  },
  {
   "cell_type": "code",
   "execution_count": 36,
   "id": "af009e4d-5001-48e0-87b2-66398f50185e",
   "metadata": {},
   "outputs": [
    {
     "name": "stdout",
     "output_type": "stream",
     "text": [
      "Accuracy of the ResNet18 on CIFAR-10 test images: 9.31%\n",
      "Average loss: 2.378617398452759\n"
     ]
    }
   ],
   "source": [
    "resnet18.eval()  # Set the model to evaluation mode\n",
    "criterion = nn.CrossEntropyLoss()\n",
    "\n",
    "correct = 0\n",
    "total = 0\n",
    "running_loss = 0.0\n",
    "\n",
    "with torch.no_grad():  # As we have seen in the workshop, inference doesn't require gradients; this is set using the no_grad function.\n",
    "    for data in testloader:\n",
    "        images, labels = data[0].to(device), data[1].to(device)\n",
    "        outputs = resnet18(images)\n",
    "        loss = criterion(outputs, labels)\n",
    "        running_loss += loss.item()\n",
    "        _, predicted = torch.max(outputs.data, 1)\n",
    "        total += labels.size(0)\n",
    "        correct += (predicted == labels).sum().item()\n",
    "\n",
    "print(f'Accuracy of the ResNet18 on CIFAR-10 test images: {100 * correct / total}%')\n",
    "print(f'Average loss: {running_loss / len(testloader)}')"
   ]
  },
  {
   "cell_type": "markdown",
   "id": "e12d8f80-c819-4889-8d20-f8eff378a40e",
   "metadata": {},
   "source": [
    "### 4b. Transfer learning with ResNet-18"
   ]
  },
  {
   "cell_type": "markdown",
   "id": "4aad96cd-45b4-4c6a-b9a5-8d6dc1ccc855",
   "metadata": {},
   "source": [
    "Now, we will use transfer learning and tune ResNet by training it on the CIFAR-10 database. This should improve performance.\n",
    "\n",
    "To use transfer learning, we will \"freeze\" the weights of the first layers of ResNet; when training, only the weights of the last layers in the network (which are used to detect abstract features) will change. This will guarantee the network still remembers its training on ImageNet for basic features like edges, lines and circles but becomes expert in detecting CIFAR-10 images.\n",
    "\n",
    "Train the network using transfer learning by running the cell below. Training might take a little time on cpu; but do not change the number of epoches."
   ]
  },
  {
   "cell_type": "code",
   "execution_count": 38,
   "id": "2a70b4d0-3ee7-44ce-9857-9683274b95f5",
   "metadata": {},
   "outputs": [
    {
     "name": "stdout",
     "output_type": "stream",
     "text": [
      "Training model...\n",
      "Epoch 1/10 - Validation Batch 313/313\n",
      "Epoch 1/10, Training Loss: 1.783, Validation Loss: 1.791\n",
      "Epoch 2/10 - Validation Batch 313/313\n",
      "Epoch 2/10, Training Loss: 1.725, Validation Loss: 1.732\n",
      "Epoch 3/10 - Validation Batch 313/313\n",
      "Epoch 3/10, Training Loss: 1.717, Validation Loss: 1.730\n",
      "Epoch 4/10 - Validation Batch 313/313\n",
      "Epoch 4/10, Training Loss: 1.720, Validation Loss: 1.721\n",
      "Epoch 5/10 - Validation Batch 313/313\n",
      "Epoch 5/10, Training Loss: 1.715, Validation Loss: 1.722\n",
      "Epoch 6/10 - Validation Batch 313/313\n",
      "Epoch 6/10, Training Loss: 1.711, Validation Loss: 1.738\n",
      "Epoch 7/10 - Validation Batch 313/313\n",
      "Epoch 7/10, Training Loss: 1.718, Validation Loss: 1.710\n",
      "Epoch 8/10 - Validation Batch 313/313\n",
      "Epoch 8/10, Training Loss: 1.718, Validation Loss: 1.732\n",
      "Epoch 9/10 - Validation Batch 313/313\n",
      "Epoch 9/10, Training Loss: 1.724, Validation Loss: 1.746\n",
      "Epoch 10/10 - Validation Batch 313/313\n",
      "Epoch 10/10, Training Loss: 1.714, Validation Loss: 1.690\n",
      "Finished Training\n"
     ]
    }
   ],
   "source": [
    "# Define optimizer for the newly added final layer\n",
    "optimizer = torch.optim.Adam(resnet18.fc.parameters(), lr=0.001)\n",
    "\n",
    "# Assuming trainloader and validloader are already defined and loaded with CIFAR-10\n",
    "epoch_losses, epoch_val_losses = train_network(resnet18, trainloader, validloader, optimizer, epochs=10)"
   ]
  },
  {
   "cell_type": "code",
   "execution_count": 39,
   "id": "a4b7c565-d6ea-4af1-a829-303bcd631d05",
   "metadata": {},
   "outputs": [
    {
     "name": "stdout",
     "output_type": "stream",
     "text": [
      "Accuracy of the ResNet18 on CIFAR-10 test images after transfer learning: 43.18%\n"
     ]
    }
   ],
   "source": [
    "resnet18.eval()  # Set the model to evaluation mode\n",
    "\n",
    "correct = 0\n",
    "total = 0\n",
    "with torch.no_grad(): # As we have seen in the workshop, inference doesn't require gradients; this is set using the no_grad function.\n",
    "    for data in testloader:\n",
    "        images, labels = data[0].to(device), data[1].to(device)\n",
    "        outputs = resnet18(images)\n",
    "        _, predicted = torch.max(outputs.data, 1)\n",
    "        total += labels.size(0)\n",
    "        correct += (predicted == labels).sum().item()\n",
    "\n",
    "print(f'Accuracy of the ResNet18 on CIFAR-10 test images after transfer learning: {100 * correct / total}%')\n"
   ]
  },
  {
   "cell_type": "markdown",
   "id": "b28fd22c-1b4d-4f0e-aba1-a5ea5cedc8a0",
   "metadata": {},
   "source": [
    "### 4b. ResNet-101\n",
    "ResNet 101 is a residual neural network pre-trained on the ImageNet databse, with 101 layers."
   ]
  },
  {
   "cell_type": "code",
   "execution_count": 41,
   "id": "30296626-4cfe-4944-97ba-e287192122d7",
   "metadata": {},
   "outputs": [
    {
     "name": "stderr",
     "output_type": "stream",
     "text": [
      "C:\\Users\\DELL\\anaconda33\\envs\\HW4_amen\\Lib\\site-packages\\torchvision\\models\\_utils.py:223: UserWarning: Arguments other than a weight enum or `None` for 'weights' are deprecated since 0.13 and may be removed in the future. The current behavior is equivalent to passing `weights=ResNet101_Weights.IMAGENET1K_V1`. You can also use `weights=ResNet101_Weights.DEFAULT` to get the most up-to-date weights.\n",
      "  warnings.warn(msg)\n",
      "Downloading: \"https://download.pytorch.org/models/resnet101-63fe2227.pth\" to C:\\Users\\DELL/.cache\\torch\\hub\\checkpoints\\resnet101-63fe2227.pth\n",
      "100%|████████████████████████████████████████████████████████████████████████████████| 171M/171M [03:50<00:00, 776kB/s]\n"
     ]
    }
   ],
   "source": [
    "# Download pre-trained ResNet 101\n",
    "resnet101 = models.resnet101(pretrained=True)\n",
    "\n",
    "# Modify the last fully connected layer (fc) for CIFAR-10. We need to do this as ResNet was pretrained on ImageNet, which has more classes.\n",
    "num_ftrs = resnet101.fc.in_features\n",
    "resnet101.fc = nn.Linear(num_ftrs, 10)\n",
    "\n",
    "# Use the GPU if available\n",
    "device = torch.device(\"cuda:0\" if torch.cuda.is_available() else \"cpu\")\n",
    "resnet101 = resnet101.to(device)"
   ]
  },
  {
   "cell_type": "code",
   "execution_count": 42,
   "id": "102e4d64-d3a4-4bf3-b445-a5dfa64f8643",
   "metadata": {},
   "outputs": [
    {
     "name": "stdout",
     "output_type": "stream",
     "text": [
      "Accuracy of the ResNet101 on CIFAR-10 test images: 12.29%\n",
      "Average loss: 2.5375401529312134\n"
     ]
    }
   ],
   "source": [
    "resnet101.eval()  # Set the model to evaluation mode\n",
    "criterion = nn.CrossEntropyLoss()\n",
    "\n",
    "correct = 0\n",
    "total = 0\n",
    "running_loss = 0.0\n",
    "\n",
    "with torch.no_grad():  # As we have seen in the workshop, inference doesn't require gradients; this is set using the no_grad function.\n",
    "    for data in testloader:\n",
    "        images, labels = data[0].to(device), data[1].to(device)\n",
    "        outputs = resnet101(images)\n",
    "        loss = criterion(outputs, labels)\n",
    "        running_loss += loss.item()\n",
    "        _, predicted = torch.max(outputs.data, 1)\n",
    "        total += labels.size(0)\n",
    "        correct += (predicted == labels).sum().item()\n",
    "\n",
    "print(f'Accuracy of the ResNet101 on CIFAR-10 test images: {100 * correct / total}%')\n",
    "print(f'Average loss: {running_loss / len(testloader)}')"
   ]
  },
  {
   "cell_type": "markdown",
   "id": "60d63207-c538-4099-96f4-aa7105e41607",
   "metadata": {},
   "source": [
    "***\n",
    "## <font color='lightgreen'>Answer the following questions</font>\n",
    "1. What happened to the training accuracy when you used transfer learning with ResNet-18? Why do you think this is the case?\n",
    "2. Which network performed best on CIFAR-10? Was it the pretrained ResNet-18, transfer-learned ResNet-18 or ResNet-101? Is that what you would expect? Explain."
   ]
  },
  {
   "cell_type": "markdown",
   "id": "dbb63e92-36d5-4b16-9d76-66dbf20dbb23",
   "metadata": {},
   "source": [
    "1. בדומה לציפייה שלי, לפני שאימנתי את המודל על התמונות שלי הדיוק של הסיווג היה מאוד נמוך (פחות מ10 אחוז). לאחר האימון אשר אמור להתאים את המודל לתמונות שלנו קיבלנו תוצאה טובה יותר אך עדיין לא מספיק טוב כ-45 אחוז. ניתן להבין שהמודל הינו מורכב מידי עבור תמונות אלו ועל כל חוו התאמת יתר לנתוני האימון.\n",
    "2. התוצאות הטובות ביותר היו עבור resMet18 לאחר שאימנתי אותה פעם נוספת. זה הגיוני מפני ששתי הרשתות האחרונות אומנו על קבוצת תמונות אחרת ובכלל המורכבות שלהם קיבלו התאמת יתר לתמונות אלו."
   ]
  }
 ],
 "metadata": {
  "kernelspec": {
   "display_name": "Python 3 (ipykernel)",
   "language": "python",
   "name": "python3"
  },
  "language_info": {
   "codemirror_mode": {
    "name": "ipython",
    "version": 3
   },
   "file_extension": ".py",
   "mimetype": "text/x-python",
   "name": "python",
   "nbconvert_exporter": "python",
   "pygments_lexer": "ipython3",
   "version": "3.12.2"
  }
 },
 "nbformat": 4,
 "nbformat_minor": 5
}
