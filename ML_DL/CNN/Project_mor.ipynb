{
 "cells": [
  {
   "cell_type": "code",
   "execution_count": 1,
   "id": "9dc10e23-53d4-4824-95be-9e06153c3921",
   "metadata": {},
   "outputs": [],
   "source": [
    "import numpy as np\n",
    "import matplotlib\n",
    "import matplotlib.pyplot as plt\n",
    "import matplotlib.patches as patches\n",
    "import torch\n",
    "import pandas as pd\n",
    "import cv2\n",
    "\n",
    "import os\n",
    "import torch\n",
    "from ultralytics import YOLO"
   ]
  },
  {
   "cell_type": "code",
   "execution_count": 2,
   "id": "8a5e50c4-66c7-4a3f-a63b-221710be4d82",
   "metadata": {},
   "outputs": [],
   "source": [
    "model = YOLO('yolov8n.pt')"
   ]
  },
  {
   "cell_type": "code",
   "execution_count": 5,
   "id": "28eac7b3-bdc9-477f-bbe5-05aa00e3d8f5",
   "metadata": {
    "scrolled": true
   },
   "outputs": [
    {
     "name": "stdout",
     "output_type": "stream",
     "text": [
      "New https://pypi.org/project/ultralytics/8.1.47 available  Update with 'pip install -U ultralytics'\n",
      "Ultralytics YOLOv8.1.43  Python-3.12.2 torch-2.2.2 CPU (Intel Core(TM) i7-1065G7 1.30GHz)\n",
      "\u001b[34m\u001b[1mengine\\trainer: \u001b[0mtask=detect, mode=train, model=yolov8n.pt, data=./data1.yaml, epochs=100, time=None, patience=100, batch=16, imgsz=640, save=True, save_period=-1, cache=False, device=None, workers=8, project=None, name=train10, exist_ok=False, pretrained=True, optimizer=auto, verbose=True, seed=0, deterministic=True, single_cls=False, rect=False, cos_lr=False, close_mosaic=10, resume=False, amp=True, fraction=1.0, profile=False, freeze=None, multi_scale=False, overlap_mask=True, mask_ratio=4, dropout=0.0, val=True, split=val, save_json=False, save_hybrid=False, conf=None, iou=0.7, max_det=300, half=False, dnn=False, plots=True, source=None, vid_stride=1, stream_buffer=False, visualize=False, augment=False, agnostic_nms=False, classes=None, retina_masks=False, embed=None, show=False, save_frames=False, save_txt=False, save_conf=False, save_crop=False, show_labels=True, show_conf=True, show_boxes=True, line_width=None, format=torchscript, keras=False, optimize=False, int8=False, dynamic=False, simplify=False, opset=None, workspace=4, nms=False, lr0=0.01, lrf=0.01, momentum=0.937, weight_decay=0.0005, warmup_epochs=3.0, warmup_momentum=0.8, warmup_bias_lr=0.1, box=7.5, cls=0.5, dfl=1.5, pose=12.0, kobj=1.0, label_smoothing=0.0, nbs=64, hsv_h=0.015, hsv_s=0.7, hsv_v=0.4, degrees=0.0, translate=0.1, scale=0.5, shear=0.0, perspective=0.0, flipud=0.0, fliplr=0.5, bgr=0.0, mosaic=1.0, mixup=0.0, copy_paste=0.0, auto_augment=randaugment, erasing=0.4, crop_fraction=1.0, cfg=None, tracker=botsort.yaml, save_dir=runs\\detect\\train10\n",
      "Overriding model.yaml nc=80 with nc=1\n",
      "\n",
      "                   from  n    params  module                                       arguments                     \n",
      "  0                  -1  1       464  ultralytics.nn.modules.conv.Conv             [3, 16, 3, 2]                 \n",
      "  1                  -1  1      4672  ultralytics.nn.modules.conv.Conv             [16, 32, 3, 2]                \n",
      "  2                  -1  1      7360  ultralytics.nn.modules.block.C2f             [32, 32, 1, True]             \n",
      "  3                  -1  1     18560  ultralytics.nn.modules.conv.Conv             [32, 64, 3, 2]                \n",
      "  4                  -1  2     49664  ultralytics.nn.modules.block.C2f             [64, 64, 2, True]             \n",
      "  5                  -1  1     73984  ultralytics.nn.modules.conv.Conv             [64, 128, 3, 2]               \n",
      "  6                  -1  2    197632  ultralytics.nn.modules.block.C2f             [128, 128, 2, True]           \n",
      "  7                  -1  1    295424  ultralytics.nn.modules.conv.Conv             [128, 256, 3, 2]              \n",
      "  8                  -1  1    460288  ultralytics.nn.modules.block.C2f             [256, 256, 1, True]           \n",
      "  9                  -1  1    164608  ultralytics.nn.modules.block.SPPF            [256, 256, 5]                 \n",
      " 10                  -1  1         0  torch.nn.modules.upsampling.Upsample         [None, 2, 'nearest']          \n",
      " 11             [-1, 6]  1         0  ultralytics.nn.modules.conv.Concat           [1]                           \n",
      " 12                  -1  1    148224  ultralytics.nn.modules.block.C2f             [384, 128, 1]                 \n",
      " 13                  -1  1         0  torch.nn.modules.upsampling.Upsample         [None, 2, 'nearest']          \n",
      " 14             [-1, 4]  1         0  ultralytics.nn.modules.conv.Concat           [1]                           \n",
      " 15                  -1  1     37248  ultralytics.nn.modules.block.C2f             [192, 64, 1]                  \n",
      " 16                  -1  1     36992  ultralytics.nn.modules.conv.Conv             [64, 64, 3, 2]                \n",
      " 17            [-1, 12]  1         0  ultralytics.nn.modules.conv.Concat           [1]                           \n",
      " 18                  -1  1    123648  ultralytics.nn.modules.block.C2f             [192, 128, 1]                 \n",
      " 19                  -1  1    147712  ultralytics.nn.modules.conv.Conv             [128, 128, 3, 2]              \n",
      " 20             [-1, 9]  1         0  ultralytics.nn.modules.conv.Concat           [1]                           \n",
      " 21                  -1  1    493056  ultralytics.nn.modules.block.C2f             [384, 256, 1]                 \n",
      " 22        [15, 18, 21]  1    751507  ultralytics.nn.modules.head.Detect           [1, [64, 128, 256]]           \n",
      "Model summary: 225 layers, 3011043 parameters, 3011027 gradients\n",
      "\n",
      "Transferred 319/355 items from pretrained weights\n",
      "Freezing layer 'model.22.dfl.conv.weight'\n"
     ]
    },
    {
     "name": "stderr",
     "output_type": "stream",
     "text": [
      "\u001b[34m\u001b[1mtrain: \u001b[0mScanning C:\\Users\\DELL\\Documents\\python\\MachineLerning\\Project\\datasets\\train\\labels... 711 images, 35 backgroun\u001b[0m\n"
     ]
    },
    {
     "name": "stdout",
     "output_type": "stream",
     "text": [
      "\u001b[34m\u001b[1mtrain: \u001b[0mNew cache created: C:\\Users\\DELL\\Documents\\python\\MachineLerning\\Project\\datasets\\train\\labels.cache\n"
     ]
    },
    {
     "name": "stderr",
     "output_type": "stream",
     "text": [
      "\u001b[34m\u001b[1mval: \u001b[0mScanning C:\\Users\\DELL\\Documents\\python\\MachineLerning\\Project\\datasets\\valid\\labels... 203 images, 8 backgrounds,\u001b[0m\n"
     ]
    },
    {
     "name": "stdout",
     "output_type": "stream",
     "text": [
      "\u001b[34m\u001b[1mval: \u001b[0mNew cache created: C:\\Users\\DELL\\Documents\\python\\MachineLerning\\Project\\datasets\\valid\\labels.cache\n",
      "Plotting labels to runs\\detect\\train10\\labels.jpg... \n",
      "\u001b[34m\u001b[1moptimizer:\u001b[0m 'optimizer=auto' found, ignoring 'lr0=0.01' and 'momentum=0.937' and determining best 'optimizer', 'lr0' and 'momentum' automatically... \n",
      "\u001b[34m\u001b[1moptimizer:\u001b[0m AdamW(lr=0.002, momentum=0.9) with parameter groups 57 weight(decay=0.0), 64 weight(decay=0.0005), 63 bias(decay=0.0)\n",
      "Image sizes 640 train, 640 val\n",
      "Using 0 dataloader workers\n",
      "Logging results to \u001b[1mruns\\detect\\train10\u001b[0m\n",
      "Starting training for 100 epochs...\n",
      "\n",
      "      Epoch    GPU_mem   box_loss   cls_loss   dfl_loss  Instances       Size\n"
     ]
    },
    {
     "name": "stderr",
     "output_type": "stream",
     "text": [
      "      1/100         0G      2.437      2.693      1.305         93        640: 100%|██████████| 45/45 [06:08<00:00,  8.\n",
      "                 Class     Images  Instances      Box(P          R      mAP50  mAP50-95): 100%|██████████| 7/7 [00:25<0"
     ]
    },
    {
     "name": "stdout",
     "output_type": "stream",
     "text": [
      "                   all        203       1202    0.00974      0.493     0.0748     0.0269\n"
     ]
    },
    {
     "name": "stderr",
     "output_type": "stream",
     "text": [
      "\n"
     ]
    },
    {
     "name": "stdout",
     "output_type": "stream",
     "text": [
      "\n",
      "      Epoch    GPU_mem   box_loss   cls_loss   dfl_loss  Instances       Size\n"
     ]
    },
    {
     "name": "stderr",
     "output_type": "stream",
     "text": [
      "      2/100         0G      2.347      1.939      1.263        110        640: 100%|██████████| 45/45 [06:02<00:00,  8.\n",
      "                 Class     Images  Instances      Box(P          R      mAP50  mAP50-95): 100%|██████████| 7/7 [00:22<0"
     ]
    },
    {
     "name": "stdout",
     "output_type": "stream",
     "text": [
      "                   all        203       1202      0.874     0.0636      0.135     0.0657\n"
     ]
    },
    {
     "name": "stderr",
     "output_type": "stream",
     "text": [
      "\n"
     ]
    },
    {
     "name": "stdout",
     "output_type": "stream",
     "text": [
      "\n",
      "      Epoch    GPU_mem   box_loss   cls_loss   dfl_loss  Instances       Size\n"
     ]
    },
    {
     "name": "stderr",
     "output_type": "stream",
     "text": [
      "      3/100         0G      2.326      1.791      1.247         67        640: 100%|██████████| 45/45 [05:59<00:00,  7.\n",
      "                 Class     Images  Instances      Box(P          R      mAP50  mAP50-95): 100%|██████████| 7/7 [00:22<0"
     ]
    },
    {
     "name": "stdout",
     "output_type": "stream",
     "text": [
      "                   all        203       1202      0.427      0.452      0.377      0.146\n"
     ]
    },
    {
     "name": "stderr",
     "output_type": "stream",
     "text": [
      "\n"
     ]
    },
    {
     "name": "stdout",
     "output_type": "stream",
     "text": [
      "\n",
      "      Epoch    GPU_mem   box_loss   cls_loss   dfl_loss  Instances       Size\n"
     ]
    },
    {
     "name": "stderr",
     "output_type": "stream",
     "text": [
      "      4/100         0G      2.313      1.725      1.271         65        640: 100%|██████████| 45/45 [05:59<00:00,  7.\n",
      "                 Class     Images  Instances      Box(P          R      mAP50  mAP50-95): 100%|██████████| 7/7 [00:23<0"
     ]
    },
    {
     "name": "stdout",
     "output_type": "stream",
     "text": [
      "                   all        203       1202      0.551      0.445      0.463      0.177\n"
     ]
    },
    {
     "name": "stderr",
     "output_type": "stream",
     "text": [
      "\n"
     ]
    },
    {
     "name": "stdout",
     "output_type": "stream",
     "text": [
      "\n",
      "      Epoch    GPU_mem   box_loss   cls_loss   dfl_loss  Instances       Size\n"
     ]
    },
    {
     "name": "stderr",
     "output_type": "stream",
     "text": [
      "      5/100         0G      2.251      1.569      1.238         74        640: 100%|██████████| 45/45 [05:55<00:00,  7.\n",
      "                 Class     Images  Instances      Box(P          R      mAP50  mAP50-95): 100%|██████████| 7/7 [00:22<0"
     ]
    },
    {
     "name": "stdout",
     "output_type": "stream",
     "text": [
      "                   all        203       1202      0.538       0.46      0.453      0.167\n"
     ]
    },
    {
     "name": "stderr",
     "output_type": "stream",
     "text": [
      "\n"
     ]
    },
    {
     "name": "stdout",
     "output_type": "stream",
     "text": [
      "\n",
      "      Epoch    GPU_mem   box_loss   cls_loss   dfl_loss  Instances       Size\n"
     ]
    },
    {
     "name": "stderr",
     "output_type": "stream",
     "text": [
      "      6/100         0G      2.276       1.57      1.262         59        640: 100%|██████████| 45/45 [05:59<00:00,  7.\n",
      "                 Class     Images  Instances      Box(P          R      mAP50  mAP50-95): 100%|██████████| 7/7 [00:22<0"
     ]
    },
    {
     "name": "stdout",
     "output_type": "stream",
     "text": [
      "                   all        203       1202      0.553      0.509      0.504      0.193\n"
     ]
    },
    {
     "name": "stderr",
     "output_type": "stream",
     "text": [
      "\n"
     ]
    },
    {
     "name": "stdout",
     "output_type": "stream",
     "text": [
      "\n",
      "      Epoch    GPU_mem   box_loss   cls_loss   dfl_loss  Instances       Size\n"
     ]
    },
    {
     "name": "stderr",
     "output_type": "stream",
     "text": [
      "      7/100         0G      2.206      1.514      1.203         36        640: 100%|██████████| 45/45 [06:02<00:00,  8.\n",
      "                 Class     Images  Instances      Box(P          R      mAP50  mAP50-95): 100%|██████████| 7/7 [00:22<0"
     ]
    },
    {
     "name": "stdout",
     "output_type": "stream",
     "text": [
      "                   all        203       1202      0.588      0.485      0.512      0.194\n"
     ]
    },
    {
     "name": "stderr",
     "output_type": "stream",
     "text": [
      "\n"
     ]
    },
    {
     "name": "stdout",
     "output_type": "stream",
     "text": [
      "\n",
      "      Epoch    GPU_mem   box_loss   cls_loss   dfl_loss  Instances       Size\n"
     ]
    },
    {
     "name": "stderr",
     "output_type": "stream",
     "text": [
      "      8/100         0G      2.197      1.421      1.203         47        640: 100%|██████████| 45/45 [05:59<00:00,  7.\n",
      "                 Class     Images  Instances      Box(P          R      mAP50  mAP50-95): 100%|██████████| 7/7 [00:21<0"
     ]
    },
    {
     "name": "stdout",
     "output_type": "stream",
     "text": [
      "                   all        203       1202      0.662      0.525      0.587      0.227\n"
     ]
    },
    {
     "name": "stderr",
     "output_type": "stream",
     "text": [
      "\n"
     ]
    },
    {
     "name": "stdout",
     "output_type": "stream",
     "text": [
      "\n",
      "      Epoch    GPU_mem   box_loss   cls_loss   dfl_loss  Instances       Size\n"
     ]
    },
    {
     "name": "stderr",
     "output_type": "stream",
     "text": [
      "      9/100         0G      2.189      1.427      1.204         95        640: 100%|██████████| 45/45 [06:00<00:00,  8.\n",
      "                 Class     Images  Instances      Box(P          R      mAP50  mAP50-95): 100%|██████████| 7/7 [00:21<0"
     ]
    },
    {
     "name": "stdout",
     "output_type": "stream",
     "text": [
      "                   all        203       1202      0.656      0.527      0.562      0.212\n"
     ]
    },
    {
     "name": "stderr",
     "output_type": "stream",
     "text": [
      "\n"
     ]
    },
    {
     "name": "stdout",
     "output_type": "stream",
     "text": [
      "\n",
      "      Epoch    GPU_mem   box_loss   cls_loss   dfl_loss  Instances       Size\n"
     ]
    },
    {
     "name": "stderr",
     "output_type": "stream",
     "text": [
      "     10/100         0G      2.147      1.344      1.189         63        640: 100%|██████████| 45/45 [06:01<00:00,  8.\n",
      "                 Class     Images  Instances      Box(P          R      mAP50  mAP50-95): 100%|██████████| 7/7 [00:21<0"
     ]
    },
    {
     "name": "stdout",
     "output_type": "stream",
     "text": [
      "                   all        203       1202       0.67      0.544      0.598      0.234\n"
     ]
    },
    {
     "name": "stderr",
     "output_type": "stream",
     "text": [
      "\n"
     ]
    },
    {
     "name": "stdout",
     "output_type": "stream",
     "text": [
      "\n",
      "      Epoch    GPU_mem   box_loss   cls_loss   dfl_loss  Instances       Size\n"
     ]
    },
    {
     "name": "stderr",
     "output_type": "stream",
     "text": [
      "     11/100         0G      2.169      1.367      1.183        120        640: 100%|██████████| 45/45 [05:59<00:00,  7.\n",
      "                 Class     Images  Instances      Box(P          R      mAP50  mAP50-95): 100%|██████████| 7/7 [00:21<0"
     ]
    },
    {
     "name": "stdout",
     "output_type": "stream",
     "text": [
      "                   all        203       1202      0.658      0.517       0.57      0.216\n"
     ]
    },
    {
     "name": "stderr",
     "output_type": "stream",
     "text": [
      "\n"
     ]
    },
    {
     "name": "stdout",
     "output_type": "stream",
     "text": [
      "\n",
      "      Epoch    GPU_mem   box_loss   cls_loss   dfl_loss  Instances       Size\n"
     ]
    },
    {
     "name": "stderr",
     "output_type": "stream",
     "text": [
      "     12/100         0G      2.174      1.343      1.193         69        640: 100%|██████████| 45/45 [06:04<00:00,  8.\n",
      "                 Class     Images  Instances      Box(P          R      mAP50  mAP50-95): 100%|██████████| 7/7 [00:21<0"
     ]
    },
    {
     "name": "stdout",
     "output_type": "stream",
     "text": [
      "                   all        203       1202      0.659      0.582       0.62      0.229\n"
     ]
    },
    {
     "name": "stderr",
     "output_type": "stream",
     "text": [
      "\n"
     ]
    },
    {
     "name": "stdout",
     "output_type": "stream",
     "text": [
      "\n",
      "      Epoch    GPU_mem   box_loss   cls_loss   dfl_loss  Instances       Size\n"
     ]
    },
    {
     "name": "stderr",
     "output_type": "stream",
     "text": [
      "     13/100         0G      2.142      1.301      1.185         60        640: 100%|██████████| 45/45 [06:04<00:00,  8.\n",
      "                 Class     Images  Instances      Box(P          R      mAP50  mAP50-95): 100%|██████████| 7/7 [00:21<0"
     ]
    },
    {
     "name": "stdout",
     "output_type": "stream",
     "text": [
      "                   all        203       1202      0.648      0.524      0.594       0.22\n"
     ]
    },
    {
     "name": "stderr",
     "output_type": "stream",
     "text": [
      "\n"
     ]
    },
    {
     "name": "stdout",
     "output_type": "stream",
     "text": [
      "\n",
      "      Epoch    GPU_mem   box_loss   cls_loss   dfl_loss  Instances       Size\n"
     ]
    },
    {
     "name": "stderr",
     "output_type": "stream",
     "text": [
      "     14/100         0G       2.12       1.29      1.171         45        640: 100%|██████████| 45/45 [05:59<00:00,  7.\n",
      "                 Class     Images  Instances      Box(P          R      mAP50  mAP50-95): 100%|██████████| 7/7 [00:21<0"
     ]
    },
    {
     "name": "stdout",
     "output_type": "stream",
     "text": [
      "                   all        203       1202      0.654      0.565       0.61      0.238\n"
     ]
    },
    {
     "name": "stderr",
     "output_type": "stream",
     "text": [
      "\n"
     ]
    },
    {
     "name": "stdout",
     "output_type": "stream",
     "text": [
      "\n",
      "      Epoch    GPU_mem   box_loss   cls_loss   dfl_loss  Instances       Size\n"
     ]
    },
    {
     "name": "stderr",
     "output_type": "stream",
     "text": [
      "     15/100         0G      2.111      1.292      1.167         50        640: 100%|██████████| 45/45 [05:58<00:00,  7.\n",
      "                 Class     Images  Instances      Box(P          R      mAP50  mAP50-95): 100%|██████████| 7/7 [00:21<0"
     ]
    },
    {
     "name": "stdout",
     "output_type": "stream",
     "text": [
      "                   all        203       1202       0.59      0.517       0.52      0.208\n"
     ]
    },
    {
     "name": "stderr",
     "output_type": "stream",
     "text": [
      "\n"
     ]
    },
    {
     "name": "stdout",
     "output_type": "stream",
     "text": [
      "\n",
      "      Epoch    GPU_mem   box_loss   cls_loss   dfl_loss  Instances       Size\n"
     ]
    },
    {
     "name": "stderr",
     "output_type": "stream",
     "text": [
      "     16/100         0G      2.109      1.278      1.172         45        640: 100%|██████████| 45/45 [05:59<00:00,  8.\n",
      "                 Class     Images  Instances      Box(P          R      mAP50  mAP50-95): 100%|██████████| 7/7 [00:22<0"
     ]
    },
    {
     "name": "stdout",
     "output_type": "stream",
     "text": [
      "                   all        203       1202      0.692      0.591      0.645      0.251\n"
     ]
    },
    {
     "name": "stderr",
     "output_type": "stream",
     "text": [
      "\n"
     ]
    },
    {
     "name": "stdout",
     "output_type": "stream",
     "text": [
      "\n",
      "      Epoch    GPU_mem   box_loss   cls_loss   dfl_loss  Instances       Size\n"
     ]
    },
    {
     "name": "stderr",
     "output_type": "stream",
     "text": [
      "     17/100         0G      2.103      1.249      1.169         97        640: 100%|██████████| 45/45 [06:00<00:00,  8.\n",
      "                 Class     Images  Instances      Box(P          R      mAP50  mAP50-95): 100%|██████████| 7/7 [00:22<0"
     ]
    },
    {
     "name": "stdout",
     "output_type": "stream",
     "text": [
      "                   all        203       1202      0.682      0.562      0.609       0.24\n"
     ]
    },
    {
     "name": "stderr",
     "output_type": "stream",
     "text": [
      "\n"
     ]
    },
    {
     "name": "stdout",
     "output_type": "stream",
     "text": [
      "\n",
      "      Epoch    GPU_mem   box_loss   cls_loss   dfl_loss  Instances       Size\n"
     ]
    },
    {
     "name": "stderr",
     "output_type": "stream",
     "text": [
      "     18/100         0G      2.116      1.254      1.163        100        640: 100%|██████████| 45/45 [06:01<00:00,  8.\n",
      "                 Class     Images  Instances      Box(P          R      mAP50  mAP50-95): 100%|██████████| 7/7 [00:21<0"
     ]
    },
    {
     "name": "stdout",
     "output_type": "stream",
     "text": [
      "                   all        203       1202      0.666      0.603      0.639      0.233\n"
     ]
    },
    {
     "name": "stderr",
     "output_type": "stream",
     "text": [
      "\n"
     ]
    },
    {
     "name": "stdout",
     "output_type": "stream",
     "text": [
      "\n",
      "      Epoch    GPU_mem   box_loss   cls_loss   dfl_loss  Instances       Size\n"
     ]
    },
    {
     "name": "stderr",
     "output_type": "stream",
     "text": [
      "     19/100         0G      2.074      1.193      1.149         85        640: 100%|██████████| 45/45 [05:59<00:00,  7.\n",
      "                 Class     Images  Instances      Box(P          R      mAP50  mAP50-95): 100%|██████████| 7/7 [00:21<0"
     ]
    },
    {
     "name": "stdout",
     "output_type": "stream",
     "text": [
      "                   all        203       1202      0.669      0.577      0.629      0.249\n"
     ]
    },
    {
     "name": "stderr",
     "output_type": "stream",
     "text": [
      "\n"
     ]
    },
    {
     "name": "stdout",
     "output_type": "stream",
     "text": [
      "\n",
      "      Epoch    GPU_mem   box_loss   cls_loss   dfl_loss  Instances       Size\n"
     ]
    },
    {
     "name": "stderr",
     "output_type": "stream",
     "text": [
      "     20/100         0G      2.081      1.213      1.165         61        640: 100%|██████████| 45/45 [06:00<00:00,  8.\n",
      "                 Class     Images  Instances      Box(P          R      mAP50  mAP50-95): 100%|██████████| 7/7 [00:21<0"
     ]
    },
    {
     "name": "stdout",
     "output_type": "stream",
     "text": [
      "                   all        203       1202      0.692      0.604       0.65      0.254\n"
     ]
    },
    {
     "name": "stderr",
     "output_type": "stream",
     "text": [
      "\n"
     ]
    },
    {
     "name": "stdout",
     "output_type": "stream",
     "text": [
      "\n",
      "      Epoch    GPU_mem   box_loss   cls_loss   dfl_loss  Instances       Size\n"
     ]
    },
    {
     "name": "stderr",
     "output_type": "stream",
     "text": [
      "     21/100         0G      2.056      1.196      1.157         66        640: 100%|██████████| 45/45 [06:02<00:00,  8.\n",
      "                 Class     Images  Instances      Box(P          R      mAP50  mAP50-95): 100%|██████████| 7/7 [00:21<0"
     ]
    },
    {
     "name": "stdout",
     "output_type": "stream",
     "text": [
      "                   all        203       1202      0.676      0.597       0.64      0.251\n"
     ]
    },
    {
     "name": "stderr",
     "output_type": "stream",
     "text": [
      "\n"
     ]
    },
    {
     "name": "stdout",
     "output_type": "stream",
     "text": [
      "\n",
      "      Epoch    GPU_mem   box_loss   cls_loss   dfl_loss  Instances       Size\n"
     ]
    },
    {
     "name": "stderr",
     "output_type": "stream",
     "text": [
      "     22/100         0G      2.058      1.217      1.148         66        640: 100%|██████████| 45/45 [06:00<00:00,  8.\n",
      "                 Class     Images  Instances      Box(P          R      mAP50  mAP50-95): 100%|██████████| 7/7 [00:21<0"
     ]
    },
    {
     "name": "stdout",
     "output_type": "stream",
     "text": [
      "                   all        203       1202       0.69      0.562      0.628      0.249\n"
     ]
    },
    {
     "name": "stderr",
     "output_type": "stream",
     "text": [
      "\n"
     ]
    },
    {
     "name": "stdout",
     "output_type": "stream",
     "text": [
      "\n",
      "      Epoch    GPU_mem   box_loss   cls_loss   dfl_loss  Instances       Size\n"
     ]
    },
    {
     "name": "stderr",
     "output_type": "stream",
     "text": [
      "     23/100         0G       2.05      1.192      1.152         65        640: 100%|██████████| 45/45 [06:02<00:00,  8.\n",
      "                 Class     Images  Instances      Box(P          R      mAP50  mAP50-95): 100%|██████████| 7/7 [00:21<0"
     ]
    },
    {
     "name": "stdout",
     "output_type": "stream",
     "text": [
      "                   all        203       1202      0.699      0.593      0.652      0.251\n"
     ]
    },
    {
     "name": "stderr",
     "output_type": "stream",
     "text": [
      "\n"
     ]
    },
    {
     "name": "stdout",
     "output_type": "stream",
     "text": [
      "\n",
      "      Epoch    GPU_mem   box_loss   cls_loss   dfl_loss  Instances       Size\n"
     ]
    },
    {
     "name": "stderr",
     "output_type": "stream",
     "text": [
      "     24/100         0G      2.076      1.188      1.157         51        640: 100%|██████████| 45/45 [06:01<00:00,  8.\n",
      "                 Class     Images  Instances      Box(P          R      mAP50  mAP50-95): 100%|██████████| 7/7 [00:22<0"
     ]
    },
    {
     "name": "stdout",
     "output_type": "stream",
     "text": [
      "                   all        203       1202       0.66      0.601      0.636      0.247\n"
     ]
    },
    {
     "name": "stderr",
     "output_type": "stream",
     "text": [
      "\n"
     ]
    },
    {
     "name": "stdout",
     "output_type": "stream",
     "text": [
      "\n",
      "      Epoch    GPU_mem   box_loss   cls_loss   dfl_loss  Instances       Size\n"
     ]
    },
    {
     "name": "stderr",
     "output_type": "stream",
     "text": [
      "     25/100         0G      2.025      1.143      1.134         92        640: 100%|██████████| 45/45 [06:01<00:00,  8.\n",
      "                 Class     Images  Instances      Box(P          R      mAP50  mAP50-95): 100%|██████████| 7/7 [00:21<0"
     ]
    },
    {
     "name": "stdout",
     "output_type": "stream",
     "text": [
      "                   all        203       1202      0.704      0.601       0.66      0.266\n"
     ]
    },
    {
     "name": "stderr",
     "output_type": "stream",
     "text": [
      "\n"
     ]
    },
    {
     "name": "stdout",
     "output_type": "stream",
     "text": [
      "\n",
      "      Epoch    GPU_mem   box_loss   cls_loss   dfl_loss  Instances       Size\n"
     ]
    },
    {
     "name": "stderr",
     "output_type": "stream",
     "text": [
      "     26/100         0G      2.028       1.14       1.13         77        640: 100%|██████████| 45/45 [06:03<00:00,  8.\n",
      "                 Class     Images  Instances      Box(P          R      mAP50  mAP50-95): 100%|██████████| 7/7 [00:22<0"
     ]
    },
    {
     "name": "stdout",
     "output_type": "stream",
     "text": [
      "                   all        203       1202      0.689      0.608      0.664      0.266\n"
     ]
    },
    {
     "name": "stderr",
     "output_type": "stream",
     "text": [
      "\n"
     ]
    },
    {
     "name": "stdout",
     "output_type": "stream",
     "text": [
      "\n",
      "      Epoch    GPU_mem   box_loss   cls_loss   dfl_loss  Instances       Size\n"
     ]
    },
    {
     "name": "stderr",
     "output_type": "stream",
     "text": [
      "     27/100         0G      2.038      1.159      1.134         35        640: 100%|██████████| 45/45 [06:01<00:00,  8.\n",
      "                 Class     Images  Instances      Box(P          R      mAP50  mAP50-95): 100%|██████████| 7/7 [00:21<0"
     ]
    },
    {
     "name": "stdout",
     "output_type": "stream",
     "text": [
      "                   all        203       1202      0.664      0.609      0.662      0.261\n"
     ]
    },
    {
     "name": "stderr",
     "output_type": "stream",
     "text": [
      "\n"
     ]
    },
    {
     "name": "stdout",
     "output_type": "stream",
     "text": [
      "\n",
      "      Epoch    GPU_mem   box_loss   cls_loss   dfl_loss  Instances       Size\n"
     ]
    },
    {
     "name": "stderr",
     "output_type": "stream",
     "text": [
      "     28/100         0G      2.041      1.128      1.141         91        640: 100%|██████████| 45/45 [06:00<00:00,  8.\n",
      "                 Class     Images  Instances      Box(P          R      mAP50  mAP50-95): 100%|██████████| 7/7 [00:21<0"
     ]
    },
    {
     "name": "stdout",
     "output_type": "stream",
     "text": [
      "                   all        203       1202      0.702      0.625      0.666      0.255\n"
     ]
    },
    {
     "name": "stderr",
     "output_type": "stream",
     "text": [
      "\n"
     ]
    },
    {
     "name": "stdout",
     "output_type": "stream",
     "text": [
      "\n",
      "      Epoch    GPU_mem   box_loss   cls_loss   dfl_loss  Instances       Size\n"
     ]
    },
    {
     "name": "stderr",
     "output_type": "stream",
     "text": [
      "     29/100         0G      2.044      1.158      1.148         85        640: 100%|██████████| 45/45 [06:01<00:00,  8.\n",
      "                 Class     Images  Instances      Box(P          R      mAP50  mAP50-95): 100%|██████████| 7/7 [00:22<0"
     ]
    },
    {
     "name": "stdout",
     "output_type": "stream",
     "text": [
      "                   all        203       1202      0.708      0.619      0.677      0.261\n"
     ]
    },
    {
     "name": "stderr",
     "output_type": "stream",
     "text": [
      "\n"
     ]
    },
    {
     "name": "stdout",
     "output_type": "stream",
     "text": [
      "\n",
      "      Epoch    GPU_mem   box_loss   cls_loss   dfl_loss  Instances       Size\n"
     ]
    },
    {
     "name": "stderr",
     "output_type": "stream",
     "text": [
      "     30/100         0G      2.029      1.132       1.13         60        640: 100%|██████████| 45/45 [06:03<00:00,  8.\n",
      "                 Class     Images  Instances      Box(P          R      mAP50  mAP50-95): 100%|██████████| 7/7 [00:22<0"
     ]
    },
    {
     "name": "stdout",
     "output_type": "stream",
     "text": [
      "                   all        203       1202      0.666      0.616      0.642      0.249\n"
     ]
    },
    {
     "name": "stderr",
     "output_type": "stream",
     "text": [
      "\n"
     ]
    },
    {
     "name": "stdout",
     "output_type": "stream",
     "text": [
      "\n",
      "      Epoch    GPU_mem   box_loss   cls_loss   dfl_loss  Instances       Size\n"
     ]
    },
    {
     "name": "stderr",
     "output_type": "stream",
     "text": [
      "     31/100         0G      2.019       1.15      1.138         53        640: 100%|██████████| 45/45 [06:00<00:00,  8.\n",
      "                 Class     Images  Instances      Box(P          R      mAP50  mAP50-95): 100%|██████████| 7/7 [00:21<0"
     ]
    },
    {
     "name": "stdout",
     "output_type": "stream",
     "text": [
      "                   all        203       1202      0.679      0.618       0.66       0.26\n"
     ]
    },
    {
     "name": "stderr",
     "output_type": "stream",
     "text": [
      "\n"
     ]
    },
    {
     "name": "stdout",
     "output_type": "stream",
     "text": [
      "\n",
      "      Epoch    GPU_mem   box_loss   cls_loss   dfl_loss  Instances       Size\n"
     ]
    },
    {
     "name": "stderr",
     "output_type": "stream",
     "text": [
      "     32/100         0G      1.979       1.11      1.136        102        640: 100%|██████████| 45/45 [06:01<00:00,  8.\n",
      "                 Class     Images  Instances      Box(P          R      mAP50  mAP50-95): 100%|██████████| 7/7 [00:21<0"
     ]
    },
    {
     "name": "stdout",
     "output_type": "stream",
     "text": [
      "                   all        203       1202      0.707      0.606      0.653      0.256\n"
     ]
    },
    {
     "name": "stderr",
     "output_type": "stream",
     "text": [
      "\n"
     ]
    },
    {
     "name": "stdout",
     "output_type": "stream",
     "text": [
      "\n",
      "      Epoch    GPU_mem   box_loss   cls_loss   dfl_loss  Instances       Size\n"
     ]
    },
    {
     "name": "stderr",
     "output_type": "stream",
     "text": [
      "     33/100         0G      1.989      1.108      1.119         39        640: 100%|██████████| 45/45 [05:59<00:00,  8.\n",
      "                 Class     Images  Instances      Box(P          R      mAP50  mAP50-95): 100%|██████████| 7/7 [00:21<0"
     ]
    },
    {
     "name": "stdout",
     "output_type": "stream",
     "text": [
      "                   all        203       1202      0.686      0.631       0.67      0.263\n"
     ]
    },
    {
     "name": "stderr",
     "output_type": "stream",
     "text": [
      "\n"
     ]
    },
    {
     "name": "stdout",
     "output_type": "stream",
     "text": [
      "\n",
      "      Epoch    GPU_mem   box_loss   cls_loss   dfl_loss  Instances       Size\n"
     ]
    },
    {
     "name": "stderr",
     "output_type": "stream",
     "text": [
      "     34/100         0G      2.021      1.112      1.132         68        640: 100%|██████████| 45/45 [06:02<00:00,  8.\n",
      "                 Class     Images  Instances      Box(P          R      mAP50  mAP50-95): 100%|██████████| 7/7 [00:22<0"
     ]
    },
    {
     "name": "stdout",
     "output_type": "stream",
     "text": [
      "                   all        203       1202      0.689      0.629      0.669      0.262\n"
     ]
    },
    {
     "name": "stderr",
     "output_type": "stream",
     "text": [
      "\n"
     ]
    },
    {
     "name": "stdout",
     "output_type": "stream",
     "text": [
      "\n",
      "      Epoch    GPU_mem   box_loss   cls_loss   dfl_loss  Instances       Size\n"
     ]
    },
    {
     "name": "stderr",
     "output_type": "stream",
     "text": [
      "     35/100         0G      2.018      1.101      1.129         67        640: 100%|██████████| 45/45 [05:59<00:00,  7.\n",
      "                 Class     Images  Instances      Box(P          R      mAP50  mAP50-95): 100%|██████████| 7/7 [00:21<0"
     ]
    },
    {
     "name": "stdout",
     "output_type": "stream",
     "text": [
      "                   all        203       1202      0.697      0.621      0.674       0.26\n"
     ]
    },
    {
     "name": "stderr",
     "output_type": "stream",
     "text": [
      "\n"
     ]
    },
    {
     "name": "stdout",
     "output_type": "stream",
     "text": [
      "\n",
      "      Epoch    GPU_mem   box_loss   cls_loss   dfl_loss  Instances       Size\n"
     ]
    },
    {
     "name": "stderr",
     "output_type": "stream",
     "text": [
      "     36/100         0G      1.976      1.084      1.124        103        640: 100%|██████████| 45/45 [05:59<00:00,  8.\n",
      "                 Class     Images  Instances      Box(P          R      mAP50  mAP50-95): 100%|██████████| 7/7 [00:21<0"
     ]
    },
    {
     "name": "stdout",
     "output_type": "stream",
     "text": [
      "                   all        203       1202      0.678      0.633      0.651      0.263\n"
     ]
    },
    {
     "name": "stderr",
     "output_type": "stream",
     "text": [
      "\n"
     ]
    },
    {
     "name": "stdout",
     "output_type": "stream",
     "text": [
      "\n",
      "      Epoch    GPU_mem   box_loss   cls_loss   dfl_loss  Instances       Size\n"
     ]
    },
    {
     "name": "stderr",
     "output_type": "stream",
     "text": [
      "     37/100         0G      1.954      1.066      1.116         93        640: 100%|██████████| 45/45 [05:56<00:00,  7.\n",
      "                 Class     Images  Instances      Box(P          R      mAP50  mAP50-95): 100%|██████████| 7/7 [00:21<0"
     ]
    },
    {
     "name": "stdout",
     "output_type": "stream",
     "text": [
      "                   all        203       1202      0.689       0.63      0.668       0.26\n"
     ]
    },
    {
     "name": "stderr",
     "output_type": "stream",
     "text": [
      "\n"
     ]
    },
    {
     "name": "stdout",
     "output_type": "stream",
     "text": [
      "\n",
      "      Epoch    GPU_mem   box_loss   cls_loss   dfl_loss  Instances       Size\n"
     ]
    },
    {
     "name": "stderr",
     "output_type": "stream",
     "text": [
      "     38/100         0G      1.952      1.059      1.121         75        640: 100%|██████████| 45/45 [05:57<00:00,  7.\n",
      "                 Class     Images  Instances      Box(P          R      mAP50  mAP50-95): 100%|██████████| 7/7 [00:21<0"
     ]
    },
    {
     "name": "stdout",
     "output_type": "stream",
     "text": [
      "                   all        203       1202      0.703      0.605       0.65      0.253\n"
     ]
    },
    {
     "name": "stderr",
     "output_type": "stream",
     "text": [
      "\n"
     ]
    },
    {
     "name": "stdout",
     "output_type": "stream",
     "text": [
      "\n",
      "      Epoch    GPU_mem   box_loss   cls_loss   dfl_loss  Instances       Size\n"
     ]
    },
    {
     "name": "stderr",
     "output_type": "stream",
     "text": [
      "     39/100         0G      1.952      1.066      1.113         62        640: 100%|██████████| 45/45 [05:58<00:00,  7.\n",
      "                 Class     Images  Instances      Box(P          R      mAP50  mAP50-95): 100%|██████████| 7/7 [00:21<0"
     ]
    },
    {
     "name": "stdout",
     "output_type": "stream",
     "text": [
      "                   all        203       1202      0.669      0.639      0.666      0.263\n"
     ]
    },
    {
     "name": "stderr",
     "output_type": "stream",
     "text": [
      "\n"
     ]
    },
    {
     "name": "stdout",
     "output_type": "stream",
     "text": [
      "\n",
      "      Epoch    GPU_mem   box_loss   cls_loss   dfl_loss  Instances       Size\n"
     ]
    },
    {
     "name": "stderr",
     "output_type": "stream",
     "text": [
      "     40/100         0G      1.959      1.057      1.113        117        640: 100%|██████████| 45/45 [06:00<00:00,  8.\n",
      "                 Class     Images  Instances      Box(P          R      mAP50  mAP50-95): 100%|██████████| 7/7 [00:21<0"
     ]
    },
    {
     "name": "stdout",
     "output_type": "stream",
     "text": [
      "                   all        203       1202       0.68      0.641      0.683      0.262\n"
     ]
    },
    {
     "name": "stderr",
     "output_type": "stream",
     "text": [
      "\n"
     ]
    },
    {
     "name": "stdout",
     "output_type": "stream",
     "text": [
      "\n",
      "      Epoch    GPU_mem   box_loss   cls_loss   dfl_loss  Instances       Size\n"
     ]
    },
    {
     "name": "stderr",
     "output_type": "stream",
     "text": [
      "     41/100         0G      1.958       1.06      1.126         44        640: 100%|██████████| 45/45 [05:58<00:00,  7.\n",
      "                 Class     Images  Instances      Box(P          R      mAP50  mAP50-95): 100%|██████████| 7/7 [00:21<0"
     ]
    },
    {
     "name": "stdout",
     "output_type": "stream",
     "text": [
      "                   all        203       1202      0.706      0.618      0.673      0.267\n"
     ]
    },
    {
     "name": "stderr",
     "output_type": "stream",
     "text": [
      "\n"
     ]
    },
    {
     "name": "stdout",
     "output_type": "stream",
     "text": [
      "\n",
      "      Epoch    GPU_mem   box_loss   cls_loss   dfl_loss  Instances       Size\n"
     ]
    },
    {
     "name": "stderr",
     "output_type": "stream",
     "text": [
      "     42/100         0G      1.987      1.079      1.131         41        640: 100%|██████████| 45/45 [05:58<00:00,  7.\n",
      "                 Class     Images  Instances      Box(P          R      mAP50  mAP50-95): 100%|██████████| 7/7 [00:21<0"
     ]
    },
    {
     "name": "stdout",
     "output_type": "stream",
     "text": [
      "                   all        203       1202      0.685      0.643      0.682      0.277\n"
     ]
    },
    {
     "name": "stderr",
     "output_type": "stream",
     "text": [
      "\n"
     ]
    },
    {
     "name": "stdout",
     "output_type": "stream",
     "text": [
      "\n",
      "      Epoch    GPU_mem   box_loss   cls_loss   dfl_loss  Instances       Size\n"
     ]
    },
    {
     "name": "stderr",
     "output_type": "stream",
     "text": [
      "     43/100         0G      1.928       1.04      1.107         29        640: 100%|██████████| 45/45 [05:58<00:00,  7.\n",
      "                 Class     Images  Instances      Box(P          R      mAP50  mAP50-95): 100%|██████████| 7/7 [00:21<0"
     ]
    },
    {
     "name": "stdout",
     "output_type": "stream",
     "text": [
      "                   all        203       1202       0.71      0.638       0.69      0.277\n"
     ]
    },
    {
     "name": "stderr",
     "output_type": "stream",
     "text": [
      "\n"
     ]
    },
    {
     "name": "stdout",
     "output_type": "stream",
     "text": [
      "\n",
      "      Epoch    GPU_mem   box_loss   cls_loss   dfl_loss  Instances       Size\n"
     ]
    },
    {
     "name": "stderr",
     "output_type": "stream",
     "text": [
      "     44/100         0G      1.951      1.039        1.1         75        640: 100%|██████████| 45/45 [05:57<00:00,  7.\n",
      "                 Class     Images  Instances      Box(P          R      mAP50  mAP50-95): 100%|██████████| 7/7 [00:21<0"
     ]
    },
    {
     "name": "stdout",
     "output_type": "stream",
     "text": [
      "                   all        203       1202      0.696      0.619      0.678      0.269\n"
     ]
    },
    {
     "name": "stderr",
     "output_type": "stream",
     "text": [
      "\n"
     ]
    },
    {
     "name": "stdout",
     "output_type": "stream",
     "text": [
      "\n",
      "      Epoch    GPU_mem   box_loss   cls_loss   dfl_loss  Instances       Size\n"
     ]
    },
    {
     "name": "stderr",
     "output_type": "stream",
     "text": [
      "     45/100         0G      1.921      1.031       1.11         36        640: 100%|██████████| 45/45 [05:56<00:00,  7.\n",
      "                 Class     Images  Instances      Box(P          R      mAP50  mAP50-95): 100%|██████████| 7/7 [00:21<0"
     ]
    },
    {
     "name": "stdout",
     "output_type": "stream",
     "text": [
      "                   all        203       1202       0.71      0.609      0.664      0.269\n"
     ]
    },
    {
     "name": "stderr",
     "output_type": "stream",
     "text": [
      "\n"
     ]
    },
    {
     "name": "stdout",
     "output_type": "stream",
     "text": [
      "\n",
      "      Epoch    GPU_mem   box_loss   cls_loss   dfl_loss  Instances       Size\n"
     ]
    },
    {
     "name": "stderr",
     "output_type": "stream",
     "text": [
      "     46/100         0G      1.918      1.021      1.096         40        640: 100%|██████████| 45/45 [05:58<00:00,  7.\n",
      "                 Class     Images  Instances      Box(P          R      mAP50  mAP50-95): 100%|██████████| 7/7 [00:21<0"
     ]
    },
    {
     "name": "stdout",
     "output_type": "stream",
     "text": [
      "                   all        203       1202      0.727      0.615      0.679      0.269\n"
     ]
    },
    {
     "name": "stderr",
     "output_type": "stream",
     "text": [
      "\n"
     ]
    },
    {
     "name": "stdout",
     "output_type": "stream",
     "text": [
      "\n",
      "      Epoch    GPU_mem   box_loss   cls_loss   dfl_loss  Instances       Size\n"
     ]
    },
    {
     "name": "stderr",
     "output_type": "stream",
     "text": [
      "     47/100         0G       1.94       1.03      1.102         45        640: 100%|██████████| 45/45 [05:58<00:00,  7.\n",
      "                 Class     Images  Instances      Box(P          R      mAP50  mAP50-95): 100%|██████████| 7/7 [00:21<0"
     ]
    },
    {
     "name": "stdout",
     "output_type": "stream",
     "text": [
      "                   all        203       1202      0.685      0.634       0.67      0.262\n"
     ]
    },
    {
     "name": "stderr",
     "output_type": "stream",
     "text": [
      "\n"
     ]
    },
    {
     "name": "stdout",
     "output_type": "stream",
     "text": [
      "\n",
      "      Epoch    GPU_mem   box_loss   cls_loss   dfl_loss  Instances       Size\n"
     ]
    },
    {
     "name": "stderr",
     "output_type": "stream",
     "text": [
      "     48/100         0G      1.922      1.037      1.105         70        640: 100%|██████████| 45/45 [05:58<00:00,  7.\n",
      "                 Class     Images  Instances      Box(P          R      mAP50  mAP50-95): 100%|██████████| 7/7 [00:21<0"
     ]
    },
    {
     "name": "stdout",
     "output_type": "stream",
     "text": [
      "                   all        203       1202      0.708      0.661      0.703      0.277\n"
     ]
    },
    {
     "name": "stderr",
     "output_type": "stream",
     "text": [
      "\n"
     ]
    },
    {
     "name": "stdout",
     "output_type": "stream",
     "text": [
      "\n",
      "      Epoch    GPU_mem   box_loss   cls_loss   dfl_loss  Instances       Size\n"
     ]
    },
    {
     "name": "stderr",
     "output_type": "stream",
     "text": [
      "     49/100         0G      1.901     0.9976      1.093        149        640: 100%|██████████| 45/45 [05:58<00:00,  7.\n",
      "                 Class     Images  Instances      Box(P          R      mAP50  mAP50-95): 100%|██████████| 7/7 [00:21<0"
     ]
    },
    {
     "name": "stdout",
     "output_type": "stream",
     "text": [
      "                   all        203       1202       0.69      0.648      0.682       0.27\n"
     ]
    },
    {
     "name": "stderr",
     "output_type": "stream",
     "text": [
      "\n"
     ]
    },
    {
     "name": "stdout",
     "output_type": "stream",
     "text": [
      "\n",
      "      Epoch    GPU_mem   box_loss   cls_loss   dfl_loss  Instances       Size\n"
     ]
    },
    {
     "name": "stderr",
     "output_type": "stream",
     "text": [
      "     50/100         0G       1.92     0.9928      1.085         94        640: 100%|██████████| 45/45 [05:56<00:00,  7.\n",
      "                 Class     Images  Instances      Box(P          R      mAP50  mAP50-95): 100%|██████████| 7/7 [00:21<0"
     ]
    },
    {
     "name": "stdout",
     "output_type": "stream",
     "text": [
      "                   all        203       1202      0.713      0.643      0.684      0.272\n"
     ]
    },
    {
     "name": "stderr",
     "output_type": "stream",
     "text": [
      "\n"
     ]
    },
    {
     "name": "stdout",
     "output_type": "stream",
     "text": [
      "\n",
      "      Epoch    GPU_mem   box_loss   cls_loss   dfl_loss  Instances       Size\n"
     ]
    },
    {
     "name": "stderr",
     "output_type": "stream",
     "text": [
      "     51/100         0G      1.893     0.9982       1.09         45        640: 100%|██████████| 45/45 [05:59<00:00,  7.\n",
      "                 Class     Images  Instances      Box(P          R      mAP50  mAP50-95): 100%|██████████| 7/7 [00:21<0"
     ]
    },
    {
     "name": "stdout",
     "output_type": "stream",
     "text": [
      "                   all        203       1202      0.704      0.636      0.693      0.274\n"
     ]
    },
    {
     "name": "stderr",
     "output_type": "stream",
     "text": [
      "\n"
     ]
    },
    {
     "name": "stdout",
     "output_type": "stream",
     "text": [
      "\n",
      "      Epoch    GPU_mem   box_loss   cls_loss   dfl_loss  Instances       Size\n"
     ]
    },
    {
     "name": "stderr",
     "output_type": "stream",
     "text": [
      "     52/100         0G      1.907      1.002      1.091         93        640: 100%|██████████| 45/45 [05:56<00:00,  7.\n",
      "                 Class     Images  Instances      Box(P          R      mAP50  mAP50-95): 100%|██████████| 7/7 [00:21<0"
     ]
    },
    {
     "name": "stdout",
     "output_type": "stream",
     "text": [
      "                   all        203       1202       0.71      0.643      0.695      0.276\n"
     ]
    },
    {
     "name": "stderr",
     "output_type": "stream",
     "text": [
      "\n"
     ]
    },
    {
     "name": "stdout",
     "output_type": "stream",
     "text": [
      "\n",
      "      Epoch    GPU_mem   box_loss   cls_loss   dfl_loss  Instances       Size\n"
     ]
    },
    {
     "name": "stderr",
     "output_type": "stream",
     "text": [
      "     53/100         0G      1.886     0.9897      1.091         60        640: 100%|██████████| 45/45 [05:55<00:00,  7.\n",
      "                 Class     Images  Instances      Box(P          R      mAP50  mAP50-95): 100%|██████████| 7/7 [00:21<0"
     ]
    },
    {
     "name": "stdout",
     "output_type": "stream",
     "text": [
      "                   all        203       1202      0.707      0.646      0.689      0.273\n"
     ]
    },
    {
     "name": "stderr",
     "output_type": "stream",
     "text": [
      "\n"
     ]
    },
    {
     "name": "stdout",
     "output_type": "stream",
     "text": [
      "\n",
      "      Epoch    GPU_mem   box_loss   cls_loss   dfl_loss  Instances       Size\n"
     ]
    },
    {
     "name": "stderr",
     "output_type": "stream",
     "text": [
      "     54/100         0G      1.902     0.9887      1.094         83        640: 100%|██████████| 45/45 [05:57<00:00,  7.\n",
      "                 Class     Images  Instances      Box(P          R      mAP50  mAP50-95): 100%|██████████| 7/7 [00:21<0"
     ]
    },
    {
     "name": "stdout",
     "output_type": "stream",
     "text": [
      "                   all        203       1202      0.698      0.646      0.676      0.266\n"
     ]
    },
    {
     "name": "stderr",
     "output_type": "stream",
     "text": [
      "\n"
     ]
    },
    {
     "name": "stdout",
     "output_type": "stream",
     "text": [
      "\n",
      "      Epoch    GPU_mem   box_loss   cls_loss   dfl_loss  Instances       Size\n"
     ]
    },
    {
     "name": "stderr",
     "output_type": "stream",
     "text": [
      "     55/100         0G      1.885     0.9768      1.081        117        640: 100%|██████████| 45/45 [05:59<00:00,  7.\n",
      "                 Class     Images  Instances      Box(P          R      mAP50  mAP50-95): 100%|██████████| 7/7 [00:22<0"
     ]
    },
    {
     "name": "stdout",
     "output_type": "stream",
     "text": [
      "                   all        203       1202      0.712      0.643      0.692      0.274\n"
     ]
    },
    {
     "name": "stderr",
     "output_type": "stream",
     "text": [
      "\n"
     ]
    },
    {
     "name": "stdout",
     "output_type": "stream",
     "text": [
      "\n",
      "      Epoch    GPU_mem   box_loss   cls_loss   dfl_loss  Instances       Size\n"
     ]
    },
    {
     "name": "stderr",
     "output_type": "stream",
     "text": [
      "     56/100         0G      1.893     0.9963      1.089         79        640: 100%|██████████| 45/45 [05:56<00:00,  7.\n",
      "                 Class     Images  Instances      Box(P          R      mAP50  mAP50-95): 100%|██████████| 7/7 [00:21<0"
     ]
    },
    {
     "name": "stdout",
     "output_type": "stream",
     "text": [
      "                   all        203       1202      0.689      0.633      0.686      0.268\n"
     ]
    },
    {
     "name": "stderr",
     "output_type": "stream",
     "text": [
      "\n"
     ]
    },
    {
     "name": "stdout",
     "output_type": "stream",
     "text": [
      "\n",
      "      Epoch    GPU_mem   box_loss   cls_loss   dfl_loss  Instances       Size\n"
     ]
    },
    {
     "name": "stderr",
     "output_type": "stream",
     "text": [
      "     57/100         0G      1.909      0.986       1.09         80        640: 100%|██████████| 45/45 [05:56<00:00,  7.\n",
      "                 Class     Images  Instances      Box(P          R      mAP50  mAP50-95): 100%|██████████| 7/7 [00:21<0"
     ]
    },
    {
     "name": "stdout",
     "output_type": "stream",
     "text": [
      "                   all        203       1202      0.687      0.617      0.661      0.265\n"
     ]
    },
    {
     "name": "stderr",
     "output_type": "stream",
     "text": [
      "\n"
     ]
    },
    {
     "name": "stdout",
     "output_type": "stream",
     "text": [
      "\n",
      "      Epoch    GPU_mem   box_loss   cls_loss   dfl_loss  Instances       Size\n"
     ]
    },
    {
     "name": "stderr",
     "output_type": "stream",
     "text": [
      "     58/100         0G      1.866     0.9636      1.093         91        640: 100%|██████████| 45/45 [05:57<00:00,  7.\n",
      "                 Class     Images  Instances      Box(P          R      mAP50  mAP50-95): 100%|██████████| 7/7 [00:21<0"
     ]
    },
    {
     "name": "stdout",
     "output_type": "stream",
     "text": [
      "                   all        203       1202      0.719      0.645      0.688      0.274\n"
     ]
    },
    {
     "name": "stderr",
     "output_type": "stream",
     "text": [
      "\n"
     ]
    },
    {
     "name": "stdout",
     "output_type": "stream",
     "text": [
      "\n",
      "      Epoch    GPU_mem   box_loss   cls_loss   dfl_loss  Instances       Size\n"
     ]
    },
    {
     "name": "stderr",
     "output_type": "stream",
     "text": [
      "     59/100         0G      1.834     0.9494      1.088         72        640: 100%|██████████| 45/45 [05:56<00:00,  7.\n",
      "                 Class     Images  Instances      Box(P          R      mAP50  mAP50-95): 100%|██████████| 7/7 [00:21<0"
     ]
    },
    {
     "name": "stdout",
     "output_type": "stream",
     "text": [
      "                   all        203       1202      0.722      0.641      0.692      0.275\n"
     ]
    },
    {
     "name": "stderr",
     "output_type": "stream",
     "text": [
      "\n"
     ]
    },
    {
     "name": "stdout",
     "output_type": "stream",
     "text": [
      "\n",
      "      Epoch    GPU_mem   box_loss   cls_loss   dfl_loss  Instances       Size\n"
     ]
    },
    {
     "name": "stderr",
     "output_type": "stream",
     "text": [
      "     60/100         0G       1.87     0.9672      1.077         97        640: 100%|██████████| 45/45 [05:58<00:00,  7.\n",
      "                 Class     Images  Instances      Box(P          R      mAP50  mAP50-95): 100%|██████████| 7/7 [00:21<0"
     ]
    },
    {
     "name": "stdout",
     "output_type": "stream",
     "text": [
      "                   all        203       1202      0.706      0.649      0.685      0.269\n"
     ]
    },
    {
     "name": "stderr",
     "output_type": "stream",
     "text": [
      "\n"
     ]
    },
    {
     "name": "stdout",
     "output_type": "stream",
     "text": [
      "\n",
      "      Epoch    GPU_mem   box_loss   cls_loss   dfl_loss  Instances       Size\n"
     ]
    },
    {
     "name": "stderr",
     "output_type": "stream",
     "text": [
      "     61/100         0G      1.819     0.9399      1.072         46        640: 100%|██████████| 45/45 [05:55<00:00,  7.\n",
      "                 Class     Images  Instances      Box(P          R      mAP50  mAP50-95): 100%|██████████| 7/7 [00:21<0"
     ]
    },
    {
     "name": "stdout",
     "output_type": "stream",
     "text": [
      "                   all        203       1202      0.709      0.652      0.696      0.278\n"
     ]
    },
    {
     "name": "stderr",
     "output_type": "stream",
     "text": [
      "\n"
     ]
    },
    {
     "name": "stdout",
     "output_type": "stream",
     "text": [
      "\n",
      "      Epoch    GPU_mem   box_loss   cls_loss   dfl_loss  Instances       Size\n"
     ]
    },
    {
     "name": "stderr",
     "output_type": "stream",
     "text": [
      "     62/100         0G      1.814     0.9269      1.084         73        640: 100%|██████████| 45/45 [05:57<00:00,  7.\n",
      "                 Class     Images  Instances      Box(P          R      mAP50  mAP50-95): 100%|██████████| 7/7 [00:22<0"
     ]
    },
    {
     "name": "stdout",
     "output_type": "stream",
     "text": [
      "                   all        203       1202      0.709      0.636      0.684      0.278\n"
     ]
    },
    {
     "name": "stderr",
     "output_type": "stream",
     "text": [
      "\n"
     ]
    },
    {
     "name": "stdout",
     "output_type": "stream",
     "text": [
      "\n",
      "      Epoch    GPU_mem   box_loss   cls_loss   dfl_loss  Instances       Size\n"
     ]
    },
    {
     "name": "stderr",
     "output_type": "stream",
     "text": [
      "     63/100         0G      1.797     0.9308      1.063         79        640: 100%|██████████| 45/45 [06:04<00:00,  8.\n",
      "                 Class     Images  Instances      Box(P          R      mAP50  mAP50-95): 100%|██████████| 7/7 [00:21<0"
     ]
    },
    {
     "name": "stdout",
     "output_type": "stream",
     "text": [
      "                   all        203       1202      0.706      0.641      0.681      0.266\n"
     ]
    },
    {
     "name": "stderr",
     "output_type": "stream",
     "text": [
      "\n"
     ]
    },
    {
     "name": "stdout",
     "output_type": "stream",
     "text": [
      "\n",
      "      Epoch    GPU_mem   box_loss   cls_loss   dfl_loss  Instances       Size\n"
     ]
    },
    {
     "name": "stderr",
     "output_type": "stream",
     "text": [
      "     64/100         0G      1.841     0.9342      1.079        137        640: 100%|██████████| 45/45 [06:07<00:00,  8.\n",
      "                 Class     Images  Instances      Box(P          R      mAP50  mAP50-95): 100%|██████████| 7/7 [00:21<0"
     ]
    },
    {
     "name": "stdout",
     "output_type": "stream",
     "text": [
      "                   all        203       1202       0.71      0.644      0.686      0.274\n"
     ]
    },
    {
     "name": "stderr",
     "output_type": "stream",
     "text": [
      "\n"
     ]
    },
    {
     "name": "stdout",
     "output_type": "stream",
     "text": [
      "\n",
      "      Epoch    GPU_mem   box_loss   cls_loss   dfl_loss  Instances       Size\n"
     ]
    },
    {
     "name": "stderr",
     "output_type": "stream",
     "text": [
      "     65/100         0G      1.821      0.935      1.068         58        640: 100%|██████████| 45/45 [05:57<00:00,  7.\n",
      "                 Class     Images  Instances      Box(P          R      mAP50  mAP50-95): 100%|██████████| 7/7 [00:21<0"
     ]
    },
    {
     "name": "stdout",
     "output_type": "stream",
     "text": [
      "                   all        203       1202      0.704       0.66      0.697      0.279\n"
     ]
    },
    {
     "name": "stderr",
     "output_type": "stream",
     "text": [
      "\n"
     ]
    },
    {
     "name": "stdout",
     "output_type": "stream",
     "text": [
      "\n",
      "      Epoch    GPU_mem   box_loss   cls_loss   dfl_loss  Instances       Size\n"
     ]
    },
    {
     "name": "stderr",
     "output_type": "stream",
     "text": [
      "     66/100         0G      1.848     0.9276      1.074         60        640: 100%|██████████| 45/45 [05:56<00:00,  7.\n",
      "                 Class     Images  Instances      Box(P          R      mAP50  mAP50-95): 100%|██████████| 7/7 [00:21<0"
     ]
    },
    {
     "name": "stdout",
     "output_type": "stream",
     "text": [
      "                   all        203       1202      0.712      0.637      0.685      0.274\n"
     ]
    },
    {
     "name": "stderr",
     "output_type": "stream",
     "text": [
      "\n"
     ]
    },
    {
     "name": "stdout",
     "output_type": "stream",
     "text": [
      "\n",
      "      Epoch    GPU_mem   box_loss   cls_loss   dfl_loss  Instances       Size\n"
     ]
    },
    {
     "name": "stderr",
     "output_type": "stream",
     "text": [
      "     67/100         0G       1.82     0.9253      1.063         36        640: 100%|██████████| 45/45 [05:56<00:00,  7.\n",
      "                 Class     Images  Instances      Box(P          R      mAP50  mAP50-95): 100%|██████████| 7/7 [00:21<0"
     ]
    },
    {
     "name": "stdout",
     "output_type": "stream",
     "text": [
      "                   all        203       1202      0.724      0.639      0.692       0.28\n"
     ]
    },
    {
     "name": "stderr",
     "output_type": "stream",
     "text": [
      "\n"
     ]
    },
    {
     "name": "stdout",
     "output_type": "stream",
     "text": [
      "\n",
      "      Epoch    GPU_mem   box_loss   cls_loss   dfl_loss  Instances       Size\n"
     ]
    },
    {
     "name": "stderr",
     "output_type": "stream",
     "text": [
      "     68/100         0G      1.804     0.9285      1.065         62        640: 100%|██████████| 45/45 [05:54<00:00,  7.\n",
      "                 Class     Images  Instances      Box(P          R      mAP50  mAP50-95): 100%|██████████| 7/7 [00:21<0"
     ]
    },
    {
     "name": "stdout",
     "output_type": "stream",
     "text": [
      "                   all        203       1202      0.718      0.646      0.691      0.275\n"
     ]
    },
    {
     "name": "stderr",
     "output_type": "stream",
     "text": [
      "\n"
     ]
    },
    {
     "name": "stdout",
     "output_type": "stream",
     "text": [
      "\n",
      "      Epoch    GPU_mem   box_loss   cls_loss   dfl_loss  Instances       Size\n"
     ]
    },
    {
     "name": "stderr",
     "output_type": "stream",
     "text": [
      "     69/100         0G      1.784     0.9068      1.053         75        640: 100%|██████████| 45/45 [05:54<00:00,  7.\n",
      "                 Class     Images  Instances      Box(P          R      mAP50  mAP50-95): 100%|██████████| 7/7 [00:21<0"
     ]
    },
    {
     "name": "stdout",
     "output_type": "stream",
     "text": [
      "                   all        203       1202      0.706      0.648      0.695      0.272\n"
     ]
    },
    {
     "name": "stderr",
     "output_type": "stream",
     "text": [
      "\n"
     ]
    },
    {
     "name": "stdout",
     "output_type": "stream",
     "text": [
      "\n",
      "      Epoch    GPU_mem   box_loss   cls_loss   dfl_loss  Instances       Size\n"
     ]
    },
    {
     "name": "stderr",
     "output_type": "stream",
     "text": [
      "     70/100         0G      1.786     0.8975      1.058         54        640: 100%|██████████| 45/45 [05:54<00:00,  7.\n",
      "                 Class     Images  Instances      Box(P          R      mAP50  mAP50-95): 100%|██████████| 7/7 [00:21<0"
     ]
    },
    {
     "name": "stdout",
     "output_type": "stream",
     "text": [
      "                   all        203       1202      0.705      0.638      0.693      0.274\n"
     ]
    },
    {
     "name": "stderr",
     "output_type": "stream",
     "text": [
      "\n"
     ]
    },
    {
     "name": "stdout",
     "output_type": "stream",
     "text": [
      "\n",
      "      Epoch    GPU_mem   box_loss   cls_loss   dfl_loss  Instances       Size\n"
     ]
    },
    {
     "name": "stderr",
     "output_type": "stream",
     "text": [
      "     71/100         0G      1.809     0.9054       1.06         54        640: 100%|██████████| 45/45 [05:56<00:00,  7.\n",
      "                 Class     Images  Instances      Box(P          R      mAP50  mAP50-95): 100%|██████████| 7/7 [00:21<0"
     ]
    },
    {
     "name": "stdout",
     "output_type": "stream",
     "text": [
      "                   all        203       1202        0.7      0.642      0.687      0.269\n"
     ]
    },
    {
     "name": "stderr",
     "output_type": "stream",
     "text": [
      "\n"
     ]
    },
    {
     "name": "stdout",
     "output_type": "stream",
     "text": [
      "\n",
      "      Epoch    GPU_mem   box_loss   cls_loss   dfl_loss  Instances       Size\n"
     ]
    },
    {
     "name": "stderr",
     "output_type": "stream",
     "text": [
      "     72/100         0G       1.78      0.893       1.06        124        640: 100%|██████████| 45/45 [05:55<00:00,  7.\n",
      "                 Class     Images  Instances      Box(P          R      mAP50  mAP50-95): 100%|██████████| 7/7 [00:21<0"
     ]
    },
    {
     "name": "stdout",
     "output_type": "stream",
     "text": [
      "                   all        203       1202      0.716      0.647      0.688      0.272\n"
     ]
    },
    {
     "name": "stderr",
     "output_type": "stream",
     "text": [
      "\n"
     ]
    },
    {
     "name": "stdout",
     "output_type": "stream",
     "text": [
      "\n",
      "      Epoch    GPU_mem   box_loss   cls_loss   dfl_loss  Instances       Size\n"
     ]
    },
    {
     "name": "stderr",
     "output_type": "stream",
     "text": [
      "     73/100         0G      1.734     0.8674      1.047         38        640: 100%|██████████| 45/45 [05:54<00:00,  7.\n",
      "                 Class     Images  Instances      Box(P          R      mAP50  mAP50-95): 100%|██████████| 7/7 [00:21<0"
     ]
    },
    {
     "name": "stdout",
     "output_type": "stream",
     "text": [
      "                   all        203       1202      0.707      0.638      0.682       0.27\n"
     ]
    },
    {
     "name": "stderr",
     "output_type": "stream",
     "text": [
      "\n"
     ]
    },
    {
     "name": "stdout",
     "output_type": "stream",
     "text": [
      "\n",
      "      Epoch    GPU_mem   box_loss   cls_loss   dfl_loss  Instances       Size\n"
     ]
    },
    {
     "name": "stderr",
     "output_type": "stream",
     "text": [
      "     74/100         0G      1.775     0.8847      1.058         48        640: 100%|██████████| 45/45 [05:55<00:00,  7.\n",
      "                 Class     Images  Instances      Box(P          R      mAP50  mAP50-95): 100%|██████████| 7/7 [00:21<0"
     ]
    },
    {
     "name": "stdout",
     "output_type": "stream",
     "text": [
      "                   all        203       1202      0.709      0.638      0.681      0.272\n"
     ]
    },
    {
     "name": "stderr",
     "output_type": "stream",
     "text": [
      "\n"
     ]
    },
    {
     "name": "stdout",
     "output_type": "stream",
     "text": [
      "\n",
      "      Epoch    GPU_mem   box_loss   cls_loss   dfl_loss  Instances       Size\n"
     ]
    },
    {
     "name": "stderr",
     "output_type": "stream",
     "text": [
      "     75/100         0G      1.766     0.8883      1.059        129        640: 100%|██████████| 45/45 [05:53<00:00,  7.\n",
      "                 Class     Images  Instances      Box(P          R      mAP50  mAP50-95): 100%|██████████| 7/7 [00:21<0"
     ]
    },
    {
     "name": "stdout",
     "output_type": "stream",
     "text": [
      "                   all        203       1202      0.678      0.661      0.678      0.272\n"
     ]
    },
    {
     "name": "stderr",
     "output_type": "stream",
     "text": [
      "\n"
     ]
    },
    {
     "name": "stdout",
     "output_type": "stream",
     "text": [
      "\n",
      "      Epoch    GPU_mem   box_loss   cls_loss   dfl_loss  Instances       Size\n"
     ]
    },
    {
     "name": "stderr",
     "output_type": "stream",
     "text": [
      "     76/100         0G      1.743     0.8727      1.043         70        640: 100%|██████████| 45/45 [05:56<00:00,  7.\n",
      "                 Class     Images  Instances      Box(P          R      mAP50  mAP50-95): 100%|██████████| 7/7 [00:21<0"
     ]
    },
    {
     "name": "stdout",
     "output_type": "stream",
     "text": [
      "                   all        203       1202       0.71      0.633       0.68      0.271\n"
     ]
    },
    {
     "name": "stderr",
     "output_type": "stream",
     "text": [
      "\n"
     ]
    },
    {
     "name": "stdout",
     "output_type": "stream",
     "text": [
      "\n",
      "      Epoch    GPU_mem   box_loss   cls_loss   dfl_loss  Instances       Size\n"
     ]
    },
    {
     "name": "stderr",
     "output_type": "stream",
     "text": [
      "     77/100         0G      1.711      0.848       1.05         42        640: 100%|██████████| 45/45 [05:54<00:00,  7.\n",
      "                 Class     Images  Instances      Box(P          R      mAP50  mAP50-95): 100%|██████████| 7/7 [00:21<0"
     ]
    },
    {
     "name": "stdout",
     "output_type": "stream",
     "text": [
      "                   all        203       1202      0.706      0.649      0.677      0.269\n"
     ]
    },
    {
     "name": "stderr",
     "output_type": "stream",
     "text": [
      "\n"
     ]
    },
    {
     "name": "stdout",
     "output_type": "stream",
     "text": [
      "\n",
      "      Epoch    GPU_mem   box_loss   cls_loss   dfl_loss  Instances       Size\n"
     ]
    },
    {
     "name": "stderr",
     "output_type": "stream",
     "text": [
      "     78/100         0G      1.735     0.8649      1.041         76        640: 100%|██████████| 45/45 [05:55<00:00,  7.\n",
      "                 Class     Images  Instances      Box(P          R      mAP50  mAP50-95): 100%|██████████| 7/7 [00:20<0"
     ]
    },
    {
     "name": "stdout",
     "output_type": "stream",
     "text": [
      "                   all        203       1202      0.718      0.647      0.692      0.272\n"
     ]
    },
    {
     "name": "stderr",
     "output_type": "stream",
     "text": [
      "\n"
     ]
    },
    {
     "name": "stdout",
     "output_type": "stream",
     "text": [
      "\n",
      "      Epoch    GPU_mem   box_loss   cls_loss   dfl_loss  Instances       Size\n"
     ]
    },
    {
     "name": "stderr",
     "output_type": "stream",
     "text": [
      "     79/100         0G      1.713     0.8516      1.032         49        640: 100%|██████████| 45/45 [05:52<00:00,  7.\n",
      "                 Class     Images  Instances      Box(P          R      mAP50  mAP50-95): 100%|██████████| 7/7 [00:21<0"
     ]
    },
    {
     "name": "stdout",
     "output_type": "stream",
     "text": [
      "                   all        203       1202      0.722      0.652      0.691      0.275\n"
     ]
    },
    {
     "name": "stderr",
     "output_type": "stream",
     "text": [
      "\n"
     ]
    },
    {
     "name": "stdout",
     "output_type": "stream",
     "text": [
      "\n",
      "      Epoch    GPU_mem   box_loss   cls_loss   dfl_loss  Instances       Size\n"
     ]
    },
    {
     "name": "stderr",
     "output_type": "stream",
     "text": [
      "     80/100         0G      1.748     0.8572      1.049        104        640: 100%|██████████| 45/45 [05:54<00:00,  7.\n",
      "                 Class     Images  Instances      Box(P          R      mAP50  mAP50-95): 100%|██████████| 7/7 [00:21<0"
     ]
    },
    {
     "name": "stdout",
     "output_type": "stream",
     "text": [
      "                   all        203       1202      0.731       0.64        0.7      0.276\n"
     ]
    },
    {
     "name": "stderr",
     "output_type": "stream",
     "text": [
      "\n"
     ]
    },
    {
     "name": "stdout",
     "output_type": "stream",
     "text": [
      "\n",
      "      Epoch    GPU_mem   box_loss   cls_loss   dfl_loss  Instances       Size\n"
     ]
    },
    {
     "name": "stderr",
     "output_type": "stream",
     "text": [
      "     81/100         0G      1.726     0.8677      1.044         52        640: 100%|██████████| 45/45 [05:55<00:00,  7.\n",
      "                 Class     Images  Instances      Box(P          R      mAP50  mAP50-95): 100%|██████████| 7/7 [00:21<0"
     ]
    },
    {
     "name": "stdout",
     "output_type": "stream",
     "text": [
      "                   all        203       1202      0.702      0.657      0.689      0.271\n"
     ]
    },
    {
     "name": "stderr",
     "output_type": "stream",
     "text": [
      "\n"
     ]
    },
    {
     "name": "stdout",
     "output_type": "stream",
     "text": [
      "\n",
      "      Epoch    GPU_mem   box_loss   cls_loss   dfl_loss  Instances       Size\n"
     ]
    },
    {
     "name": "stderr",
     "output_type": "stream",
     "text": [
      "     82/100         0G      1.695     0.8357      1.035        108        640: 100%|██████████| 45/45 [05:54<00:00,  7.\n",
      "                 Class     Images  Instances      Box(P          R      mAP50  mAP50-95): 100%|██████████| 7/7 [00:21<0"
     ]
    },
    {
     "name": "stdout",
     "output_type": "stream",
     "text": [
      "                   all        203       1202      0.729      0.641      0.691      0.271\n"
     ]
    },
    {
     "name": "stderr",
     "output_type": "stream",
     "text": [
      "\n"
     ]
    },
    {
     "name": "stdout",
     "output_type": "stream",
     "text": [
      "\n",
      "      Epoch    GPU_mem   box_loss   cls_loss   dfl_loss  Instances       Size\n"
     ]
    },
    {
     "name": "stderr",
     "output_type": "stream",
     "text": [
      "     83/100         0G      1.728     0.8433      1.039         56        640: 100%|██████████| 45/45 [05:55<00:00,  7.\n",
      "                 Class     Images  Instances      Box(P          R      mAP50  mAP50-95): 100%|██████████| 7/7 [00:21<0"
     ]
    },
    {
     "name": "stdout",
     "output_type": "stream",
     "text": [
      "                   all        203       1202      0.702      0.654      0.693      0.273\n"
     ]
    },
    {
     "name": "stderr",
     "output_type": "stream",
     "text": [
      "\n"
     ]
    },
    {
     "name": "stdout",
     "output_type": "stream",
     "text": [
      "\n",
      "      Epoch    GPU_mem   box_loss   cls_loss   dfl_loss  Instances       Size\n"
     ]
    },
    {
     "name": "stderr",
     "output_type": "stream",
     "text": [
      "     84/100         0G      1.664     0.8173      1.029         70        640: 100%|██████████| 45/45 [05:55<00:00,  7.\n",
      "                 Class     Images  Instances      Box(P          R      mAP50  mAP50-95): 100%|██████████| 7/7 [00:21<0"
     ]
    },
    {
     "name": "stdout",
     "output_type": "stream",
     "text": [
      "                   all        203       1202      0.686      0.651      0.678      0.266\n"
     ]
    },
    {
     "name": "stderr",
     "output_type": "stream",
     "text": [
      "\n"
     ]
    },
    {
     "name": "stdout",
     "output_type": "stream",
     "text": [
      "\n",
      "      Epoch    GPU_mem   box_loss   cls_loss   dfl_loss  Instances       Size\n"
     ]
    },
    {
     "name": "stderr",
     "output_type": "stream",
     "text": [
      "     85/100         0G      1.686     0.8388      1.034         25        640: 100%|██████████| 45/45 [05:55<00:00,  7.\n",
      "                 Class     Images  Instances      Box(P          R      mAP50  mAP50-95): 100%|██████████| 7/7 [00:21<0"
     ]
    },
    {
     "name": "stdout",
     "output_type": "stream",
     "text": [
      "                   all        203       1202      0.706      0.669      0.688      0.269\n"
     ]
    },
    {
     "name": "stderr",
     "output_type": "stream",
     "text": [
      "\n"
     ]
    },
    {
     "name": "stdout",
     "output_type": "stream",
     "text": [
      "\n",
      "      Epoch    GPU_mem   box_loss   cls_loss   dfl_loss  Instances       Size\n"
     ]
    },
    {
     "name": "stderr",
     "output_type": "stream",
     "text": [
      "     86/100         0G      1.657     0.8111      1.032         63        640: 100%|██████████| 45/45 [05:54<00:00,  7.\n",
      "                 Class     Images  Instances      Box(P          R      mAP50  mAP50-95): 100%|██████████| 7/7 [00:21<0"
     ]
    },
    {
     "name": "stdout",
     "output_type": "stream",
     "text": [
      "                   all        203       1202      0.729      0.639      0.689      0.268\n"
     ]
    },
    {
     "name": "stderr",
     "output_type": "stream",
     "text": [
      "\n"
     ]
    },
    {
     "name": "stdout",
     "output_type": "stream",
     "text": [
      "\n",
      "      Epoch    GPU_mem   box_loss   cls_loss   dfl_loss  Instances       Size\n"
     ]
    },
    {
     "name": "stderr",
     "output_type": "stream",
     "text": [
      "     87/100         0G      1.699     0.8495      1.026         61        640: 100%|██████████| 45/45 [05:57<00:00,  7.\n",
      "                 Class     Images  Instances      Box(P          R      mAP50  mAP50-95): 100%|██████████| 7/7 [00:20<0"
     ]
    },
    {
     "name": "stdout",
     "output_type": "stream",
     "text": [
      "                   all        203       1202      0.693      0.656      0.691      0.268\n"
     ]
    },
    {
     "name": "stderr",
     "output_type": "stream",
     "text": [
      "\n"
     ]
    },
    {
     "name": "stdout",
     "output_type": "stream",
     "text": [
      "\n",
      "      Epoch    GPU_mem   box_loss   cls_loss   dfl_loss  Instances       Size\n"
     ]
    },
    {
     "name": "stderr",
     "output_type": "stream",
     "text": [
      "     88/100         0G      1.695     0.8401       1.03         76        640: 100%|██████████| 45/45 [05:53<00:00,  7.\n",
      "                 Class     Images  Instances      Box(P          R      mAP50  mAP50-95): 100%|██████████| 7/7 [00:21<0"
     ]
    },
    {
     "name": "stdout",
     "output_type": "stream",
     "text": [
      "                   all        203       1202      0.736      0.622      0.684      0.271\n"
     ]
    },
    {
     "name": "stderr",
     "output_type": "stream",
     "text": [
      "\n"
     ]
    },
    {
     "name": "stdout",
     "output_type": "stream",
     "text": [
      "\n",
      "      Epoch    GPU_mem   box_loss   cls_loss   dfl_loss  Instances       Size\n"
     ]
    },
    {
     "name": "stderr",
     "output_type": "stream",
     "text": [
      "     89/100         0G       1.67     0.8284      1.024         36        640: 100%|██████████| 45/45 [05:54<00:00,  7.\n",
      "                 Class     Images  Instances      Box(P          R      mAP50  mAP50-95): 100%|██████████| 7/7 [00:21<0"
     ]
    },
    {
     "name": "stdout",
     "output_type": "stream",
     "text": [
      "                   all        203       1202      0.709      0.638      0.682      0.267\n"
     ]
    },
    {
     "name": "stderr",
     "output_type": "stream",
     "text": [
      "\n"
     ]
    },
    {
     "name": "stdout",
     "output_type": "stream",
     "text": [
      "\n",
      "      Epoch    GPU_mem   box_loss   cls_loss   dfl_loss  Instances       Size\n"
     ]
    },
    {
     "name": "stderr",
     "output_type": "stream",
     "text": [
      "     90/100         0G      1.666     0.8119      1.027         76        640: 100%|██████████| 45/45 [05:53<00:00,  7.\n",
      "                 Class     Images  Instances      Box(P          R      mAP50  mAP50-95): 100%|██████████| 7/7 [00:21<0"
     ]
    },
    {
     "name": "stdout",
     "output_type": "stream",
     "text": [
      "                   all        203       1202       0.72      0.643      0.689      0.269\n"
     ]
    },
    {
     "name": "stderr",
     "output_type": "stream",
     "text": [
      "\n"
     ]
    },
    {
     "name": "stdout",
     "output_type": "stream",
     "text": [
      "Closing dataloader mosaic\n",
      "\n",
      "      Epoch    GPU_mem   box_loss   cls_loss   dfl_loss  Instances       Size\n"
     ]
    },
    {
     "name": "stderr",
     "output_type": "stream",
     "text": [
      "     91/100         0G      1.724     0.8602      1.065         33        640: 100%|██████████| 45/45 [05:46<00:00,  7.\n",
      "                 Class     Images  Instances      Box(P          R      mAP50  mAP50-95): 100%|██████████| 7/7 [00:21<0"
     ]
    },
    {
     "name": "stdout",
     "output_type": "stream",
     "text": [
      "                   all        203       1202       0.71      0.626      0.674      0.266\n"
     ]
    },
    {
     "name": "stderr",
     "output_type": "stream",
     "text": [
      "\n"
     ]
    },
    {
     "name": "stdout",
     "output_type": "stream",
     "text": [
      "\n",
      "      Epoch    GPU_mem   box_loss   cls_loss   dfl_loss  Instances       Size\n"
     ]
    },
    {
     "name": "stderr",
     "output_type": "stream",
     "text": [
      "     92/100         0G      1.664     0.8105      1.054         37        640: 100%|██████████| 45/45 [05:44<00:00,  7.\n",
      "                 Class     Images  Instances      Box(P          R      mAP50  mAP50-95): 100%|██████████| 7/7 [00:21<0"
     ]
    },
    {
     "name": "stdout",
     "output_type": "stream",
     "text": [
      "                   all        203       1202      0.692      0.661       0.69      0.269\n"
     ]
    },
    {
     "name": "stderr",
     "output_type": "stream",
     "text": [
      "\n"
     ]
    },
    {
     "name": "stdout",
     "output_type": "stream",
     "text": [
      "\n",
      "      Epoch    GPU_mem   box_loss   cls_loss   dfl_loss  Instances       Size\n"
     ]
    },
    {
     "name": "stderr",
     "output_type": "stream",
     "text": [
      "     93/100         0G       1.65     0.8094      1.043         34        640: 100%|██████████| 45/45 [05:46<00:00,  7.\n",
      "                 Class     Images  Instances      Box(P          R      mAP50  mAP50-95): 100%|██████████| 7/7 [00:21<0"
     ]
    },
    {
     "name": "stdout",
     "output_type": "stream",
     "text": [
      "                   all        203       1202      0.696      0.653      0.685      0.267\n"
     ]
    },
    {
     "name": "stderr",
     "output_type": "stream",
     "text": [
      "\n"
     ]
    },
    {
     "name": "stdout",
     "output_type": "stream",
     "text": [
      "\n",
      "      Epoch    GPU_mem   box_loss   cls_loss   dfl_loss  Instances       Size\n"
     ]
    },
    {
     "name": "stderr",
     "output_type": "stream",
     "text": [
      "     94/100         0G      1.636     0.7897       1.04         34        640: 100%|██████████| 45/45 [05:45<00:00,  7.\n",
      "                 Class     Images  Instances      Box(P          R      mAP50  mAP50-95): 100%|██████████| 7/7 [00:21<0"
     ]
    },
    {
     "name": "stdout",
     "output_type": "stream",
     "text": [
      "                   all        203       1202      0.712      0.633      0.679      0.264\n"
     ]
    },
    {
     "name": "stderr",
     "output_type": "stream",
     "text": [
      "\n"
     ]
    },
    {
     "name": "stdout",
     "output_type": "stream",
     "text": [
      "\n",
      "      Epoch    GPU_mem   box_loss   cls_loss   dfl_loss  Instances       Size\n"
     ]
    },
    {
     "name": "stderr",
     "output_type": "stream",
     "text": [
      "     95/100         0G      1.641     0.7886      1.043         39        640: 100%|██████████| 45/45 [05:45<00:00,  7.\n",
      "                 Class     Images  Instances      Box(P          R      mAP50  mAP50-95): 100%|██████████| 7/7 [00:20<0"
     ]
    },
    {
     "name": "stdout",
     "output_type": "stream",
     "text": [
      "                   all        203       1202      0.724      0.621       0.68      0.265\n"
     ]
    },
    {
     "name": "stderr",
     "output_type": "stream",
     "text": [
      "\n"
     ]
    },
    {
     "name": "stdout",
     "output_type": "stream",
     "text": [
      "\n",
      "      Epoch    GPU_mem   box_loss   cls_loss   dfl_loss  Instances       Size\n"
     ]
    },
    {
     "name": "stderr",
     "output_type": "stream",
     "text": [
      "     96/100         0G      1.633     0.7931      1.045         36        640: 100%|██████████| 45/45 [05:44<00:00,  7.\n",
      "                 Class     Images  Instances      Box(P          R      mAP50  mAP50-95): 100%|██████████| 7/7 [00:21<0"
     ]
    },
    {
     "name": "stdout",
     "output_type": "stream",
     "text": [
      "                   all        203       1202      0.724      0.624      0.683      0.267\n"
     ]
    },
    {
     "name": "stderr",
     "output_type": "stream",
     "text": [
      "\n"
     ]
    },
    {
     "name": "stdout",
     "output_type": "stream",
     "text": [
      "\n",
      "      Epoch    GPU_mem   box_loss   cls_loss   dfl_loss  Instances       Size\n"
     ]
    },
    {
     "name": "stderr",
     "output_type": "stream",
     "text": [
      "     97/100         0G      1.613     0.7751      1.031         47        640: 100%|██████████| 45/45 [05:47<00:00,  7.\n",
      "                 Class     Images  Instances      Box(P          R      mAP50  mAP50-95): 100%|██████████| 7/7 [00:21<0"
     ]
    },
    {
     "name": "stdout",
     "output_type": "stream",
     "text": [
      "                   all        203       1202      0.694      0.643      0.681      0.265\n"
     ]
    },
    {
     "name": "stderr",
     "output_type": "stream",
     "text": [
      "\n"
     ]
    },
    {
     "name": "stdout",
     "output_type": "stream",
     "text": [
      "\n",
      "      Epoch    GPU_mem   box_loss   cls_loss   dfl_loss  Instances       Size\n"
     ]
    },
    {
     "name": "stderr",
     "output_type": "stream",
     "text": [
      "     98/100         0G      1.611     0.7762      1.032         30        640: 100%|██████████| 45/45 [05:45<00:00,  7.\n",
      "                 Class     Images  Instances      Box(P          R      mAP50  mAP50-95): 100%|██████████| 7/7 [00:21<0"
     ]
    },
    {
     "name": "stdout",
     "output_type": "stream",
     "text": [
      "                   all        203       1202      0.721      0.634      0.686      0.266\n"
     ]
    },
    {
     "name": "stderr",
     "output_type": "stream",
     "text": [
      "\n"
     ]
    },
    {
     "name": "stdout",
     "output_type": "stream",
     "text": [
      "\n",
      "      Epoch    GPU_mem   box_loss   cls_loss   dfl_loss  Instances       Size\n"
     ]
    },
    {
     "name": "stderr",
     "output_type": "stream",
     "text": [
      "     99/100         0G      1.601     0.7621      1.027         36        640: 100%|██████████| 45/45 [05:46<00:00,  7.\n",
      "                 Class     Images  Instances      Box(P          R      mAP50  mAP50-95): 100%|██████████| 7/7 [00:21<0"
     ]
    },
    {
     "name": "stdout",
     "output_type": "stream",
     "text": [
      "                   all        203       1202      0.728       0.63      0.685      0.266\n"
     ]
    },
    {
     "name": "stderr",
     "output_type": "stream",
     "text": [
      "\n"
     ]
    },
    {
     "name": "stdout",
     "output_type": "stream",
     "text": [
      "\n",
      "      Epoch    GPU_mem   box_loss   cls_loss   dfl_loss  Instances       Size\n"
     ]
    },
    {
     "name": "stderr",
     "output_type": "stream",
     "text": [
      "    100/100         0G      1.602     0.7631       1.03         22        640: 100%|██████████| 45/45 [05:46<00:00,  7.\n",
      "                 Class     Images  Instances      Box(P          R      mAP50  mAP50-95): 100%|██████████| 7/7 [00:21<0"
     ]
    },
    {
     "name": "stdout",
     "output_type": "stream",
     "text": [
      "                   all        203       1202      0.726      0.632      0.688      0.267\n"
     ]
    },
    {
     "name": "stderr",
     "output_type": "stream",
     "text": [
      "\n"
     ]
    },
    {
     "name": "stdout",
     "output_type": "stream",
     "text": [
      "\n",
      "100 epochs completed in 10.535 hours.\n",
      "Optimizer stripped from runs\\detect\\train10\\weights\\last.pt, 6.2MB\n",
      "Optimizer stripped from runs\\detect\\train10\\weights\\best.pt, 6.2MB\n",
      "\n",
      "Validating runs\\detect\\train10\\weights\\best.pt...\n",
      "Ultralytics YOLOv8.1.43  Python-3.12.2 torch-2.2.2 CPU (Intel Core(TM) i7-1065G7 1.30GHz)\n",
      "Model summary (fused): 168 layers, 3005843 parameters, 0 gradients\n"
     ]
    },
    {
     "name": "stderr",
     "output_type": "stream",
     "text": [
      "                 Class     Images  Instances      Box(P          R      mAP50  mAP50-95): 100%|██████████| 7/7 [00:17<0\n"
     ]
    },
    {
     "name": "stdout",
     "output_type": "stream",
     "text": [
      "                   all        203       1202      0.726      0.641      0.694       0.28\n",
      "Speed: 1.2ms preprocess, 80.3ms inference, 0.0ms loss, 0.4ms postprocess per image\n",
      "Results saved to \u001b[1mruns\\detect\\train10\u001b[0m\n"
     ]
    }
   ],
   "source": [
    "results = model.train(data='./data1.yaml', epochs=100)"
   ]
  },
  {
   "cell_type": "code",
   "execution_count": 2,
   "id": "3b1f8f6c-4948-451b-a99c-d2a8e10bbea4",
   "metadata": {},
   "outputs": [],
   "source": [
    "model = YOLO(r'.\\runs\\detect\\train10\\weights\\best.pt')"
   ]
  },
  {
   "cell_type": "code",
   "execution_count": 3,
   "id": "d7f5fa81-1124-4ee1-b383-34ee00229e23",
   "metadata": {},
   "outputs": [],
   "source": [
    "def get_mp4_files(folder_path):\n",
    "    mp4_files = []\n",
    "    for file in os.listdir(folder_path):\n",
    "        if file.endswith(\".mp4\"):\n",
    "            mp4_files.append(os.path.join(folder_path, file))\n",
    "    return mp4_files"
   ]
  },
  {
   "cell_type": "code",
   "execution_count": 10,
   "id": "bdf5fb29-75bc-48ce-8140-8f9055c97af9",
   "metadata": {},
   "outputs": [],
   "source": [
    "\n",
    "# V4train = get_mp4_files(\"ForTraining\")\n",
    "Videos = get_mp4_files(\"data\")"
   ]
  },
  {
   "cell_type": "code",
   "execution_count": 11,
   "id": "63d0fb99-5b58-43a2-afcb-fad435a53600",
   "metadata": {},
   "outputs": [
    {
     "data": {
      "text/plain": [
       "14"
      ]
     },
     "execution_count": 11,
     "metadata": {},
     "output_type": "execute_result"
    }
   ],
   "source": [
    "len(Videos)"
   ]
  },
  {
   "cell_type": "code",
   "execution_count": 7,
   "id": "68020c73-e9c5-4929-9715-e4244291f196",
   "metadata": {},
   "outputs": [
    {
     "data": {
      "image/png": "[encoded data removed]",
      "text/plain": [
       "<Figure size 640x480 with 1 Axes>"
      ]
     },
     "metadata": {},
     "output_type": "display_data"
    }
   ],
   "source": [
    "import pandas as pd\n",
    "path = r\"runs/detect/train10/results.csv\"\n",
    "Result = pd.read_csv(path)\n",
    "plt.plot(range(len(Result['         train/cls_loss'])), Result['         train/cls_loss'], label = \"train\")\n",
    "plt.plot(range(len(Result['           val/cls_loss'])), Result['           val/cls_loss'], label = \"val\")\n",
    "plt.legend()\n",
    "plt.show()"
   ]
  },
  {
   "cell_type": "code",
   "execution_count": null,
   "id": "d1e00615-517f-4e3d-a08b-5ea55865e067",
   "metadata": {},
   "outputs": [
    {
     "name": "stdout",
     "output_type": "stream",
     "text": [
      "<generator object BasePredictor.stream_inference at 0x0000019E75711D80>\n"
     ]
    },
    {
     "name": "stderr",
     "output_type": "stream",
     "text": [
      "13953it [27:32,  8.44it/s]\n"
     ]
    },
    {
     "name": "stdout",
     "output_type": "stream",
     "text": [
      "<generator object BasePredictor.stream_inference at 0x0000019E0163B520>\n"
     ]
    },
    {
     "name": "stderr",
     "output_type": "stream",
     "text": [
      "8902it [15:56,  9.31it/s]\n"
     ]
    },
    {
     "name": "stdout",
     "output_type": "stream",
     "text": [
      "<generator object BasePredictor.stream_inference at 0x0000019E01639C60>\n"
     ]
    },
    {
     "name": "stderr",
     "output_type": "stream",
     "text": [
      "253318it [7:54:24,  8.90it/s]\n"
     ]
    },
    {
     "name": "stdout",
     "output_type": "stream",
     "text": [
      "<generator object BasePredictor.stream_inference at 0x0000019E0163B520>\n"
     ]
    },
    {
     "name": "stderr",
     "output_type": "stream",
     "text": [
      "165084it [4:57:59,  9.23it/s]\n"
     ]
    },
    {
     "name": "stdout",
     "output_type": "stream",
     "text": [
      "<generator object BasePredictor.stream_inference at 0x0000019E01639C60>\n"
     ]
    },
    {
     "name": "stderr",
     "output_type": "stream",
     "text": [
      "70566it [2:10:40,  9.00it/s]\n"
     ]
    },
    {
     "name": "stdout",
     "output_type": "stream",
     "text": [
      "<generator object BasePredictor.stream_inference at 0x0000019E0163B520>\n"
     ]
    },
    {
     "name": "stderr",
     "output_type": "stream",
     "text": [
      "46181it [1:23:19,  9.24it/s]\n"
     ]
    },
    {
     "name": "stdout",
     "output_type": "stream",
     "text": [
      "<generator object BasePredictor.stream_inference at 0x0000019E01639C60>\n"
     ]
    },
    {
     "name": "stderr",
     "output_type": "stream",
     "text": [
      "385077it [10:50:26,  9.87it/s]\n"
     ]
    },
    {
     "name": "stdout",
     "output_type": "stream",
     "text": [
      "<generator object BasePredictor.stream_inference at 0x0000019E0163B520>\n"
     ]
    },
    {
     "name": "stderr",
     "output_type": "stream",
     "text": [
      "581230it [15:43:36, 10.27it/s]\n"
     ]
    },
    {
     "name": "stdout",
     "output_type": "stream",
     "text": [
      "<generator object BasePredictor.stream_inference at 0x0000019E01639C60>\n"
     ]
    },
    {
     "name": "stderr",
     "output_type": "stream",
     "text": [
      "266263it [7:02:05, 10.51it/s]\n"
     ]
    },
    {
     "name": "stdout",
     "output_type": "stream",
     "text": [
      "<generator object BasePredictor.stream_inference at 0x0000019E0163B520>\n"
     ]
    },
    {
     "name": "stderr",
     "output_type": "stream",
     "text": [
      "176874it [4:46:36, 10.29it/s]\n"
     ]
    },
    {
     "name": "stdout",
     "output_type": "stream",
     "text": [
      "<generator object BasePredictor.stream_inference at 0x0000019E01639C60>\n"
     ]
    },
    {
     "name": "stderr",
     "output_type": "stream",
     "text": [
      "268879it [6:48:59, 11.02it/s]]"
     ]
    }
   ],
   "source": [
    "from tqdm import tqdm\n",
    "AllVideos = []\n",
    "for i in range(len(Videos)):\n",
    "    AllFrames = []\n",
    "    result = model(source = Videos[i], stream = True, verbose = False)\n",
    "    print(result)\n",
    "    allFrames = list(map(lambda r: len(r.boxes), tqdm(result)))\n",
    "    AllVideos.append(allFrames)\n",
    "    # for r in tqdm(result):\n",
    "    #     AllFrames.append(len(r.boxes))\n",
    "        # print(len(r.boxes))"
   ]
  },
  {
   "cell_type": "code",
   "execution_count": 8,
   "id": "6cb42bad-1dd2-4d06-a607-74dd57bfdc02",
   "metadata": {},
   "outputs": [],
   "source": [
    "import pickle\n",
    "with open(\"AllFrames_11video.pkl\", 'wb') as f:\n",
    "    pickle.dump(AllVideos, f)"
   ]
  },
  {
   "cell_type": "code",
   "execution_count": 9,
   "id": "72d10084-dd91-40c1-b548-9f98ff4b24a0",
   "metadata": {},
   "outputs": [
    {
     "data": {
      "text/plain": [
       "12"
      ]
     },
     "execution_count": 9,
     "metadata": {},
     "output_type": "execute_result"
    }
   ],
   "source": [
    "len(AllVideos)"
   ]
  },
  {
   "cell_type": "code",
   "execution_count": null,
   "id": "d39ec65d-04ba-49af-99a5-4886c2be16b1",
   "metadata": {},
   "outputs": [
    {
     "name": "stderr",
     "output_type": "stream",
     "text": [
      "100%|█████████████████████████████████████████████████████████████████████████| 554863/554863 [57:57<00:00, 159.54it/s]\n",
      "100%|███████████████████████████████████████████████████████████████████████| 804739/804739 [1:32:08<00:00, 145.56it/s]\n",
      "100%|█████████████████████████████████████████████████████████████████████████| 177425/177425 [20:32<00:00, 143.99it/s]\n",
      "100%|███████████████████████████████████████████████████████████████████████| 748275/748275 [1:26:08<00:00, 144.78it/s]\n",
      "100%|█████████████████████████████████████████████████████████████████████████| 251286/251286 [28:38<00:00, 146.21it/s]\n",
      "100%|█████████████████████████████████████████████████████████████████████████| 383147/383147 [44:21<00:00, 143.95it/s]\n",
      "100%|█████████████████████████████████████████████████████████████████████| 1290005/1290005 [2:28:59<00:00, 144.31it/s]\n",
      "100%|███████████████████████████████████████████████████████████████████████| 843186/843186 [1:36:56<00:00, 144.97it/s]\n",
      "100%|███████████████████████████████████████████████████████████████████████████| 71184/71184 [08:03<00:00, 147.16it/s]\n",
      "100%|███████████████████████████████████████████████████████████████████████████| 46934/46934 [05:27<00:00, 143.43it/s]\n",
      "100%|█████████████████████████████████████████████████████████████████████| 2002784/2002784 [3:46:26<00:00, 147.41it/s]\n",
      "100%|█████████████████████████████████████████████████████████████████████| 2002784/2002784 [4:13:54<00:00, 131.47it/s]\n",
      "100%|█████████████████████████████████████████████████████████████████████| 1445592/1445592 [2:51:40<00:00, 140.35it/s]\n",
      " 49%|███████████████████████████████████▋                                     | 455509/930509 [55:40<51:06, 154.89it/s]"
     ]
    }
   ],
   "source": [
    "from ultralytics.solutions import object_counter\n",
    "import cv2\n",
    "import contextlib\n",
    "from tqdm import tqdm\n",
    "import pickle\n",
    "\n",
    "# model = YOLO(\"yolov8n.pt\")\n",
    "AllVideos1 = []\n",
    "# Video_hours = []\n",
    "for video in Videos:\n",
    "    AllFrames = []\n",
    "    model = YOLO(r'.\\runs\\detect\\train10\\weights\\best.pt')\n",
    "    cap = cv2.VideoCapture(video)\n",
    "    assert cap.isOpened(), \"Error reading video file\"\n",
    "    w, h, fps, totalFrames = (int(cap.get(x)) for x in (cv2.CAP_PROP_FRAME_WIDTH, cv2.CAP_PROP_FRAME_HEIGHT, cv2.CAP_PROP_FPS, cv2.CAP_PROP_FRAME_COUNT))\n",
    "    \n",
    "    for i in tqdm(range(totalFrames)):\n",
    "    # while True:\n",
    "        if i%15 == 0:\n",
    "            success, im0 = cap.read()\n",
    "            if not success:\n",
    "                print(\"Video frame is empty or video processing has been successfully completed.\")\n",
    "                break\n",
    "            # tracks = model.track(im0, persist=True, show=False, verbose = False)\n",
    "            #   # Assuming Python 2.6 or above\n",
    "    \n",
    "            # im0 = counter.start_counting(im0, tracks)\n",
    "            # video_writer.write(im0)\n",
    "            result = model(im0, verbose = False)\n",
    "            AllFrames.append(len(result[0].boxes))\n",
    "    # object_count = counter.get_count()\n",
    "    AllVideos1.append(AllFrames)\n",
    "    cap.release()\n",
    "    # video_writer.release()\n",
    "    cv2.destroyAllWindows()\n",
    "\n",
    "# with open(\"CountCars\", 'wb') as f:\n",
    "#     pickle.dump(AllVideos, f)\n",
    "\n",
    "with open(\"AllVideos_every15frames.pkl\", 'wb') as f:\n",
    "    pickle.dump(AllVideos, f)"
   ]
  },
  {
   "cell_type": "code",
   "execution_count": 17,
   "id": "3e10305a-8d1b-4a66-b7c3-677461aa42fc",
   "metadata": {},
   "outputs": [],
   "source": [
    "with open(\"AllVideos_every15frames.pkl\", 'wb') as f:\n",
    "    pickle.dump(AllVideos1, f)"
   ]
  },
  {
   "cell_type": "code",
   "execution_count": 45,
   "id": "dd72669d-ae82-40fc-9016-1406b1055134",
   "metadata": {
    "scrolled": true
   },
   "outputs": [
    {
     "name": "stdout",
     "output_type": "stream",
     "text": [
      "ForTraining\\2022-06-28_23-46-17_31.80106036501694_35.121220449937354.mp4\n",
      "Saved frame 1000 as ForTraining\\2022-06-28_23-46-17_31.80106036501694_35.121220449937354.mp4-img_1.jpg\n",
      "Saved frame 2000 as ForTraining\\2022-06-28_23-46-17_31.80106036501694_35.121220449937354.mp4-img_2.jpg\n",
      "Saved frame 3000 as ForTraining\\2022-06-28_23-46-17_31.80106036501694_35.121220449937354.mp4-img_3.jpg\n",
      "Saved frame 4000 as ForTraining\\2022-06-28_23-46-17_31.80106036501694_35.121220449937354.mp4-img_4.jpg\n",
      "Saved frame 5000 as ForTraining\\2022-06-28_23-46-17_31.80106036501694_35.121220449937354.mp4-img_5.jpg\n",
      "Saved frame 6000 as ForTraining\\2022-06-28_23-46-17_31.80106036501694_35.121220449937354.mp4-img_6.jpg\n",
      "Video frame is empty or video processing has been successfully completed.\n",
      "ForTraining\\2022-06-28_23-46-17_32.71032685254928_34.95178804638594.mp4\n",
      "Saved frame 1000 as ForTraining\\2022-06-28_23-46-17_32.71032685254928_34.95178804638594.mp4-img_1.jpg\n",
      "Saved frame 2000 as ForTraining\\2022-06-28_23-46-17_32.71032685254928_34.95178804638594.mp4-img_2.jpg\n",
      "Saved frame 3000 as ForTraining\\2022-06-28_23-46-17_32.71032685254928_34.95178804638594.mp4-img_3.jpg\n",
      "Saved frame 4000 as ForTraining\\2022-06-28_23-46-17_32.71032685254928_34.95178804638594.mp4-img_4.jpg\n",
      "Video frame is empty or video processing has been successfully completed.\n",
      "ForTraining\\2022-06-29_00-37-27_31.80039225913383_35.12516006108053.mp4\n",
      "Saved frame 1000 as ForTraining\\2022-06-29_00-37-27_31.80039225913383_35.12516006108053.mp4-img_1.jpg\n",
      "Saved frame 2000 as ForTraining\\2022-06-29_00-37-27_31.80039225913383_35.12516006108053.mp4-img_2.jpg\n",
      "Saved frame 3000 as ForTraining\\2022-06-29_00-37-27_31.80039225913383_35.12516006108053.mp4-img_3.jpg\n",
      "Saved frame 4000 as ForTraining\\2022-06-29_00-37-27_31.80039225913383_35.12516006108053.mp4-img_4.jpg\n",
      "Saved frame 5000 as ForTraining\\2022-06-29_00-37-27_31.80039225913383_35.12516006108053.mp4-img_5.jpg\n",
      "Saved frame 6000 as ForTraining\\2022-06-29_00-37-27_31.80039225913383_35.12516006108053.mp4-img_6.jpg\n",
      "Saved frame 7000 as ForTraining\\2022-06-29_00-37-27_31.80039225913383_35.12516006108053.mp4-img_7.jpg\n",
      "Saved frame 8000 as ForTraining\\2022-06-29_00-37-27_31.80039225913383_35.12516006108053.mp4-img_8.jpg\n",
      "Saved frame 9000 as ForTraining\\2022-06-29_00-37-27_31.80039225913383_35.12516006108053.mp4-img_9.jpg\n",
      "Saved frame 10000 as ForTraining\\2022-06-29_00-37-27_31.80039225913383_35.12516006108053.mp4-img_10.jpg\n",
      "Saved frame 11000 as ForTraining\\2022-06-29_00-37-27_31.80039225913383_35.12516006108053.mp4-img_11.jpg\n",
      "Saved frame 12000 as ForTraining\\2022-06-29_00-37-27_31.80039225913383_35.12516006108053.mp4-img_12.jpg\n",
      "Saved frame 13000 as ForTraining\\2022-06-29_00-37-27_31.80039225913383_35.12516006108053.mp4-img_13.jpg\n",
      "Saved frame 14000 as ForTraining\\2022-06-29_00-37-27_31.80039225913383_35.12516006108053.mp4-img_14.jpg\n",
      "Saved frame 15000 as ForTraining\\2022-06-29_00-37-27_31.80039225913383_35.12516006108053.mp4-img_15.jpg\n",
      "Saved frame 16000 as ForTraining\\2022-06-29_00-37-27_31.80039225913383_35.12516006108053.mp4-img_16.jpg\n",
      "Saved frame 17000 as ForTraining\\2022-06-29_00-37-27_31.80039225913383_35.12516006108053.mp4-img_17.jpg\n",
      "Saved frame 18000 as ForTraining\\2022-06-29_00-37-27_31.80039225913383_35.12516006108053.mp4-img_18.jpg\n",
      "Saved frame 19000 as ForTraining\\2022-06-29_00-37-27_31.80039225913383_35.12516006108053.mp4-img_19.jpg\n",
      "Saved frame 20000 as ForTraining\\2022-06-29_00-37-27_31.80039225913383_35.12516006108053.mp4-img_20.jpg\n",
      "Saved frame 21000 as ForTraining\\2022-06-29_00-37-27_31.80039225913383_35.12516006108053.mp4-img_21.jpg\n",
      "Saved frame 22000 as ForTraining\\2022-06-29_00-37-27_31.80039225913383_35.12516006108053.mp4-img_22.jpg\n",
      "Saved frame 23000 as ForTraining\\2022-06-29_00-37-27_31.80039225913383_35.12516006108053.mp4-img_23.jpg\n",
      "Saved frame 24000 as ForTraining\\2022-06-29_00-37-27_31.80039225913383_35.12516006108053.mp4-img_24.jpg\n",
      "Saved frame 25000 as ForTraining\\2022-06-29_00-37-27_31.80039225913383_35.12516006108053.mp4-img_25.jpg\n",
      "ForTraining\\2022-06-29_00-37-27_32.710615750820445_34.952474827387555.mp4\n",
      "Saved frame 1000 as ForTraining\\2022-06-29_00-37-27_32.710615750820445_34.952474827387555.mp4-img_1.jpg\n",
      "Saved frame 2000 as ForTraining\\2022-06-29_00-37-27_32.710615750820445_34.952474827387555.mp4-img_2.jpg\n",
      "Saved frame 3000 as ForTraining\\2022-06-29_00-37-27_32.710615750820445_34.952474827387555.mp4-img_3.jpg\n",
      "Saved frame 4000 as ForTraining\\2022-06-29_00-37-27_32.710615750820445_34.952474827387555.mp4-img_4.jpg\n",
      "Saved frame 5000 as ForTraining\\2022-06-29_00-37-27_32.710615750820445_34.952474827387555.mp4-img_5.jpg\n",
      "Saved frame 6000 as ForTraining\\2022-06-29_00-37-27_32.710615750820445_34.952474827387555.mp4-img_6.jpg\n",
      "Saved frame 7000 as ForTraining\\2022-06-29_00-37-27_32.710615750820445_34.952474827387555.mp4-img_7.jpg\n",
      "Saved frame 8000 as ForTraining\\2022-06-29_00-37-27_32.710615750820445_34.952474827387555.mp4-img_8.jpg\n",
      "Saved frame 9000 as ForTraining\\2022-06-29_00-37-27_32.710615750820445_34.952474827387555.mp4-img_9.jpg\n",
      "Saved frame 10000 as ForTraining\\2022-06-29_00-37-27_32.710615750820445_34.952474827387555.mp4-img_10.jpg\n",
      "Saved frame 11000 as ForTraining\\2022-06-29_00-37-27_32.710615750820445_34.952474827387555.mp4-img_11.jpg\n",
      "Saved frame 12000 as ForTraining\\2022-06-29_00-37-27_32.710615750820445_34.952474827387555.mp4-img_12.jpg\n",
      "Saved frame 13000 as ForTraining\\2022-06-29_00-37-27_32.710615750820445_34.952474827387555.mp4-img_13.jpg\n",
      "Saved frame 14000 as ForTraining\\2022-06-29_00-37-27_32.710615750820445_34.952474827387555.mp4-img_14.jpg\n",
      "Saved frame 15000 as ForTraining\\2022-06-29_00-37-27_32.710615750820445_34.952474827387555.mp4-img_15.jpg\n",
      "Saved frame 16000 as ForTraining\\2022-06-29_00-37-27_32.710615750820445_34.952474827387555.mp4-img_16.jpg\n",
      "Saved frame 17000 as ForTraining\\2022-06-29_00-37-27_32.710615750820445_34.952474827387555.mp4-img_17.jpg\n",
      "Saved frame 18000 as ForTraining\\2022-06-29_00-37-27_32.710615750820445_34.952474827387555.mp4-img_18.jpg\n",
      "Saved frame 19000 as ForTraining\\2022-06-29_00-37-27_32.710615750820445_34.952474827387555.mp4-img_19.jpg\n",
      "Saved frame 20000 as ForTraining\\2022-06-29_00-37-27_32.710615750820445_34.952474827387555.mp4-img_20.jpg\n",
      "Saved frame 21000 as ForTraining\\2022-06-29_00-37-27_32.710615750820445_34.952474827387555.mp4-img_21.jpg\n",
      "Saved frame 22000 as ForTraining\\2022-06-29_00-37-27_32.710615750820445_34.952474827387555.mp4-img_22.jpg\n",
      "Saved frame 23000 as ForTraining\\2022-06-29_00-37-27_32.710615750820445_34.952474827387555.mp4-img_23.jpg\n",
      "Saved frame 24000 as ForTraining\\2022-06-29_00-37-27_32.710615750820445_34.952474827387555.mp4-img_24.jpg\n",
      "Saved frame 25000 as ForTraining\\2022-06-29_00-37-27_32.710615750820445_34.952474827387555.mp4-img_25.jpg\n",
      "ForTraining\\2022-06-29_05-21-14_32.05572445398939_34.834621126645494.mp4\n",
      "Saved frame 1000 as ForTraining\\2022-06-29_05-21-14_32.05572445398939_34.834621126645494.mp4-img_1.jpg\n",
      "Saved frame 2000 as ForTraining\\2022-06-29_05-21-14_32.05572445398939_34.834621126645494.mp4-img_2.jpg\n",
      "Saved frame 3000 as ForTraining\\2022-06-29_05-21-14_32.05572445398939_34.834621126645494.mp4-img_3.jpg\n",
      "Saved frame 4000 as ForTraining\\2022-06-29_05-21-14_32.05572445398939_34.834621126645494.mp4-img_4.jpg\n",
      "Saved frame 5000 as ForTraining\\2022-06-29_05-21-14_32.05572445398939_34.834621126645494.mp4-img_5.jpg\n",
      "Saved frame 6000 as ForTraining\\2022-06-29_05-21-14_32.05572445398939_34.834621126645494.mp4-img_6.jpg\n",
      "Saved frame 7000 as ForTraining\\2022-06-29_05-21-14_32.05572445398939_34.834621126645494.mp4-img_7.jpg\n",
      "Saved frame 8000 as ForTraining\\2022-06-29_05-21-14_32.05572445398939_34.834621126645494.mp4-img_8.jpg\n",
      "Saved frame 9000 as ForTraining\\2022-06-29_05-21-14_32.05572445398939_34.834621126645494.mp4-img_9.jpg\n",
      "Saved frame 10000 as ForTraining\\2022-06-29_05-21-14_32.05572445398939_34.834621126645494.mp4-img_10.jpg\n",
      "Saved frame 11000 as ForTraining\\2022-06-29_05-21-14_32.05572445398939_34.834621126645494.mp4-img_11.jpg\n",
      "Saved frame 12000 as ForTraining\\2022-06-29_05-21-14_32.05572445398939_34.834621126645494.mp4-img_12.jpg\n",
      "Saved frame 13000 as ForTraining\\2022-06-29_05-21-14_32.05572445398939_34.834621126645494.mp4-img_13.jpg\n",
      "Saved frame 14000 as ForTraining\\2022-06-29_05-21-14_32.05572445398939_34.834621126645494.mp4-img_14.jpg\n",
      "Saved frame 15000 as ForTraining\\2022-06-29_05-21-14_32.05572445398939_34.834621126645494.mp4-img_15.jpg\n",
      "Saved frame 16000 as ForTraining\\2022-06-29_05-21-14_32.05572445398939_34.834621126645494.mp4-img_16.jpg\n",
      "Saved frame 17000 as ForTraining\\2022-06-29_05-21-14_32.05572445398939_34.834621126645494.mp4-img_17.jpg\n",
      "Saved frame 18000 as ForTraining\\2022-06-29_05-21-14_32.05572445398939_34.834621126645494.mp4-img_18.jpg\n",
      "Saved frame 19000 as ForTraining\\2022-06-29_05-21-14_32.05572445398939_34.834621126645494.mp4-img_19.jpg\n",
      "Saved frame 20000 as ForTraining\\2022-06-29_05-21-14_32.05572445398939_34.834621126645494.mp4-img_20.jpg\n",
      "Saved frame 21000 as ForTraining\\2022-06-29_05-21-14_32.05572445398939_34.834621126645494.mp4-img_21.jpg\n",
      "Saved frame 22000 as ForTraining\\2022-06-29_05-21-14_32.05572445398939_34.834621126645494.mp4-img_22.jpg\n",
      "Saved frame 23000 as ForTraining\\2022-06-29_05-21-14_32.05572445398939_34.834621126645494.mp4-img_23.jpg\n",
      "Saved frame 24000 as ForTraining\\2022-06-29_05-21-14_32.05572445398939_34.834621126645494.mp4-img_24.jpg\n",
      "Saved frame 25000 as ForTraining\\2022-06-29_05-21-14_32.05572445398939_34.834621126645494.mp4-img_25.jpg\n",
      "ForTraining\\2022-06-29_05-21-14_32.710904699824006_34.95195977326485.mp4\n",
      "Saved frame 1000 as ForTraining\\2022-06-29_05-21-14_32.710904699824006_34.95195977326485.mp4-img_1.jpg\n",
      "Saved frame 2000 as ForTraining\\2022-06-29_05-21-14_32.710904699824006_34.95195977326485.mp4-img_2.jpg\n",
      "Saved frame 3000 as ForTraining\\2022-06-29_05-21-14_32.710904699824006_34.95195977326485.mp4-img_3.jpg\n",
      "Saved frame 4000 as ForTraining\\2022-06-29_05-21-14_32.710904699824006_34.95195977326485.mp4-img_4.jpg\n",
      "Saved frame 5000 as ForTraining\\2022-06-29_05-21-14_32.710904699824006_34.95195977326485.mp4-img_5.jpg\n",
      "Saved frame 6000 as ForTraining\\2022-06-29_05-21-14_32.710904699824006_34.95195977326485.mp4-img_6.jpg\n",
      "Saved frame 7000 as ForTraining\\2022-06-29_05-21-14_32.710904699824006_34.95195977326485.mp4-img_7.jpg\n",
      "Saved frame 8000 as ForTraining\\2022-06-29_05-21-14_32.710904699824006_34.95195977326485.mp4-img_8.jpg\n",
      "Saved frame 9000 as ForTraining\\2022-06-29_05-21-14_32.710904699824006_34.95195977326485.mp4-img_9.jpg\n",
      "Saved frame 10000 as ForTraining\\2022-06-29_05-21-14_32.710904699824006_34.95195977326485.mp4-img_10.jpg\n",
      "Saved frame 11000 as ForTraining\\2022-06-29_05-21-14_32.710904699824006_34.95195977326485.mp4-img_11.jpg\n",
      "Saved frame 12000 as ForTraining\\2022-06-29_05-21-14_32.710904699824006_34.95195977326485.mp4-img_12.jpg\n",
      "Saved frame 13000 as ForTraining\\2022-06-29_05-21-14_32.710904699824006_34.95195977326485.mp4-img_13.jpg\n",
      "Saved frame 14000 as ForTraining\\2022-06-29_05-21-14_32.710904699824006_34.95195977326485.mp4-img_14.jpg\n",
      "Saved frame 15000 as ForTraining\\2022-06-29_05-21-14_32.710904699824006_34.95195977326485.mp4-img_15.jpg\n",
      "Saved frame 16000 as ForTraining\\2022-06-29_05-21-14_32.710904699824006_34.95195977326485.mp4-img_16.jpg\n",
      "Saved frame 17000 as ForTraining\\2022-06-29_05-21-14_32.710904699824006_34.95195977326485.mp4-img_17.jpg\n",
      "Saved frame 18000 as ForTraining\\2022-06-29_05-21-14_32.710904699824006_34.95195977326485.mp4-img_18.jpg\n",
      "Saved frame 19000 as ForTraining\\2022-06-29_05-21-14_32.710904699824006_34.95195977326485.mp4-img_19.jpg\n",
      "Saved frame 20000 as ForTraining\\2022-06-29_05-21-14_32.710904699824006_34.95195977326485.mp4-img_20.jpg\n",
      "Saved frame 21000 as ForTraining\\2022-06-29_05-21-14_32.710904699824006_34.95195977326485.mp4-img_21.jpg\n",
      "Saved frame 22000 as ForTraining\\2022-06-29_05-21-14_32.710904699824006_34.95195977326485.mp4-img_22.jpg\n",
      "Saved frame 23000 as ForTraining\\2022-06-29_05-21-14_32.710904699824006_34.95195977326485.mp4-img_23.jpg\n",
      "Video frame is empty or video processing has been successfully completed.\n",
      "ForTraining\\2022-06-29_06-43-08_32.05528798608257_34.83457821160547.mp4\n",
      "Saved frame 1000 as ForTraining\\2022-06-29_06-43-08_32.05528798608257_34.83457821160547.mp4-img_1.jpg\n",
      "Saved frame 2000 as ForTraining\\2022-06-29_06-43-08_32.05528798608257_34.83457821160547.mp4-img_2.jpg\n",
      "Saved frame 3000 as ForTraining\\2022-06-29_06-43-08_32.05528798608257_34.83457821160547.mp4-img_3.jpg\n",
      "Saved frame 4000 as ForTraining\\2022-06-29_06-43-08_32.05528798608257_34.83457821160547.mp4-img_4.jpg\n",
      "Saved frame 5000 as ForTraining\\2022-06-29_06-43-08_32.05528798608257_34.83457821160547.mp4-img_5.jpg\n",
      "Saved frame 6000 as ForTraining\\2022-06-29_06-43-08_32.05528798608257_34.83457821160547.mp4-img_6.jpg\n",
      "Saved frame 7000 as ForTraining\\2022-06-29_06-43-08_32.05528798608257_34.83457821160547.mp4-img_7.jpg\n",
      "Saved frame 8000 as ForTraining\\2022-06-29_06-43-08_32.05528798608257_34.83457821160547.mp4-img_8.jpg\n",
      "Saved frame 9000 as ForTraining\\2022-06-29_06-43-08_32.05528798608257_34.83457821160547.mp4-img_9.jpg\n",
      "Saved frame 10000 as ForTraining\\2022-06-29_06-43-08_32.05528798608257_34.83457821160547.mp4-img_10.jpg\n",
      "Saved frame 11000 as ForTraining\\2022-06-29_06-43-08_32.05528798608257_34.83457821160547.mp4-img_11.jpg\n",
      "Saved frame 12000 as ForTraining\\2022-06-29_06-43-08_32.05528798608257_34.83457821160547.mp4-img_12.jpg\n",
      "Saved frame 13000 as ForTraining\\2022-06-29_06-43-08_32.05528798608257_34.83457821160547.mp4-img_13.jpg\n",
      "Saved frame 14000 as ForTraining\\2022-06-29_06-43-08_32.05528798608257_34.83457821160547.mp4-img_14.jpg\n",
      "Saved frame 15000 as ForTraining\\2022-06-29_06-43-08_32.05528798608257_34.83457821160547.mp4-img_15.jpg\n",
      "Saved frame 16000 as ForTraining\\2022-06-29_06-43-08_32.05528798608257_34.83457821160547.mp4-img_16.jpg\n",
      "Saved frame 17000 as ForTraining\\2022-06-29_06-43-08_32.05528798608257_34.83457821160547.mp4-img_17.jpg\n",
      "Saved frame 18000 as ForTraining\\2022-06-29_06-43-08_32.05528798608257_34.83457821160547.mp4-img_18.jpg\n",
      "Saved frame 19000 as ForTraining\\2022-06-29_06-43-08_32.05528798608257_34.83457821160547.mp4-img_19.jpg\n",
      "Saved frame 20000 as ForTraining\\2022-06-29_06-43-08_32.05528798608257_34.83457821160547.mp4-img_20.jpg\n",
      "Saved frame 21000 as ForTraining\\2022-06-29_06-43-08_32.05528798608257_34.83457821160547.mp4-img_21.jpg\n",
      "Saved frame 22000 as ForTraining\\2022-06-29_06-43-08_32.05528798608257_34.83457821160547.mp4-img_22.jpg\n",
      "Saved frame 23000 as ForTraining\\2022-06-29_06-43-08_32.05528798608257_34.83457821160547.mp4-img_23.jpg\n",
      "Saved frame 24000 as ForTraining\\2022-06-29_06-43-08_32.05528798608257_34.83457821160547.mp4-img_24.jpg\n",
      "Saved frame 25000 as ForTraining\\2022-06-29_06-43-08_32.05528798608257_34.83457821160547.mp4-img_25.jpg\n",
      "ForTraining\\2022-06-29_06-43-08_32.386463674226334_34.86733299892574.mp4\n",
      "Saved frame 1000 as ForTraining\\2022-06-29_06-43-08_32.386463674226334_34.86733299892574.mp4-img_1.jpg\n",
      "Saved frame 2000 as ForTraining\\2022-06-29_06-43-08_32.386463674226334_34.86733299892574.mp4-img_2.jpg\n",
      "Saved frame 3000 as ForTraining\\2022-06-29_06-43-08_32.386463674226334_34.86733299892574.mp4-img_3.jpg\n",
      "Saved frame 4000 as ForTraining\\2022-06-29_06-43-08_32.386463674226334_34.86733299892574.mp4-img_4.jpg\n",
      "Saved frame 5000 as ForTraining\\2022-06-29_06-43-08_32.386463674226334_34.86733299892574.mp4-img_5.jpg\n",
      "Saved frame 6000 as ForTraining\\2022-06-29_06-43-08_32.386463674226334_34.86733299892574.mp4-img_6.jpg\n",
      "Saved frame 7000 as ForTraining\\2022-06-29_06-43-08_32.386463674226334_34.86733299892574.mp4-img_7.jpg\n",
      "Saved frame 8000 as ForTraining\\2022-06-29_06-43-08_32.386463674226334_34.86733299892574.mp4-img_8.jpg\n",
      "Saved frame 9000 as ForTraining\\2022-06-29_06-43-08_32.386463674226334_34.86733299892574.mp4-img_9.jpg\n",
      "Saved frame 10000 as ForTraining\\2022-06-29_06-43-08_32.386463674226334_34.86733299892574.mp4-img_10.jpg\n",
      "Saved frame 11000 as ForTraining\\2022-06-29_06-43-08_32.386463674226334_34.86733299892574.mp4-img_11.jpg\n",
      "Saved frame 12000 as ForTraining\\2022-06-29_06-43-08_32.386463674226334_34.86733299892574.mp4-img_12.jpg\n",
      "Saved frame 13000 as ForTraining\\2022-06-29_06-43-08_32.386463674226334_34.86733299892574.mp4-img_13.jpg\n",
      "Saved frame 14000 as ForTraining\\2022-06-29_06-43-08_32.386463674226334_34.86733299892574.mp4-img_14.jpg\n",
      "Saved frame 15000 as ForTraining\\2022-06-29_06-43-08_32.386463674226334_34.86733299892574.mp4-img_15.jpg\n",
      "Saved frame 16000 as ForTraining\\2022-06-29_06-43-08_32.386463674226334_34.86733299892574.mp4-img_16.jpg\n",
      "Saved frame 17000 as ForTraining\\2022-06-29_06-43-08_32.386463674226334_34.86733299892574.mp4-img_17.jpg\n",
      "Saved frame 18000 as ForTraining\\2022-06-29_06-43-08_32.386463674226334_34.86733299892574.mp4-img_18.jpg\n",
      "Saved frame 19000 as ForTraining\\2022-06-29_06-43-08_32.386463674226334_34.86733299892574.mp4-img_19.jpg\n",
      "Saved frame 20000 as ForTraining\\2022-06-29_06-43-08_32.386463674226334_34.86733299892574.mp4-img_20.jpg\n",
      "Saved frame 21000 as ForTraining\\2022-06-29_06-43-08_32.386463674226334_34.86733299892574.mp4-img_21.jpg\n",
      "Saved frame 22000 as ForTraining\\2022-06-29_06-43-08_32.386463674226334_34.86733299892574.mp4-img_22.jpg\n",
      "Saved frame 23000 as ForTraining\\2022-06-29_06-43-08_32.386463674226334_34.86733299892574.mp4-img_23.jpg\n",
      "Saved frame 24000 as ForTraining\\2022-06-29_06-43-08_32.386463674226334_34.86733299892574.mp4-img_24.jpg\n",
      "Saved frame 25000 as ForTraining\\2022-06-29_06-43-08_32.386463674226334_34.86733299892574.mp4-img_25.jpg\n",
      "ForTraining\\2022-06-29_17-29-34_32.05557896452738_ 34.834449464808.mp4\n",
      "Saved frame 1000 as ForTraining\\2022-06-29_17-29-34_32.05557896452738_ 34.834449464808.mp4-img_1.jpg\n",
      "Saved frame 2000 as ForTraining\\2022-06-29_17-29-34_32.05557896452738_ 34.834449464808.mp4-img_2.jpg\n",
      "Saved frame 3000 as ForTraining\\2022-06-29_17-29-34_32.05557896452738_ 34.834449464808.mp4-img_3.jpg\n",
      "Saved frame 4000 as ForTraining\\2022-06-29_17-29-34_32.05557896452738_ 34.834449464808.mp4-img_4.jpg\n",
      "Saved frame 5000 as ForTraining\\2022-06-29_17-29-34_32.05557896452738_ 34.834449464808.mp4-img_5.jpg\n",
      "Saved frame 6000 as ForTraining\\2022-06-29_17-29-34_32.05557896452738_ 34.834449464808.mp4-img_6.jpg\n",
      "Saved frame 7000 as ForTraining\\2022-06-29_17-29-34_32.05557896452738_ 34.834449464808.mp4-img_7.jpg\n",
      "Saved frame 8000 as ForTraining\\2022-06-29_17-29-34_32.05557896452738_ 34.834449464808.mp4-img_8.jpg\n",
      "Saved frame 9000 as ForTraining\\2022-06-29_17-29-34_32.05557896452738_ 34.834449464808.mp4-img_9.jpg\n",
      "Saved frame 10000 as ForTraining\\2022-06-29_17-29-34_32.05557896452738_ 34.834449464808.mp4-img_10.jpg\n",
      "Saved frame 11000 as ForTraining\\2022-06-29_17-29-34_32.05557896452738_ 34.834449464808.mp4-img_11.jpg\n",
      "Saved frame 12000 as ForTraining\\2022-06-29_17-29-34_32.05557896452738_ 34.834449464808.mp4-img_12.jpg\n",
      "Saved frame 13000 as ForTraining\\2022-06-29_17-29-34_32.05557896452738_ 34.834449464808.mp4-img_13.jpg\n",
      "Saved frame 14000 as ForTraining\\2022-06-29_17-29-34_32.05557896452738_ 34.834449464808.mp4-img_14.jpg\n",
      "Saved frame 15000 as ForTraining\\2022-06-29_17-29-34_32.05557896452738_ 34.834449464808.mp4-img_15.jpg\n",
      "Saved frame 16000 as ForTraining\\2022-06-29_17-29-34_32.05557896452738_ 34.834449464808.mp4-img_16.jpg\n",
      "Saved frame 17000 as ForTraining\\2022-06-29_17-29-34_32.05557896452738_ 34.834449464808.mp4-img_17.jpg\n",
      "Saved frame 18000 as ForTraining\\2022-06-29_17-29-34_32.05557896452738_ 34.834449464808.mp4-img_18.jpg\n",
      "Saved frame 19000 as ForTraining\\2022-06-29_17-29-34_32.05557896452738_ 34.834449464808.mp4-img_19.jpg\n",
      "Saved frame 20000 as ForTraining\\2022-06-29_17-29-34_32.05557896452738_ 34.834449464808.mp4-img_20.jpg\n",
      "Saved frame 21000 as ForTraining\\2022-06-29_17-29-34_32.05557896452738_ 34.834449464808.mp4-img_21.jpg\n",
      "Saved frame 22000 as ForTraining\\2022-06-29_17-29-34_32.05557896452738_ 34.834449464808.mp4-img_22.jpg\n",
      "Saved frame 23000 as ForTraining\\2022-06-29_17-29-34_32.05557896452738_ 34.834449464808.mp4-img_23.jpg\n",
      "Saved frame 24000 as ForTraining\\2022-06-29_17-29-34_32.05557896452738_ 34.834449464808.mp4-img_24.jpg\n",
      "Saved frame 25000 as ForTraining\\2022-06-29_17-29-34_32.05557896452738_ 34.834449464808.mp4-img_25.jpg\n",
      "ForTraining\\2022-06-29_17-29-34_32.38642742719643_34.86690384276637.mp4\n",
      "Saved frame 1000 as ForTraining\\2022-06-29_17-29-34_32.38642742719643_34.86690384276637.mp4-img_1.jpg\n",
      "Saved frame 2000 as ForTraining\\2022-06-29_17-29-34_32.38642742719643_34.86690384276637.mp4-img_2.jpg\n",
      "Saved frame 3000 as ForTraining\\2022-06-29_17-29-34_32.38642742719643_34.86690384276637.mp4-img_3.jpg\n",
      "Saved frame 4000 as ForTraining\\2022-06-29_17-29-34_32.38642742719643_34.86690384276637.mp4-img_4.jpg\n",
      "Saved frame 5000 as ForTraining\\2022-06-29_17-29-34_32.38642742719643_34.86690384276637.mp4-img_5.jpg\n",
      "Saved frame 6000 as ForTraining\\2022-06-29_17-29-34_32.38642742719643_34.86690384276637.mp4-img_6.jpg\n",
      "Saved frame 7000 as ForTraining\\2022-06-29_17-29-34_32.38642742719643_34.86690384276637.mp4-img_7.jpg\n",
      "Saved frame 8000 as ForTraining\\2022-06-29_17-29-34_32.38642742719643_34.86690384276637.mp4-img_8.jpg\n",
      "Saved frame 9000 as ForTraining\\2022-06-29_17-29-34_32.38642742719643_34.86690384276637.mp4-img_9.jpg\n",
      "Saved frame 10000 as ForTraining\\2022-06-29_17-29-34_32.38642742719643_34.86690384276637.mp4-img_10.jpg\n",
      "Saved frame 11000 as ForTraining\\2022-06-29_17-29-34_32.38642742719643_34.86690384276637.mp4-img_11.jpg\n",
      "Saved frame 12000 as ForTraining\\2022-06-29_17-29-34_32.38642742719643_34.86690384276637.mp4-img_12.jpg\n",
      "Saved frame 13000 as ForTraining\\2022-06-29_17-29-34_32.38642742719643_34.86690384276637.mp4-img_13.jpg\n",
      "Saved frame 14000 as ForTraining\\2022-06-29_17-29-34_32.38642742719643_34.86690384276637.mp4-img_14.jpg\n",
      "Saved frame 15000 as ForTraining\\2022-06-29_17-29-34_32.38642742719643_34.86690384276637.mp4-img_15.jpg\n",
      "Saved frame 16000 as ForTraining\\2022-06-29_17-29-34_32.38642742719643_34.86690384276637.mp4-img_16.jpg\n",
      "Saved frame 17000 as ForTraining\\2022-06-29_17-29-34_32.38642742719643_34.86690384276637.mp4-img_17.jpg\n",
      "Saved frame 18000 as ForTraining\\2022-06-29_17-29-34_32.38642742719643_34.86690384276637.mp4-img_18.jpg\n",
      "Saved frame 19000 as ForTraining\\2022-06-29_17-29-34_32.38642742719643_34.86690384276637.mp4-img_19.jpg\n",
      "Saved frame 20000 as ForTraining\\2022-06-29_17-29-34_32.38642742719643_34.86690384276637.mp4-img_20.jpg\n",
      "Saved frame 21000 as ForTraining\\2022-06-29_17-29-34_32.38642742719643_34.86690384276637.mp4-img_21.jpg\n",
      "Saved frame 22000 as ForTraining\\2022-06-29_17-29-34_32.38642742719643_34.86690384276637.mp4-img_22.jpg\n",
      "Saved frame 23000 as ForTraining\\2022-06-29_17-29-34_32.38642742719643_34.86690384276637.mp4-img_23.jpg\n",
      "Saved frame 24000 as ForTraining\\2022-06-29_17-29-34_32.38642742719643_34.86690384276637.mp4-img_24.jpg\n",
      "Saved frame 25000 as ForTraining\\2022-06-29_17-29-34_32.38642742719643_34.86690384276637.mp4-img_25.jpg\n",
      "ForTraining\\2022-06-29_22-35-28_32.10019566178817_ 34.84738721029406.mp4\n",
      "Saved frame 1000 as ForTraining\\2022-06-29_22-35-28_32.10019566178817_ 34.84738721029406.mp4-img_1.jpg\n",
      "Saved frame 2000 as ForTraining\\2022-06-29_22-35-28_32.10019566178817_ 34.84738721029406.mp4-img_2.jpg\n",
      "Saved frame 3000 as ForTraining\\2022-06-29_22-35-28_32.10019566178817_ 34.84738721029406.mp4-img_3.jpg\n",
      "Saved frame 4000 as ForTraining\\2022-06-29_22-35-28_32.10019566178817_ 34.84738721029406.mp4-img_4.jpg\n",
      "Saved frame 5000 as ForTraining\\2022-06-29_22-35-28_32.10019566178817_ 34.84738721029406.mp4-img_5.jpg\n",
      "Saved frame 6000 as ForTraining\\2022-06-29_22-35-28_32.10019566178817_ 34.84738721029406.mp4-img_6.jpg\n",
      "Saved frame 7000 as ForTraining\\2022-06-29_22-35-28_32.10019566178817_ 34.84738721029406.mp4-img_7.jpg\n",
      "Saved frame 8000 as ForTraining\\2022-06-29_22-35-28_32.10019566178817_ 34.84738721029406.mp4-img_8.jpg\n",
      "Saved frame 9000 as ForTraining\\2022-06-29_22-35-28_32.10019566178817_ 34.84738721029406.mp4-img_9.jpg\n",
      "Saved frame 10000 as ForTraining\\2022-06-29_22-35-28_32.10019566178817_ 34.84738721029406.mp4-img_10.jpg\n",
      "Saved frame 11000 as ForTraining\\2022-06-29_22-35-28_32.10019566178817_ 34.84738721029406.mp4-img_11.jpg\n",
      "Saved frame 12000 as ForTraining\\2022-06-29_22-35-28_32.10019566178817_ 34.84738721029406.mp4-img_12.jpg\n",
      "Saved frame 13000 as ForTraining\\2022-06-29_22-35-28_32.10019566178817_ 34.84738721029406.mp4-img_13.jpg\n",
      "Saved frame 14000 as ForTraining\\2022-06-29_22-35-28_32.10019566178817_ 34.84738721029406.mp4-img_14.jpg\n",
      "Saved frame 15000 as ForTraining\\2022-06-29_22-35-28_32.10019566178817_ 34.84738721029406.mp4-img_15.jpg\n",
      "Saved frame 16000 as ForTraining\\2022-06-29_22-35-28_32.10019566178817_ 34.84738721029406.mp4-img_16.jpg\n",
      "Saved frame 17000 as ForTraining\\2022-06-29_22-35-28_32.10019566178817_ 34.84738721029406.mp4-img_17.jpg\n",
      "Saved frame 18000 as ForTraining\\2022-06-29_22-35-28_32.10019566178817_ 34.84738721029406.mp4-img_18.jpg\n",
      "Saved frame 19000 as ForTraining\\2022-06-29_22-35-28_32.10019566178817_ 34.84738721029406.mp4-img_19.jpg\n",
      "Saved frame 20000 as ForTraining\\2022-06-29_22-35-28_32.10019566178817_ 34.84738721029406.mp4-img_20.jpg\n",
      "Saved frame 21000 as ForTraining\\2022-06-29_22-35-28_32.10019566178817_ 34.84738721029406.mp4-img_21.jpg\n",
      "Saved frame 22000 as ForTraining\\2022-06-29_22-35-28_32.10019566178817_ 34.84738721029406.mp4-img_22.jpg\n",
      "Saved frame 23000 as ForTraining\\2022-06-29_22-35-28_32.10019566178817_ 34.84738721029406.mp4-img_23.jpg\n",
      "Saved frame 24000 as ForTraining\\2022-06-29_22-35-28_32.10019566178817_ 34.84738721029406.mp4-img_24.jpg\n",
      "Saved frame 25000 as ForTraining\\2022-06-29_22-35-28_32.10019566178817_ 34.84738721029406.mp4-img_25.jpg\n",
      "ForTraining\\2022-06-30_23-33-47_32.254141285492814_34.89066198532832.mp4\n",
      "Saved frame 1000 as ForTraining\\2022-06-30_23-33-47_32.254141285492814_34.89066198532832.mp4-img_1.jpg\n",
      "Saved frame 2000 as ForTraining\\2022-06-30_23-33-47_32.254141285492814_34.89066198532832.mp4-img_2.jpg\n",
      "Saved frame 3000 as ForTraining\\2022-06-30_23-33-47_32.254141285492814_34.89066198532832.mp4-img_3.jpg\n",
      "Saved frame 4000 as ForTraining\\2022-06-30_23-33-47_32.254141285492814_34.89066198532832.mp4-img_4.jpg\n",
      "Saved frame 5000 as ForTraining\\2022-06-30_23-33-47_32.254141285492814_34.89066198532832.mp4-img_5.jpg\n",
      "Saved frame 6000 as ForTraining\\2022-06-30_23-33-47_32.254141285492814_34.89066198532832.mp4-img_6.jpg\n",
      "Saved frame 7000 as ForTraining\\2022-06-30_23-33-47_32.254141285492814_34.89066198532832.mp4-img_7.jpg\n",
      "Saved frame 8000 as ForTraining\\2022-06-30_23-33-47_32.254141285492814_34.89066198532832.mp4-img_8.jpg\n",
      "Saved frame 9000 as ForTraining\\2022-06-30_23-33-47_32.254141285492814_34.89066198532832.mp4-img_9.jpg\n",
      "Saved frame 10000 as ForTraining\\2022-06-30_23-33-47_32.254141285492814_34.89066198532832.mp4-img_10.jpg\n",
      "Saved frame 11000 as ForTraining\\2022-06-30_23-33-47_32.254141285492814_34.89066198532832.mp4-img_11.jpg\n",
      "Saved frame 12000 as ForTraining\\2022-06-30_23-33-47_32.254141285492814_34.89066198532832.mp4-img_12.jpg\n",
      "Saved frame 13000 as ForTraining\\2022-06-30_23-33-47_32.254141285492814_34.89066198532832.mp4-img_13.jpg\n",
      "Saved frame 14000 as ForTraining\\2022-06-30_23-33-47_32.254141285492814_34.89066198532832.mp4-img_14.jpg\n",
      "Saved frame 15000 as ForTraining\\2022-06-30_23-33-47_32.254141285492814_34.89066198532832.mp4-img_15.jpg\n",
      "Saved frame 16000 as ForTraining\\2022-06-30_23-33-47_32.254141285492814_34.89066198532832.mp4-img_16.jpg\n",
      "Saved frame 17000 as ForTraining\\2022-06-30_23-33-47_32.254141285492814_34.89066198532832.mp4-img_17.jpg\n",
      "Saved frame 18000 as ForTraining\\2022-06-30_23-33-47_32.254141285492814_34.89066198532832.mp4-img_18.jpg\n",
      "Saved frame 19000 as ForTraining\\2022-06-30_23-33-47_32.254141285492814_34.89066198532832.mp4-img_19.jpg\n",
      "Saved frame 20000 as ForTraining\\2022-06-30_23-33-47_32.254141285492814_34.89066198532832.mp4-img_20.jpg\n",
      "Saved frame 21000 as ForTraining\\2022-06-30_23-33-47_32.254141285492814_34.89066198532832.mp4-img_21.jpg\n",
      "Saved frame 22000 as ForTraining\\2022-06-30_23-33-47_32.254141285492814_34.89066198532832.mp4-img_22.jpg\n",
      "Saved frame 23000 as ForTraining\\2022-06-30_23-33-47_32.254141285492814_34.89066198532832.mp4-img_23.jpg\n",
      "Saved frame 24000 as ForTraining\\2022-06-30_23-33-47_32.254141285492814_34.89066198532832.mp4-img_24.jpg\n",
      "Saved frame 25000 as ForTraining\\2022-06-30_23-33-47_32.254141285492814_34.89066198532832.mp4-img_25.jpg\n",
      "ForTraining\\2022-07-01_15-19-06_32.00751774196146_34.83625899403482.mp4\n",
      "Saved frame 1000 as ForTraining\\2022-07-01_15-19-06_32.00751774196146_34.83625899403482.mp4-img_1.jpg\n",
      "Saved frame 2000 as ForTraining\\2022-07-01_15-19-06_32.00751774196146_34.83625899403482.mp4-img_2.jpg\n",
      "Saved frame 3000 as ForTraining\\2022-07-01_15-19-06_32.00751774196146_34.83625899403482.mp4-img_3.jpg\n",
      "Saved frame 4000 as ForTraining\\2022-07-01_15-19-06_32.00751774196146_34.83625899403482.mp4-img_4.jpg\n",
      "Saved frame 5000 as ForTraining\\2022-07-01_15-19-06_32.00751774196146_34.83625899403482.mp4-img_5.jpg\n",
      "Saved frame 6000 as ForTraining\\2022-07-01_15-19-06_32.00751774196146_34.83625899403482.mp4-img_6.jpg\n",
      "Saved frame 7000 as ForTraining\\2022-07-01_15-19-06_32.00751774196146_34.83625899403482.mp4-img_7.jpg\n",
      "Saved frame 8000 as ForTraining\\2022-07-01_15-19-06_32.00751774196146_34.83625899403482.mp4-img_8.jpg\n",
      "Saved frame 9000 as ForTraining\\2022-07-01_15-19-06_32.00751774196146_34.83625899403482.mp4-img_9.jpg\n",
      "Saved frame 10000 as ForTraining\\2022-07-01_15-19-06_32.00751774196146_34.83625899403482.mp4-img_10.jpg\n",
      "Saved frame 11000 as ForTraining\\2022-07-01_15-19-06_32.00751774196146_34.83625899403482.mp4-img_11.jpg\n",
      "Saved frame 12000 as ForTraining\\2022-07-01_15-19-06_32.00751774196146_34.83625899403482.mp4-img_12.jpg\n",
      "Saved frame 13000 as ForTraining\\2022-07-01_15-19-06_32.00751774196146_34.83625899403482.mp4-img_13.jpg\n",
      "Saved frame 14000 as ForTraining\\2022-07-01_15-19-06_32.00751774196146_34.83625899403482.mp4-img_14.jpg\n",
      "Saved frame 15000 as ForTraining\\2022-07-01_15-19-06_32.00751774196146_34.83625899403482.mp4-img_15.jpg\n",
      "Saved frame 16000 as ForTraining\\2022-07-01_15-19-06_32.00751774196146_34.83625899403482.mp4-img_16.jpg\n",
      "Saved frame 17000 as ForTraining\\2022-07-01_15-19-06_32.00751774196146_34.83625899403482.mp4-img_17.jpg\n",
      "Saved frame 18000 as ForTraining\\2022-07-01_15-19-06_32.00751774196146_34.83625899403482.mp4-img_18.jpg\n",
      "Saved frame 19000 as ForTraining\\2022-07-01_15-19-06_32.00751774196146_34.83625899403482.mp4-img_19.jpg\n",
      "Saved frame 20000 as ForTraining\\2022-07-01_15-19-06_32.00751774196146_34.83625899403482.mp4-img_20.jpg\n",
      "Saved frame 21000 as ForTraining\\2022-07-01_15-19-06_32.00751774196146_34.83625899403482.mp4-img_21.jpg\n",
      "Saved frame 22000 as ForTraining\\2022-07-01_15-19-06_32.00751774196146_34.83625899403482.mp4-img_22.jpg\n",
      "Saved frame 23000 as ForTraining\\2022-07-01_15-19-06_32.00751774196146_34.83625899403482.mp4-img_23.jpg\n",
      "Saved frame 24000 as ForTraining\\2022-07-01_15-19-06_32.00751774196146_34.83625899403482.mp4-img_24.jpg\n",
      "Saved frame 25000 as ForTraining\\2022-07-01_15-19-06_32.00751774196146_34.83625899403482.mp4-img_25.jpg\n",
      "ForTraining\\2022-07-02_17-57-04_32.95390018658951_35.09060239919286.mp4\n",
      "Saved frame 1000 as ForTraining\\2022-07-02_17-57-04_32.95390018658951_35.09060239919286.mp4-img_1.jpg\n",
      "Saved frame 2000 as ForTraining\\2022-07-02_17-57-04_32.95390018658951_35.09060239919286.mp4-img_2.jpg\n",
      "Saved frame 3000 as ForTraining\\2022-07-02_17-57-04_32.95390018658951_35.09060239919286.mp4-img_3.jpg\n",
      "Saved frame 4000 as ForTraining\\2022-07-02_17-57-04_32.95390018658951_35.09060239919286.mp4-img_4.jpg\n",
      "Saved frame 5000 as ForTraining\\2022-07-02_17-57-04_32.95390018658951_35.09060239919286.mp4-img_5.jpg\n",
      "Saved frame 6000 as ForTraining\\2022-07-02_17-57-04_32.95390018658951_35.09060239919286.mp4-img_6.jpg\n",
      "Saved frame 7000 as ForTraining\\2022-07-02_17-57-04_32.95390018658951_35.09060239919286.mp4-img_7.jpg\n",
      "Saved frame 8000 as ForTraining\\2022-07-02_17-57-04_32.95390018658951_35.09060239919286.mp4-img_8.jpg\n",
      "Saved frame 9000 as ForTraining\\2022-07-02_17-57-04_32.95390018658951_35.09060239919286.mp4-img_9.jpg\n",
      "Saved frame 10000 as ForTraining\\2022-07-02_17-57-04_32.95390018658951_35.09060239919286.mp4-img_10.jpg\n",
      "Saved frame 11000 as ForTraining\\2022-07-02_17-57-04_32.95390018658951_35.09060239919286.mp4-img_11.jpg\n",
      "Saved frame 12000 as ForTraining\\2022-07-02_17-57-04_32.95390018658951_35.09060239919286.mp4-img_12.jpg\n",
      "Saved frame 13000 as ForTraining\\2022-07-02_17-57-04_32.95390018658951_35.09060239919286.mp4-img_13.jpg\n",
      "Saved frame 14000 as ForTraining\\2022-07-02_17-57-04_32.95390018658951_35.09060239919286.mp4-img_14.jpg\n",
      "Saved frame 15000 as ForTraining\\2022-07-02_17-57-04_32.95390018658951_35.09060239919286.mp4-img_15.jpg\n",
      "Saved frame 16000 as ForTraining\\2022-07-02_17-57-04_32.95390018658951_35.09060239919286.mp4-img_16.jpg\n",
      "Saved frame 17000 as ForTraining\\2022-07-02_17-57-04_32.95390018658951_35.09060239919286.mp4-img_17.jpg\n",
      "Saved frame 18000 as ForTraining\\2022-07-02_17-57-04_32.95390018658951_35.09060239919286.mp4-img_18.jpg\n",
      "Saved frame 19000 as ForTraining\\2022-07-02_17-57-04_32.95390018658951_35.09060239919286.mp4-img_19.jpg\n",
      "Saved frame 20000 as ForTraining\\2022-07-02_17-57-04_32.95390018658951_35.09060239919286.mp4-img_20.jpg\n",
      "Saved frame 21000 as ForTraining\\2022-07-02_17-57-04_32.95390018658951_35.09060239919286.mp4-img_21.jpg\n",
      "Saved frame 22000 as ForTraining\\2022-07-02_17-57-04_32.95390018658951_35.09060239919286.mp4-img_22.jpg\n",
      "Saved frame 23000 as ForTraining\\2022-07-02_17-57-04_32.95390018658951_35.09060239919286.mp4-img_23.jpg\n",
      "Saved frame 24000 as ForTraining\\2022-07-02_17-57-04_32.95390018658951_35.09060239919286.mp4-img_24.jpg\n",
      "Saved frame 25000 as ForTraining\\2022-07-02_17-57-04_32.95390018658951_35.09060239919286.mp4-img_25.jpg\n",
      "ForTraining\\2022-07-03_00-54-00_31.816667_35.02222.mp4\n",
      "Saved frame 1000 as ForTraining\\2022-07-03_00-54-00_31.816667_35.02222.mp4-img_1.jpg\n",
      "Saved frame 2000 as ForTraining\\2022-07-03_00-54-00_31.816667_35.02222.mp4-img_2.jpg\n",
      "Saved frame 3000 as ForTraining\\2022-07-03_00-54-00_31.816667_35.02222.mp4-img_3.jpg\n",
      "Saved frame 4000 as ForTraining\\2022-07-03_00-54-00_31.816667_35.02222.mp4-img_4.jpg\n",
      "Saved frame 5000 as ForTraining\\2022-07-03_00-54-00_31.816667_35.02222.mp4-img_5.jpg\n",
      "Saved frame 6000 as ForTraining\\2022-07-03_00-54-00_31.816667_35.02222.mp4-img_6.jpg\n",
      "Saved frame 7000 as ForTraining\\2022-07-03_00-54-00_31.816667_35.02222.mp4-img_7.jpg\n",
      "Saved frame 8000 as ForTraining\\2022-07-03_00-54-00_31.816667_35.02222.mp4-img_8.jpg\n",
      "Saved frame 9000 as ForTraining\\2022-07-03_00-54-00_31.816667_35.02222.mp4-img_9.jpg\n",
      "Saved frame 10000 as ForTraining\\2022-07-03_00-54-00_31.816667_35.02222.mp4-img_10.jpg\n",
      "Saved frame 11000 as ForTraining\\2022-07-03_00-54-00_31.816667_35.02222.mp4-img_11.jpg\n",
      "Saved frame 12000 as ForTraining\\2022-07-03_00-54-00_31.816667_35.02222.mp4-img_12.jpg\n",
      "Saved frame 13000 as ForTraining\\2022-07-03_00-54-00_31.816667_35.02222.mp4-img_13.jpg\n",
      "Saved frame 14000 as ForTraining\\2022-07-03_00-54-00_31.816667_35.02222.mp4-img_14.jpg\n",
      "Saved frame 15000 as ForTraining\\2022-07-03_00-54-00_31.816667_35.02222.mp4-img_15.jpg\n",
      "Saved frame 16000 as ForTraining\\2022-07-03_00-54-00_31.816667_35.02222.mp4-img_16.jpg\n",
      "Saved frame 17000 as ForTraining\\2022-07-03_00-54-00_31.816667_35.02222.mp4-img_17.jpg\n",
      "Saved frame 18000 as ForTraining\\2022-07-03_00-54-00_31.816667_35.02222.mp4-img_18.jpg\n",
      "Saved frame 19000 as ForTraining\\2022-07-03_00-54-00_31.816667_35.02222.mp4-img_19.jpg\n",
      "Saved frame 20000 as ForTraining\\2022-07-03_00-54-00_31.816667_35.02222.mp4-img_20.jpg\n",
      "Saved frame 21000 as ForTraining\\2022-07-03_00-54-00_31.816667_35.02222.mp4-img_21.jpg\n",
      "Saved frame 22000 as ForTraining\\2022-07-03_00-54-00_31.816667_35.02222.mp4-img_22.jpg\n",
      "Saved frame 23000 as ForTraining\\2022-07-03_00-54-00_31.816667_35.02222.mp4-img_23.jpg\n",
      "Saved frame 24000 as ForTraining\\2022-07-03_00-54-00_31.816667_35.02222.mp4-img_24.jpg\n",
      "Saved frame 25000 as ForTraining\\2022-07-03_00-54-00_31.816667_35.02222.mp4-img_25.jpg\n",
      "ForTraining\\2022-07-03_23-05-48_31.599481971546975_34.813086713451185.mp4\n",
      "Saved frame 1000 as ForTraining\\2022-07-03_23-05-48_31.599481971546975_34.813086713451185.mp4-img_1.jpg\n",
      "Saved frame 2000 as ForTraining\\2022-07-03_23-05-48_31.599481971546975_34.813086713451185.mp4-img_2.jpg\n",
      "Saved frame 3000 as ForTraining\\2022-07-03_23-05-48_31.599481971546975_34.813086713451185.mp4-img_3.jpg\n",
      "Saved frame 4000 as ForTraining\\2022-07-03_23-05-48_31.599481971546975_34.813086713451185.mp4-img_4.jpg\n",
      "Saved frame 5000 as ForTraining\\2022-07-03_23-05-48_31.599481971546975_34.813086713451185.mp4-img_5.jpg\n",
      "Saved frame 6000 as ForTraining\\2022-07-03_23-05-48_31.599481971546975_34.813086713451185.mp4-img_6.jpg\n",
      "Saved frame 7000 as ForTraining\\2022-07-03_23-05-48_31.599481971546975_34.813086713451185.mp4-img_7.jpg\n",
      "Saved frame 8000 as ForTraining\\2022-07-03_23-05-48_31.599481971546975_34.813086713451185.mp4-img_8.jpg\n",
      "Saved frame 9000 as ForTraining\\2022-07-03_23-05-48_31.599481971546975_34.813086713451185.mp4-img_9.jpg\n",
      "Saved frame 10000 as ForTraining\\2022-07-03_23-05-48_31.599481971546975_34.813086713451185.mp4-img_10.jpg\n",
      "Saved frame 11000 as ForTraining\\2022-07-03_23-05-48_31.599481971546975_34.813086713451185.mp4-img_11.jpg\n",
      "Saved frame 12000 as ForTraining\\2022-07-03_23-05-48_31.599481971546975_34.813086713451185.mp4-img_12.jpg\n",
      "Saved frame 13000 as ForTraining\\2022-07-03_23-05-48_31.599481971546975_34.813086713451185.mp4-img_13.jpg\n",
      "Saved frame 14000 as ForTraining\\2022-07-03_23-05-48_31.599481971546975_34.813086713451185.mp4-img_14.jpg\n",
      "Saved frame 15000 as ForTraining\\2022-07-03_23-05-48_31.599481971546975_34.813086713451185.mp4-img_15.jpg\n",
      "Saved frame 16000 as ForTraining\\2022-07-03_23-05-48_31.599481971546975_34.813086713451185.mp4-img_16.jpg\n",
      "Saved frame 17000 as ForTraining\\2022-07-03_23-05-48_31.599481971546975_34.813086713451185.mp4-img_17.jpg\n",
      "Saved frame 18000 as ForTraining\\2022-07-03_23-05-48_31.599481971546975_34.813086713451185.mp4-img_18.jpg\n",
      "Saved frame 19000 as ForTraining\\2022-07-03_23-05-48_31.599481971546975_34.813086713451185.mp4-img_19.jpg\n",
      "Saved frame 20000 as ForTraining\\2022-07-03_23-05-48_31.599481971546975_34.813086713451185.mp4-img_20.jpg\n",
      "Saved frame 21000 as ForTraining\\2022-07-03_23-05-48_31.599481971546975_34.813086713451185.mp4-img_21.jpg\n",
      "Saved frame 22000 as ForTraining\\2022-07-03_23-05-48_31.599481971546975_34.813086713451185.mp4-img_22.jpg\n",
      "Saved frame 23000 as ForTraining\\2022-07-03_23-05-48_31.599481971546975_34.813086713451185.mp4-img_23.jpg\n",
      "Saved frame 24000 as ForTraining\\2022-07-03_23-05-48_31.599481971546975_34.813086713451185.mp4-img_24.jpg\n",
      "Saved frame 25000 as ForTraining\\2022-07-03_23-05-48_31.599481971546975_34.813086713451185.mp4-img_25.jpg\n",
      "ForTraining\\2022-07-03_23-05-48_31.816667_35.02222.mp4\n",
      "Saved frame 1000 as ForTraining\\2022-07-03_23-05-48_31.816667_35.02222.mp4-img_1.jpg\n",
      "Saved frame 2000 as ForTraining\\2022-07-03_23-05-48_31.816667_35.02222.mp4-img_2.jpg\n",
      "Saved frame 3000 as ForTraining\\2022-07-03_23-05-48_31.816667_35.02222.mp4-img_3.jpg\n",
      "Saved frame 4000 as ForTraining\\2022-07-03_23-05-48_31.816667_35.02222.mp4-img_4.jpg\n",
      "Saved frame 5000 as ForTraining\\2022-07-03_23-05-48_31.816667_35.02222.mp4-img_5.jpg\n",
      "Saved frame 6000 as ForTraining\\2022-07-03_23-05-48_31.816667_35.02222.mp4-img_6.jpg\n",
      "Saved frame 7000 as ForTraining\\2022-07-03_23-05-48_31.816667_35.02222.mp4-img_7.jpg\n",
      "Saved frame 8000 as ForTraining\\2022-07-03_23-05-48_31.816667_35.02222.mp4-img_8.jpg\n",
      "Saved frame 9000 as ForTraining\\2022-07-03_23-05-48_31.816667_35.02222.mp4-img_9.jpg\n",
      "Saved frame 10000 as ForTraining\\2022-07-03_23-05-48_31.816667_35.02222.mp4-img_10.jpg\n",
      "Saved frame 11000 as ForTraining\\2022-07-03_23-05-48_31.816667_35.02222.mp4-img_11.jpg\n",
      "Saved frame 12000 as ForTraining\\2022-07-03_23-05-48_31.816667_35.02222.mp4-img_12.jpg\n",
      "Saved frame 13000 as ForTraining\\2022-07-03_23-05-48_31.816667_35.02222.mp4-img_13.jpg\n",
      "Saved frame 14000 as ForTraining\\2022-07-03_23-05-48_31.816667_35.02222.mp4-img_14.jpg\n",
      "Saved frame 15000 as ForTraining\\2022-07-03_23-05-48_31.816667_35.02222.mp4-img_15.jpg\n",
      "Saved frame 16000 as ForTraining\\2022-07-03_23-05-48_31.816667_35.02222.mp4-img_16.jpg\n",
      "Saved frame 17000 as ForTraining\\2022-07-03_23-05-48_31.816667_35.02222.mp4-img_17.jpg\n",
      "Saved frame 18000 as ForTraining\\2022-07-03_23-05-48_31.816667_35.02222.mp4-img_18.jpg\n",
      "Saved frame 19000 as ForTraining\\2022-07-03_23-05-48_31.816667_35.02222.mp4-img_19.jpg\n",
      "Saved frame 20000 as ForTraining\\2022-07-03_23-05-48_31.816667_35.02222.mp4-img_20.jpg\n",
      "Saved frame 21000 as ForTraining\\2022-07-03_23-05-48_31.816667_35.02222.mp4-img_21.jpg\n",
      "Saved frame 22000 as ForTraining\\2022-07-03_23-05-48_31.816667_35.02222.mp4-img_22.jpg\n",
      "Saved frame 23000 as ForTraining\\2022-07-03_23-05-48_31.816667_35.02222.mp4-img_23.jpg\n",
      "Saved frame 24000 as ForTraining\\2022-07-03_23-05-48_31.816667_35.02222.mp4-img_24.jpg\n",
      "Saved frame 25000 as ForTraining\\2022-07-03_23-05-48_31.816667_35.02222.mp4-img_25.jpg\n",
      "ForTraining\\2022-07-04_08-07-40_31.816667_35.02222.mp4\n",
      "Saved frame 1000 as ForTraining\\2022-07-04_08-07-40_31.816667_35.02222.mp4-img_1.jpg\n",
      "Saved frame 2000 as ForTraining\\2022-07-04_08-07-40_31.816667_35.02222.mp4-img_2.jpg\n",
      "Saved frame 3000 as ForTraining\\2022-07-04_08-07-40_31.816667_35.02222.mp4-img_3.jpg\n",
      "Saved frame 4000 as ForTraining\\2022-07-04_08-07-40_31.816667_35.02222.mp4-img_4.jpg\n",
      "Saved frame 5000 as ForTraining\\2022-07-04_08-07-40_31.816667_35.02222.mp4-img_5.jpg\n",
      "Saved frame 6000 as ForTraining\\2022-07-04_08-07-40_31.816667_35.02222.mp4-img_6.jpg\n",
      "Saved frame 7000 as ForTraining\\2022-07-04_08-07-40_31.816667_35.02222.mp4-img_7.jpg\n",
      "Saved frame 8000 as ForTraining\\2022-07-04_08-07-40_31.816667_35.02222.mp4-img_8.jpg\n",
      "Saved frame 9000 as ForTraining\\2022-07-04_08-07-40_31.816667_35.02222.mp4-img_9.jpg\n",
      "Saved frame 10000 as ForTraining\\2022-07-04_08-07-40_31.816667_35.02222.mp4-img_10.jpg\n",
      "Saved frame 11000 as ForTraining\\2022-07-04_08-07-40_31.816667_35.02222.mp4-img_11.jpg\n",
      "Saved frame 12000 as ForTraining\\2022-07-04_08-07-40_31.816667_35.02222.mp4-img_12.jpg\n",
      "Saved frame 13000 as ForTraining\\2022-07-04_08-07-40_31.816667_35.02222.mp4-img_13.jpg\n",
      "Saved frame 14000 as ForTraining\\2022-07-04_08-07-40_31.816667_35.02222.mp4-img_14.jpg\n",
      "Saved frame 15000 as ForTraining\\2022-07-04_08-07-40_31.816667_35.02222.mp4-img_15.jpg\n",
      "Saved frame 16000 as ForTraining\\2022-07-04_08-07-40_31.816667_35.02222.mp4-img_16.jpg\n",
      "Saved frame 17000 as ForTraining\\2022-07-04_08-07-40_31.816667_35.02222.mp4-img_17.jpg\n",
      "Saved frame 18000 as ForTraining\\2022-07-04_08-07-40_31.816667_35.02222.mp4-img_18.jpg\n",
      "Saved frame 19000 as ForTraining\\2022-07-04_08-07-40_31.816667_35.02222.mp4-img_19.jpg\n",
      "Saved frame 20000 as ForTraining\\2022-07-04_08-07-40_31.816667_35.02222.mp4-img_20.jpg\n",
      "Saved frame 21000 as ForTraining\\2022-07-04_08-07-40_31.816667_35.02222.mp4-img_21.jpg\n",
      "Saved frame 22000 as ForTraining\\2022-07-04_08-07-40_31.816667_35.02222.mp4-img_22.jpg\n",
      "Saved frame 23000 as ForTraining\\2022-07-04_08-07-40_31.816667_35.02222.mp4-img_23.jpg\n",
      "Saved frame 24000 as ForTraining\\2022-07-04_08-07-40_31.816667_35.02222.mp4-img_24.jpg\n",
      "Saved frame 25000 as ForTraining\\2022-07-04_08-07-40_31.816667_35.02222.mp4-img_25.jpg\n",
      "ForTraining\\2022-07-04_08-07-40_32.32440001727537_34.86716907860931.mp4\n",
      "Saved frame 1000 as ForTraining\\2022-07-04_08-07-40_32.32440001727537_34.86716907860931.mp4-img_1.jpg\n",
      "Saved frame 2000 as ForTraining\\2022-07-04_08-07-40_32.32440001727537_34.86716907860931.mp4-img_2.jpg\n",
      "Saved frame 3000 as ForTraining\\2022-07-04_08-07-40_32.32440001727537_34.86716907860931.mp4-img_3.jpg\n",
      "Saved frame 4000 as ForTraining\\2022-07-04_08-07-40_32.32440001727537_34.86716907860931.mp4-img_4.jpg\n",
      "Saved frame 5000 as ForTraining\\2022-07-04_08-07-40_32.32440001727537_34.86716907860931.mp4-img_5.jpg\n",
      "Saved frame 6000 as ForTraining\\2022-07-04_08-07-40_32.32440001727537_34.86716907860931.mp4-img_6.jpg\n",
      "Saved frame 7000 as ForTraining\\2022-07-04_08-07-40_32.32440001727537_34.86716907860931.mp4-img_7.jpg\n",
      "Saved frame 8000 as ForTraining\\2022-07-04_08-07-40_32.32440001727537_34.86716907860931.mp4-img_8.jpg\n",
      "Saved frame 9000 as ForTraining\\2022-07-04_08-07-40_32.32440001727537_34.86716907860931.mp4-img_9.jpg\n",
      "Saved frame 10000 as ForTraining\\2022-07-04_08-07-40_32.32440001727537_34.86716907860931.mp4-img_10.jpg\n",
      "Saved frame 11000 as ForTraining\\2022-07-04_08-07-40_32.32440001727537_34.86716907860931.mp4-img_11.jpg\n",
      "Saved frame 12000 as ForTraining\\2022-07-04_08-07-40_32.32440001727537_34.86716907860931.mp4-img_12.jpg\n",
      "Saved frame 13000 as ForTraining\\2022-07-04_08-07-40_32.32440001727537_34.86716907860931.mp4-img_13.jpg\n",
      "Saved frame 14000 as ForTraining\\2022-07-04_08-07-40_32.32440001727537_34.86716907860931.mp4-img_14.jpg\n",
      "Saved frame 15000 as ForTraining\\2022-07-04_08-07-40_32.32440001727537_34.86716907860931.mp4-img_15.jpg\n",
      "Saved frame 16000 as ForTraining\\2022-07-04_08-07-40_32.32440001727537_34.86716907860931.mp4-img_16.jpg\n",
      "Saved frame 17000 as ForTraining\\2022-07-04_08-07-40_32.32440001727537_34.86716907860931.mp4-img_17.jpg\n",
      "Saved frame 18000 as ForTraining\\2022-07-04_08-07-40_32.32440001727537_34.86716907860931.mp4-img_18.jpg\n",
      "Saved frame 19000 as ForTraining\\2022-07-04_08-07-40_32.32440001727537_34.86716907860931.mp4-img_19.jpg\n",
      "Saved frame 20000 as ForTraining\\2022-07-04_08-07-40_32.32440001727537_34.86716907860931.mp4-img_20.jpg\n",
      "Saved frame 21000 as ForTraining\\2022-07-04_08-07-40_32.32440001727537_34.86716907860931.mp4-img_21.jpg\n",
      "Saved frame 22000 as ForTraining\\2022-07-04_08-07-40_32.32440001727537_34.86716907860931.mp4-img_22.jpg\n",
      "Saved frame 23000 as ForTraining\\2022-07-04_08-07-40_32.32440001727537_34.86716907860931.mp4-img_23.jpg\n",
      "Saved frame 24000 as ForTraining\\2022-07-04_08-07-40_32.32440001727537_34.86716907860931.mp4-img_24.jpg\n",
      "Saved frame 25000 as ForTraining\\2022-07-04_08-07-40_32.32440001727537_34.86716907860931.mp4-img_25.jpg\n",
      "ForTraining\\2022-07-05_08-01-53_31.816667_35.02222.mp4\n",
      "Saved frame 1000 as ForTraining\\2022-07-05_08-01-53_31.816667_35.02222.mp4-img_1.jpg\n",
      "Saved frame 2000 as ForTraining\\2022-07-05_08-01-53_31.816667_35.02222.mp4-img_2.jpg\n",
      "Saved frame 3000 as ForTraining\\2022-07-05_08-01-53_31.816667_35.02222.mp4-img_3.jpg\n",
      "Saved frame 4000 as ForTraining\\2022-07-05_08-01-53_31.816667_35.02222.mp4-img_4.jpg\n",
      "Saved frame 5000 as ForTraining\\2022-07-05_08-01-53_31.816667_35.02222.mp4-img_5.jpg\n",
      "Saved frame 6000 as ForTraining\\2022-07-05_08-01-53_31.816667_35.02222.mp4-img_6.jpg\n",
      "Saved frame 7000 as ForTraining\\2022-07-05_08-01-53_31.816667_35.02222.mp4-img_7.jpg\n",
      "Saved frame 8000 as ForTraining\\2022-07-05_08-01-53_31.816667_35.02222.mp4-img_8.jpg\n",
      "Saved frame 9000 as ForTraining\\2022-07-05_08-01-53_31.816667_35.02222.mp4-img_9.jpg\n",
      "Saved frame 10000 as ForTraining\\2022-07-05_08-01-53_31.816667_35.02222.mp4-img_10.jpg\n",
      "Saved frame 11000 as ForTraining\\2022-07-05_08-01-53_31.816667_35.02222.mp4-img_11.jpg\n",
      "Saved frame 12000 as ForTraining\\2022-07-05_08-01-53_31.816667_35.02222.mp4-img_12.jpg\n",
      "Saved frame 13000 as ForTraining\\2022-07-05_08-01-53_31.816667_35.02222.mp4-img_13.jpg\n",
      "Saved frame 14000 as ForTraining\\2022-07-05_08-01-53_31.816667_35.02222.mp4-img_14.jpg\n",
      "Saved frame 15000 as ForTraining\\2022-07-05_08-01-53_31.816667_35.02222.mp4-img_15.jpg\n",
      "Saved frame 16000 as ForTraining\\2022-07-05_08-01-53_31.816667_35.02222.mp4-img_16.jpg\n",
      "Saved frame 17000 as ForTraining\\2022-07-05_08-01-53_31.816667_35.02222.mp4-img_17.jpg\n",
      "Saved frame 18000 as ForTraining\\2022-07-05_08-01-53_31.816667_35.02222.mp4-img_18.jpg\n",
      "Saved frame 19000 as ForTraining\\2022-07-05_08-01-53_31.816667_35.02222.mp4-img_19.jpg\n",
      "Saved frame 20000 as ForTraining\\2022-07-05_08-01-53_31.816667_35.02222.mp4-img_20.jpg\n",
      "Saved frame 21000 as ForTraining\\2022-07-05_08-01-53_31.816667_35.02222.mp4-img_21.jpg\n",
      "Saved frame 22000 as ForTraining\\2022-07-05_08-01-53_31.816667_35.02222.mp4-img_22.jpg\n",
      "Saved frame 23000 as ForTraining\\2022-07-05_08-01-53_31.816667_35.02222.mp4-img_23.jpg\n",
      "Saved frame 24000 as ForTraining\\2022-07-05_08-01-53_31.816667_35.02222.mp4-img_24.jpg\n",
      "Saved frame 25000 as ForTraining\\2022-07-05_08-01-53_31.816667_35.02222.mp4-img_25.jpg\n",
      "ForTraining\\2022-07-05_08-01-53_32.32440001727537_34.86716907860931.mp4\n",
      "Saved frame 1000 as ForTraining\\2022-07-05_08-01-53_32.32440001727537_34.86716907860931.mp4-img_1.jpg\n",
      "Saved frame 2000 as ForTraining\\2022-07-05_08-01-53_32.32440001727537_34.86716907860931.mp4-img_2.jpg\n",
      "Saved frame 3000 as ForTraining\\2022-07-05_08-01-53_32.32440001727537_34.86716907860931.mp4-img_3.jpg\n",
      "Saved frame 4000 as ForTraining\\2022-07-05_08-01-53_32.32440001727537_34.86716907860931.mp4-img_4.jpg\n",
      "Saved frame 5000 as ForTraining\\2022-07-05_08-01-53_32.32440001727537_34.86716907860931.mp4-img_5.jpg\n",
      "Saved frame 6000 as ForTraining\\2022-07-05_08-01-53_32.32440001727537_34.86716907860931.mp4-img_6.jpg\n",
      "Saved frame 7000 as ForTraining\\2022-07-05_08-01-53_32.32440001727537_34.86716907860931.mp4-img_7.jpg\n",
      "Saved frame 8000 as ForTraining\\2022-07-05_08-01-53_32.32440001727537_34.86716907860931.mp4-img_8.jpg\n",
      "Saved frame 9000 as ForTraining\\2022-07-05_08-01-53_32.32440001727537_34.86716907860931.mp4-img_9.jpg\n",
      "Saved frame 10000 as ForTraining\\2022-07-05_08-01-53_32.32440001727537_34.86716907860931.mp4-img_10.jpg\n",
      "Saved frame 11000 as ForTraining\\2022-07-05_08-01-53_32.32440001727537_34.86716907860931.mp4-img_11.jpg\n",
      "Saved frame 12000 as ForTraining\\2022-07-05_08-01-53_32.32440001727537_34.86716907860931.mp4-img_12.jpg\n",
      "Saved frame 13000 as ForTraining\\2022-07-05_08-01-53_32.32440001727537_34.86716907860931.mp4-img_13.jpg\n",
      "Saved frame 14000 as ForTraining\\2022-07-05_08-01-53_32.32440001727537_34.86716907860931.mp4-img_14.jpg\n",
      "Saved frame 15000 as ForTraining\\2022-07-05_08-01-53_32.32440001727537_34.86716907860931.mp4-img_15.jpg\n",
      "Saved frame 16000 as ForTraining\\2022-07-05_08-01-53_32.32440001727537_34.86716907860931.mp4-img_16.jpg\n",
      "Saved frame 17000 as ForTraining\\2022-07-05_08-01-53_32.32440001727537_34.86716907860931.mp4-img_17.jpg\n",
      "Saved frame 18000 as ForTraining\\2022-07-05_08-01-53_32.32440001727537_34.86716907860931.mp4-img_18.jpg\n",
      "Saved frame 19000 as ForTraining\\2022-07-05_08-01-53_32.32440001727537_34.86716907860931.mp4-img_19.jpg\n",
      "Saved frame 20000 as ForTraining\\2022-07-05_08-01-53_32.32440001727537_34.86716907860931.mp4-img_20.jpg\n",
      "Saved frame 21000 as ForTraining\\2022-07-05_08-01-53_32.32440001727537_34.86716907860931.mp4-img_21.jpg\n",
      "Saved frame 22000 as ForTraining\\2022-07-05_08-01-53_32.32440001727537_34.86716907860931.mp4-img_22.jpg\n",
      "Saved frame 23000 as ForTraining\\2022-07-05_08-01-53_32.32440001727537_34.86716907860931.mp4-img_23.jpg\n",
      "Video frame is empty or video processing has been successfully completed.\n",
      "ForTraining\\2022-07-05_09-31-47_31.816667_35.02222.mp4\n",
      "Saved frame 1000 as ForTraining\\2022-07-05_09-31-47_31.816667_35.02222.mp4-img_1.jpg\n",
      "Saved frame 2000 as ForTraining\\2022-07-05_09-31-47_31.816667_35.02222.mp4-img_2.jpg\n",
      "Saved frame 3000 as ForTraining\\2022-07-05_09-31-47_31.816667_35.02222.mp4-img_3.jpg\n",
      "Saved frame 4000 as ForTraining\\2022-07-05_09-31-47_31.816667_35.02222.mp4-img_4.jpg\n",
      "Saved frame 5000 as ForTraining\\2022-07-05_09-31-47_31.816667_35.02222.mp4-img_5.jpg\n",
      "Saved frame 6000 as ForTraining\\2022-07-05_09-31-47_31.816667_35.02222.mp4-img_6.jpg\n",
      "Saved frame 7000 as ForTraining\\2022-07-05_09-31-47_31.816667_35.02222.mp4-img_7.jpg\n",
      "Saved frame 8000 as ForTraining\\2022-07-05_09-31-47_31.816667_35.02222.mp4-img_8.jpg\n",
      "Saved frame 9000 as ForTraining\\2022-07-05_09-31-47_31.816667_35.02222.mp4-img_9.jpg\n",
      "Saved frame 10000 as ForTraining\\2022-07-05_09-31-47_31.816667_35.02222.mp4-img_10.jpg\n",
      "Saved frame 11000 as ForTraining\\2022-07-05_09-31-47_31.816667_35.02222.mp4-img_11.jpg\n",
      "Saved frame 12000 as ForTraining\\2022-07-05_09-31-47_31.816667_35.02222.mp4-img_12.jpg\n",
      "Saved frame 13000 as ForTraining\\2022-07-05_09-31-47_31.816667_35.02222.mp4-img_13.jpg\n",
      "Saved frame 14000 as ForTraining\\2022-07-05_09-31-47_31.816667_35.02222.mp4-img_14.jpg\n",
      "Saved frame 15000 as ForTraining\\2022-07-05_09-31-47_31.816667_35.02222.mp4-img_15.jpg\n",
      "Saved frame 16000 as ForTraining\\2022-07-05_09-31-47_31.816667_35.02222.mp4-img_16.jpg\n",
      "Saved frame 17000 as ForTraining\\2022-07-05_09-31-47_31.816667_35.02222.mp4-img_17.jpg\n",
      "Saved frame 18000 as ForTraining\\2022-07-05_09-31-47_31.816667_35.02222.mp4-img_18.jpg\n",
      "Saved frame 19000 as ForTraining\\2022-07-05_09-31-47_31.816667_35.02222.mp4-img_19.jpg\n",
      "Saved frame 20000 as ForTraining\\2022-07-05_09-31-47_31.816667_35.02222.mp4-img_20.jpg\n",
      "Saved frame 21000 as ForTraining\\2022-07-05_09-31-47_31.816667_35.02222.mp4-img_21.jpg\n",
      "Saved frame 22000 as ForTraining\\2022-07-05_09-31-47_31.816667_35.02222.mp4-img_22.jpg\n",
      "Saved frame 23000 as ForTraining\\2022-07-05_09-31-47_31.816667_35.02222.mp4-img_23.jpg\n",
      "Saved frame 24000 as ForTraining\\2022-07-05_09-31-47_31.816667_35.02222.mp4-img_24.jpg\n",
      "Saved frame 25000 as ForTraining\\2022-07-05_09-31-47_31.816667_35.02222.mp4-img_25.jpg\n",
      "ForTraining\\2022-07-05_09-31-47_32.32440001727537_34.86716907860931.mp4\n",
      "Saved frame 1000 as ForTraining\\2022-07-05_09-31-47_32.32440001727537_34.86716907860931.mp4-img_1.jpg\n",
      "Saved frame 2000 as ForTraining\\2022-07-05_09-31-47_32.32440001727537_34.86716907860931.mp4-img_2.jpg\n",
      "Saved frame 3000 as ForTraining\\2022-07-05_09-31-47_32.32440001727537_34.86716907860931.mp4-img_3.jpg\n",
      "Saved frame 4000 as ForTraining\\2022-07-05_09-31-47_32.32440001727537_34.86716907860931.mp4-img_4.jpg\n",
      "Saved frame 5000 as ForTraining\\2022-07-05_09-31-47_32.32440001727537_34.86716907860931.mp4-img_5.jpg\n",
      "Saved frame 6000 as ForTraining\\2022-07-05_09-31-47_32.32440001727537_34.86716907860931.mp4-img_6.jpg\n",
      "Saved frame 7000 as ForTraining\\2022-07-05_09-31-47_32.32440001727537_34.86716907860931.mp4-img_7.jpg\n",
      "Saved frame 8000 as ForTraining\\2022-07-05_09-31-47_32.32440001727537_34.86716907860931.mp4-img_8.jpg\n",
      "Saved frame 9000 as ForTraining\\2022-07-05_09-31-47_32.32440001727537_34.86716907860931.mp4-img_9.jpg\n",
      "Saved frame 10000 as ForTraining\\2022-07-05_09-31-47_32.32440001727537_34.86716907860931.mp4-img_10.jpg\n",
      "Saved frame 11000 as ForTraining\\2022-07-05_09-31-47_32.32440001727537_34.86716907860931.mp4-img_11.jpg\n",
      "Saved frame 12000 as ForTraining\\2022-07-05_09-31-47_32.32440001727537_34.86716907860931.mp4-img_12.jpg\n",
      "Saved frame 13000 as ForTraining\\2022-07-05_09-31-47_32.32440001727537_34.86716907860931.mp4-img_13.jpg\n",
      "Saved frame 14000 as ForTraining\\2022-07-05_09-31-47_32.32440001727537_34.86716907860931.mp4-img_14.jpg\n",
      "Saved frame 15000 as ForTraining\\2022-07-05_09-31-47_32.32440001727537_34.86716907860931.mp4-img_15.jpg\n",
      "Saved frame 16000 as ForTraining\\2022-07-05_09-31-47_32.32440001727537_34.86716907860931.mp4-img_16.jpg\n",
      "Saved frame 17000 as ForTraining\\2022-07-05_09-31-47_32.32440001727537_34.86716907860931.mp4-img_17.jpg\n",
      "Saved frame 18000 as ForTraining\\2022-07-05_09-31-47_32.32440001727537_34.86716907860931.mp4-img_18.jpg\n",
      "Saved frame 19000 as ForTraining\\2022-07-05_09-31-47_32.32440001727537_34.86716907860931.mp4-img_19.jpg\n",
      "Saved frame 20000 as ForTraining\\2022-07-05_09-31-47_32.32440001727537_34.86716907860931.mp4-img_20.jpg\n",
      "Saved frame 21000 as ForTraining\\2022-07-05_09-31-47_32.32440001727537_34.86716907860931.mp4-img_21.jpg\n",
      "Saved frame 22000 as ForTraining\\2022-07-05_09-31-47_32.32440001727537_34.86716907860931.mp4-img_22.jpg\n",
      "Saved frame 23000 as ForTraining\\2022-07-05_09-31-47_32.32440001727537_34.86716907860931.mp4-img_23.jpg\n",
      "Saved frame 24000 as ForTraining\\2022-07-05_09-31-47_32.32440001727537_34.86716907860931.mp4-img_24.jpg\n",
      "Saved frame 25000 as ForTraining\\2022-07-05_09-31-47_32.32440001727537_34.86716907860931.mp4-img_25.jpg\n",
      "ForTraining\\2022-07-06_22-45-22_31.9856626137873_ 34.92532790128959.mp4\n",
      "Saved frame 1000 as ForTraining\\2022-07-06_22-45-22_31.9856626137873_ 34.92532790128959.mp4-img_1.jpg\n",
      "Saved frame 2000 as ForTraining\\2022-07-06_22-45-22_31.9856626137873_ 34.92532790128959.mp4-img_2.jpg\n",
      "Saved frame 3000 as ForTraining\\2022-07-06_22-45-22_31.9856626137873_ 34.92532790128959.mp4-img_3.jpg\n",
      "Saved frame 4000 as ForTraining\\2022-07-06_22-45-22_31.9856626137873_ 34.92532790128959.mp4-img_4.jpg\n",
      "Saved frame 5000 as ForTraining\\2022-07-06_22-45-22_31.9856626137873_ 34.92532790128959.mp4-img_5.jpg\n",
      "Saved frame 6000 as ForTraining\\2022-07-06_22-45-22_31.9856626137873_ 34.92532790128959.mp4-img_6.jpg\n",
      "Saved frame 7000 as ForTraining\\2022-07-06_22-45-22_31.9856626137873_ 34.92532790128959.mp4-img_7.jpg\n",
      "Saved frame 8000 as ForTraining\\2022-07-06_22-45-22_31.9856626137873_ 34.92532790128959.mp4-img_8.jpg\n",
      "Saved frame 9000 as ForTraining\\2022-07-06_22-45-22_31.9856626137873_ 34.92532790128959.mp4-img_9.jpg\n",
      "Saved frame 10000 as ForTraining\\2022-07-06_22-45-22_31.9856626137873_ 34.92532790128959.mp4-img_10.jpg\n",
      "Saved frame 11000 as ForTraining\\2022-07-06_22-45-22_31.9856626137873_ 34.92532790128959.mp4-img_11.jpg\n",
      "Saved frame 12000 as ForTraining\\2022-07-06_22-45-22_31.9856626137873_ 34.92532790128959.mp4-img_12.jpg\n",
      "Saved frame 13000 as ForTraining\\2022-07-06_22-45-22_31.9856626137873_ 34.92532790128959.mp4-img_13.jpg\n",
      "Saved frame 14000 as ForTraining\\2022-07-06_22-45-22_31.9856626137873_ 34.92532790128959.mp4-img_14.jpg\n",
      "Saved frame 15000 as ForTraining\\2022-07-06_22-45-22_31.9856626137873_ 34.92532790128959.mp4-img_15.jpg\n",
      "Saved frame 16000 as ForTraining\\2022-07-06_22-45-22_31.9856626137873_ 34.92532790128959.mp4-img_16.jpg\n",
      "Saved frame 17000 as ForTraining\\2022-07-06_22-45-22_31.9856626137873_ 34.92532790128959.mp4-img_17.jpg\n",
      "Saved frame 18000 as ForTraining\\2022-07-06_22-45-22_31.9856626137873_ 34.92532790128959.mp4-img_18.jpg\n",
      "Saved frame 19000 as ForTraining\\2022-07-06_22-45-22_31.9856626137873_ 34.92532790128959.mp4-img_19.jpg\n",
      "Saved frame 20000 as ForTraining\\2022-07-06_22-45-22_31.9856626137873_ 34.92532790128959.mp4-img_20.jpg\n",
      "Saved frame 21000 as ForTraining\\2022-07-06_22-45-22_31.9856626137873_ 34.92532790128959.mp4-img_21.jpg\n",
      "Saved frame 22000 as ForTraining\\2022-07-06_22-45-22_31.9856626137873_ 34.92532790128959.mp4-img_22.jpg\n",
      "Saved frame 23000 as ForTraining\\2022-07-06_22-45-22_31.9856626137873_ 34.92532790128959.mp4-img_23.jpg\n",
      "Saved frame 24000 as ForTraining\\2022-07-06_22-45-22_31.9856626137873_ 34.92532790128959.mp4-img_24.jpg\n",
      "Saved frame 25000 as ForTraining\\2022-07-06_22-45-22_31.9856626137873_ 34.92532790128959.mp4-img_25.jpg\n",
      "ForTraining\\2022-07-06_22-45-22_32.32440001727537_34.86716907860931.mp4\n",
      "Saved frame 1000 as ForTraining\\2022-07-06_22-45-22_32.32440001727537_34.86716907860931.mp4-img_1.jpg\n",
      "Saved frame 2000 as ForTraining\\2022-07-06_22-45-22_32.32440001727537_34.86716907860931.mp4-img_2.jpg\n",
      "Saved frame 3000 as ForTraining\\2022-07-06_22-45-22_32.32440001727537_34.86716907860931.mp4-img_3.jpg\n",
      "Saved frame 4000 as ForTraining\\2022-07-06_22-45-22_32.32440001727537_34.86716907860931.mp4-img_4.jpg\n",
      "Saved frame 5000 as ForTraining\\2022-07-06_22-45-22_32.32440001727537_34.86716907860931.mp4-img_5.jpg\n",
      "Saved frame 6000 as ForTraining\\2022-07-06_22-45-22_32.32440001727537_34.86716907860931.mp4-img_6.jpg\n",
      "Saved frame 7000 as ForTraining\\2022-07-06_22-45-22_32.32440001727537_34.86716907860931.mp4-img_7.jpg\n",
      "Saved frame 8000 as ForTraining\\2022-07-06_22-45-22_32.32440001727537_34.86716907860931.mp4-img_8.jpg\n",
      "Saved frame 9000 as ForTraining\\2022-07-06_22-45-22_32.32440001727537_34.86716907860931.mp4-img_9.jpg\n",
      "Saved frame 10000 as ForTraining\\2022-07-06_22-45-22_32.32440001727537_34.86716907860931.mp4-img_10.jpg\n",
      "Saved frame 11000 as ForTraining\\2022-07-06_22-45-22_32.32440001727537_34.86716907860931.mp4-img_11.jpg\n",
      "Saved frame 12000 as ForTraining\\2022-07-06_22-45-22_32.32440001727537_34.86716907860931.mp4-img_12.jpg\n",
      "Saved frame 13000 as ForTraining\\2022-07-06_22-45-22_32.32440001727537_34.86716907860931.mp4-img_13.jpg\n",
      "Saved frame 14000 as ForTraining\\2022-07-06_22-45-22_32.32440001727537_34.86716907860931.mp4-img_14.jpg\n",
      "Saved frame 15000 as ForTraining\\2022-07-06_22-45-22_32.32440001727537_34.86716907860931.mp4-img_15.jpg\n",
      "Saved frame 16000 as ForTraining\\2022-07-06_22-45-22_32.32440001727537_34.86716907860931.mp4-img_16.jpg\n",
      "Saved frame 17000 as ForTraining\\2022-07-06_22-45-22_32.32440001727537_34.86716907860931.mp4-img_17.jpg\n",
      "Saved frame 18000 as ForTraining\\2022-07-06_22-45-22_32.32440001727537_34.86716907860931.mp4-img_18.jpg\n",
      "Saved frame 19000 as ForTraining\\2022-07-06_22-45-22_32.32440001727537_34.86716907860931.mp4-img_19.jpg\n",
      "Saved frame 20000 as ForTraining\\2022-07-06_22-45-22_32.32440001727537_34.86716907860931.mp4-img_20.jpg\n",
      "Saved frame 21000 as ForTraining\\2022-07-06_22-45-22_32.32440001727537_34.86716907860931.mp4-img_21.jpg\n",
      "Saved frame 22000 as ForTraining\\2022-07-06_22-45-22_32.32440001727537_34.86716907860931.mp4-img_22.jpg\n",
      "Saved frame 23000 as ForTraining\\2022-07-06_22-45-22_32.32440001727537_34.86716907860931.mp4-img_23.jpg\n",
      "Saved frame 24000 as ForTraining\\2022-07-06_22-45-22_32.32440001727537_34.86716907860931.mp4-img_24.jpg\n",
      "Saved frame 25000 as ForTraining\\2022-07-06_22-45-22_32.32440001727537_34.86716907860931.mp4-img_25.jpg\n",
      "ForTraining\\2022-07-08_01-35-06_31.937155302120644_34.98620971427875.mp4\n",
      "Saved frame 1000 as ForTraining\\2022-07-08_01-35-06_31.937155302120644_34.98620971427875.mp4-img_1.jpg\n",
      "Saved frame 2000 as ForTraining\\2022-07-08_01-35-06_31.937155302120644_34.98620971427875.mp4-img_2.jpg\n",
      "Saved frame 3000 as ForTraining\\2022-07-08_01-35-06_31.937155302120644_34.98620971427875.mp4-img_3.jpg\n",
      "Saved frame 4000 as ForTraining\\2022-07-08_01-35-06_31.937155302120644_34.98620971427875.mp4-img_4.jpg\n",
      "Saved frame 5000 as ForTraining\\2022-07-08_01-35-06_31.937155302120644_34.98620971427875.mp4-img_5.jpg\n",
      "Saved frame 6000 as ForTraining\\2022-07-08_01-35-06_31.937155302120644_34.98620971427875.mp4-img_6.jpg\n",
      "Saved frame 7000 as ForTraining\\2022-07-08_01-35-06_31.937155302120644_34.98620971427875.mp4-img_7.jpg\n",
      "Saved frame 8000 as ForTraining\\2022-07-08_01-35-06_31.937155302120644_34.98620971427875.mp4-img_8.jpg\n",
      "Saved frame 9000 as ForTraining\\2022-07-08_01-35-06_31.937155302120644_34.98620971427875.mp4-img_9.jpg\n",
      "Saved frame 10000 as ForTraining\\2022-07-08_01-35-06_31.937155302120644_34.98620971427875.mp4-img_10.jpg\n",
      "Saved frame 11000 as ForTraining\\2022-07-08_01-35-06_31.937155302120644_34.98620971427875.mp4-img_11.jpg\n",
      "Saved frame 12000 as ForTraining\\2022-07-08_01-35-06_31.937155302120644_34.98620971427875.mp4-img_12.jpg\n",
      "Saved frame 13000 as ForTraining\\2022-07-08_01-35-06_31.937155302120644_34.98620971427875.mp4-img_13.jpg\n",
      "Saved frame 14000 as ForTraining\\2022-07-08_01-35-06_31.937155302120644_34.98620971427875.mp4-img_14.jpg\n",
      "Saved frame 15000 as ForTraining\\2022-07-08_01-35-06_31.937155302120644_34.98620971427875.mp4-img_15.jpg\n",
      "Saved frame 16000 as ForTraining\\2022-07-08_01-35-06_31.937155302120644_34.98620971427875.mp4-img_16.jpg\n",
      "Saved frame 17000 as ForTraining\\2022-07-08_01-35-06_31.937155302120644_34.98620971427875.mp4-img_17.jpg\n",
      "Saved frame 18000 as ForTraining\\2022-07-08_01-35-06_31.937155302120644_34.98620971427875.mp4-img_18.jpg\n",
      "Saved frame 19000 as ForTraining\\2022-07-08_01-35-06_31.937155302120644_34.98620971427875.mp4-img_19.jpg\n",
      "Saved frame 20000 as ForTraining\\2022-07-08_01-35-06_31.937155302120644_34.98620971427875.mp4-img_20.jpg\n",
      "Saved frame 21000 as ForTraining\\2022-07-08_01-35-06_31.937155302120644_34.98620971427875.mp4-img_21.jpg\n",
      "Saved frame 22000 as ForTraining\\2022-07-08_01-35-06_31.937155302120644_34.98620971427875.mp4-img_22.jpg\n",
      "Saved frame 23000 as ForTraining\\2022-07-08_01-35-06_31.937155302120644_34.98620971427875.mp4-img_23.jpg\n",
      "Saved frame 24000 as ForTraining\\2022-07-08_01-35-06_31.937155302120644_34.98620971427875.mp4-img_24.jpg\n",
      "Saved frame 25000 as ForTraining\\2022-07-08_01-35-06_31.937155302120644_34.98620971427875.mp4-img_25.jpg\n",
      "ForTraining\\2022-07-08_01-35-06_32.32440001727537_34.86716907860931.mp4\n",
      "Saved frame 1000 as ForTraining\\2022-07-08_01-35-06_32.32440001727537_34.86716907860931.mp4-img_1.jpg\n",
      "Saved frame 2000 as ForTraining\\2022-07-08_01-35-06_32.32440001727537_34.86716907860931.mp4-img_2.jpg\n",
      "Saved frame 3000 as ForTraining\\2022-07-08_01-35-06_32.32440001727537_34.86716907860931.mp4-img_3.jpg\n",
      "Saved frame 4000 as ForTraining\\2022-07-08_01-35-06_32.32440001727537_34.86716907860931.mp4-img_4.jpg\n",
      "Saved frame 5000 as ForTraining\\2022-07-08_01-35-06_32.32440001727537_34.86716907860931.mp4-img_5.jpg\n",
      "Saved frame 6000 as ForTraining\\2022-07-08_01-35-06_32.32440001727537_34.86716907860931.mp4-img_6.jpg\n",
      "Saved frame 7000 as ForTraining\\2022-07-08_01-35-06_32.32440001727537_34.86716907860931.mp4-img_7.jpg\n",
      "Saved frame 8000 as ForTraining\\2022-07-08_01-35-06_32.32440001727537_34.86716907860931.mp4-img_8.jpg\n",
      "Saved frame 9000 as ForTraining\\2022-07-08_01-35-06_32.32440001727537_34.86716907860931.mp4-img_9.jpg\n",
      "Saved frame 10000 as ForTraining\\2022-07-08_01-35-06_32.32440001727537_34.86716907860931.mp4-img_10.jpg\n",
      "Saved frame 11000 as ForTraining\\2022-07-08_01-35-06_32.32440001727537_34.86716907860931.mp4-img_11.jpg\n",
      "Saved frame 12000 as ForTraining\\2022-07-08_01-35-06_32.32440001727537_34.86716907860931.mp4-img_12.jpg\n",
      "Saved frame 13000 as ForTraining\\2022-07-08_01-35-06_32.32440001727537_34.86716907860931.mp4-img_13.jpg\n",
      "Saved frame 14000 as ForTraining\\2022-07-08_01-35-06_32.32440001727537_34.86716907860931.mp4-img_14.jpg\n",
      "Saved frame 15000 as ForTraining\\2022-07-08_01-35-06_32.32440001727537_34.86716907860931.mp4-img_15.jpg\n",
      "Saved frame 16000 as ForTraining\\2022-07-08_01-35-06_32.32440001727537_34.86716907860931.mp4-img_16.jpg\n",
      "Saved frame 17000 as ForTraining\\2022-07-08_01-35-06_32.32440001727537_34.86716907860931.mp4-img_17.jpg\n",
      "Saved frame 18000 as ForTraining\\2022-07-08_01-35-06_32.32440001727537_34.86716907860931.mp4-img_18.jpg\n",
      "Saved frame 19000 as ForTraining\\2022-07-08_01-35-06_32.32440001727537_34.86716907860931.mp4-img_19.jpg\n",
      "Saved frame 20000 as ForTraining\\2022-07-08_01-35-06_32.32440001727537_34.86716907860931.mp4-img_20.jpg\n",
      "Saved frame 21000 as ForTraining\\2022-07-08_01-35-06_32.32440001727537_34.86716907860931.mp4-img_21.jpg\n",
      "Saved frame 22000 as ForTraining\\2022-07-08_01-35-06_32.32440001727537_34.86716907860931.mp4-img_22.jpg\n",
      "Saved frame 23000 as ForTraining\\2022-07-08_01-35-06_32.32440001727537_34.86716907860931.mp4-img_23.jpg\n",
      "Saved frame 24000 as ForTraining\\2022-07-08_01-35-06_32.32440001727537_34.86716907860931.mp4-img_24.jpg\n",
      "Saved frame 25000 as ForTraining\\2022-07-08_01-35-06_32.32440001727537_34.86716907860931.mp4-img_25.jpg\n",
      "ForTraining\\2022-07-09_01-32-39_31.937155302120644_34.98620971427875.mp4\n",
      "Saved frame 1000 as ForTraining\\2022-07-09_01-32-39_31.937155302120644_34.98620971427875.mp4-img_1.jpg\n",
      "Saved frame 2000 as ForTraining\\2022-07-09_01-32-39_31.937155302120644_34.98620971427875.mp4-img_2.jpg\n",
      "Saved frame 3000 as ForTraining\\2022-07-09_01-32-39_31.937155302120644_34.98620971427875.mp4-img_3.jpg\n",
      "Saved frame 4000 as ForTraining\\2022-07-09_01-32-39_31.937155302120644_34.98620971427875.mp4-img_4.jpg\n",
      "Saved frame 5000 as ForTraining\\2022-07-09_01-32-39_31.937155302120644_34.98620971427875.mp4-img_5.jpg\n",
      "Saved frame 6000 as ForTraining\\2022-07-09_01-32-39_31.937155302120644_34.98620971427875.mp4-img_6.jpg\n",
      "Saved frame 7000 as ForTraining\\2022-07-09_01-32-39_31.937155302120644_34.98620971427875.mp4-img_7.jpg\n",
      "Saved frame 8000 as ForTraining\\2022-07-09_01-32-39_31.937155302120644_34.98620971427875.mp4-img_8.jpg\n",
      "Saved frame 9000 as ForTraining\\2022-07-09_01-32-39_31.937155302120644_34.98620971427875.mp4-img_9.jpg\n",
      "Saved frame 10000 as ForTraining\\2022-07-09_01-32-39_31.937155302120644_34.98620971427875.mp4-img_10.jpg\n",
      "Saved frame 11000 as ForTraining\\2022-07-09_01-32-39_31.937155302120644_34.98620971427875.mp4-img_11.jpg\n",
      "Saved frame 12000 as ForTraining\\2022-07-09_01-32-39_31.937155302120644_34.98620971427875.mp4-img_12.jpg\n",
      "Saved frame 13000 as ForTraining\\2022-07-09_01-32-39_31.937155302120644_34.98620971427875.mp4-img_13.jpg\n",
      "Saved frame 14000 as ForTraining\\2022-07-09_01-32-39_31.937155302120644_34.98620971427875.mp4-img_14.jpg\n",
      "Saved frame 15000 as ForTraining\\2022-07-09_01-32-39_31.937155302120644_34.98620971427875.mp4-img_15.jpg\n",
      "Saved frame 16000 as ForTraining\\2022-07-09_01-32-39_31.937155302120644_34.98620971427875.mp4-img_16.jpg\n",
      "Saved frame 17000 as ForTraining\\2022-07-09_01-32-39_31.937155302120644_34.98620971427875.mp4-img_17.jpg\n",
      "Saved frame 18000 as ForTraining\\2022-07-09_01-32-39_31.937155302120644_34.98620971427875.mp4-img_18.jpg\n",
      "Saved frame 19000 as ForTraining\\2022-07-09_01-32-39_31.937155302120644_34.98620971427875.mp4-img_19.jpg\n",
      "Saved frame 20000 as ForTraining\\2022-07-09_01-32-39_31.937155302120644_34.98620971427875.mp4-img_20.jpg\n",
      "Saved frame 21000 as ForTraining\\2022-07-09_01-32-39_31.937155302120644_34.98620971427875.mp4-img_21.jpg\n",
      "Saved frame 22000 as ForTraining\\2022-07-09_01-32-39_31.937155302120644_34.98620971427875.mp4-img_22.jpg\n",
      "Saved frame 23000 as ForTraining\\2022-07-09_01-32-39_31.937155302120644_34.98620971427875.mp4-img_23.jpg\n",
      "Saved frame 24000 as ForTraining\\2022-07-09_01-32-39_31.937155302120644_34.98620971427875.mp4-img_24.jpg\n",
      "Saved frame 25000 as ForTraining\\2022-07-09_01-32-39_31.937155302120644_34.98620971427875.mp4-img_25.jpg\n",
      "ForTraining\\2022-07-09_01-32-39_32.32440001727537_34.86716907860931.mp4\n",
      "Saved frame 1000 as ForTraining\\2022-07-09_01-32-39_32.32440001727537_34.86716907860931.mp4-img_1.jpg\n",
      "Saved frame 2000 as ForTraining\\2022-07-09_01-32-39_32.32440001727537_34.86716907860931.mp4-img_2.jpg\n",
      "Saved frame 3000 as ForTraining\\2022-07-09_01-32-39_32.32440001727537_34.86716907860931.mp4-img_3.jpg\n",
      "Saved frame 4000 as ForTraining\\2022-07-09_01-32-39_32.32440001727537_34.86716907860931.mp4-img_4.jpg\n",
      "Saved frame 5000 as ForTraining\\2022-07-09_01-32-39_32.32440001727537_34.86716907860931.mp4-img_5.jpg\n",
      "Saved frame 6000 as ForTraining\\2022-07-09_01-32-39_32.32440001727537_34.86716907860931.mp4-img_6.jpg\n",
      "Saved frame 7000 as ForTraining\\2022-07-09_01-32-39_32.32440001727537_34.86716907860931.mp4-img_7.jpg\n",
      "Saved frame 8000 as ForTraining\\2022-07-09_01-32-39_32.32440001727537_34.86716907860931.mp4-img_8.jpg\n",
      "Saved frame 9000 as ForTraining\\2022-07-09_01-32-39_32.32440001727537_34.86716907860931.mp4-img_9.jpg\n",
      "Saved frame 10000 as ForTraining\\2022-07-09_01-32-39_32.32440001727537_34.86716907860931.mp4-img_10.jpg\n",
      "Saved frame 11000 as ForTraining\\2022-07-09_01-32-39_32.32440001727537_34.86716907860931.mp4-img_11.jpg\n",
      "Saved frame 12000 as ForTraining\\2022-07-09_01-32-39_32.32440001727537_34.86716907860931.mp4-img_12.jpg\n",
      "Saved frame 13000 as ForTraining\\2022-07-09_01-32-39_32.32440001727537_34.86716907860931.mp4-img_13.jpg\n",
      "Saved frame 14000 as ForTraining\\2022-07-09_01-32-39_32.32440001727537_34.86716907860931.mp4-img_14.jpg\n",
      "Saved frame 15000 as ForTraining\\2022-07-09_01-32-39_32.32440001727537_34.86716907860931.mp4-img_15.jpg\n",
      "Saved frame 16000 as ForTraining\\2022-07-09_01-32-39_32.32440001727537_34.86716907860931.mp4-img_16.jpg\n",
      "Saved frame 17000 as ForTraining\\2022-07-09_01-32-39_32.32440001727537_34.86716907860931.mp4-img_17.jpg\n",
      "Saved frame 18000 as ForTraining\\2022-07-09_01-32-39_32.32440001727537_34.86716907860931.mp4-img_18.jpg\n",
      "Saved frame 19000 as ForTraining\\2022-07-09_01-32-39_32.32440001727537_34.86716907860931.mp4-img_19.jpg\n",
      "Saved frame 20000 as ForTraining\\2022-07-09_01-32-39_32.32440001727537_34.86716907860931.mp4-img_20.jpg\n",
      "Saved frame 21000 as ForTraining\\2022-07-09_01-32-39_32.32440001727537_34.86716907860931.mp4-img_21.jpg\n",
      "Saved frame 22000 as ForTraining\\2022-07-09_01-32-39_32.32440001727537_34.86716907860931.mp4-img_22.jpg\n",
      "Saved frame 23000 as ForTraining\\2022-07-09_01-32-39_32.32440001727537_34.86716907860931.mp4-img_23.jpg\n",
      "Saved frame 24000 as ForTraining\\2022-07-09_01-32-39_32.32440001727537_34.86716907860931.mp4-img_24.jpg\n",
      "Saved frame 25000 as ForTraining\\2022-07-09_01-32-39_32.32440001727537_34.86716907860931.mp4-img_25.jpg\n",
      "ForTraining\\2022-07-11_14-10-10_31.800444_35.125194.mp4\n",
      "Saved frame 1000 as ForTraining\\2022-07-11_14-10-10_31.800444_35.125194.mp4-img_1.jpg\n",
      "Saved frame 2000 as ForTraining\\2022-07-11_14-10-10_31.800444_35.125194.mp4-img_2.jpg\n",
      "Saved frame 3000 as ForTraining\\2022-07-11_14-10-10_31.800444_35.125194.mp4-img_3.jpg\n",
      "Saved frame 4000 as ForTraining\\2022-07-11_14-10-10_31.800444_35.125194.mp4-img_4.jpg\n",
      "Saved frame 5000 as ForTraining\\2022-07-11_14-10-10_31.800444_35.125194.mp4-img_5.jpg\n",
      "Saved frame 6000 as ForTraining\\2022-07-11_14-10-10_31.800444_35.125194.mp4-img_6.jpg\n",
      "Saved frame 7000 as ForTraining\\2022-07-11_14-10-10_31.800444_35.125194.mp4-img_7.jpg\n",
      "Saved frame 8000 as ForTraining\\2022-07-11_14-10-10_31.800444_35.125194.mp4-img_8.jpg\n",
      "Saved frame 9000 as ForTraining\\2022-07-11_14-10-10_31.800444_35.125194.mp4-img_9.jpg\n",
      "Saved frame 10000 as ForTraining\\2022-07-11_14-10-10_31.800444_35.125194.mp4-img_10.jpg\n",
      "Saved frame 11000 as ForTraining\\2022-07-11_14-10-10_31.800444_35.125194.mp4-img_11.jpg\n",
      "Saved frame 12000 as ForTraining\\2022-07-11_14-10-10_31.800444_35.125194.mp4-img_12.jpg\n",
      "Saved frame 13000 as ForTraining\\2022-07-11_14-10-10_31.800444_35.125194.mp4-img_13.jpg\n",
      "Saved frame 14000 as ForTraining\\2022-07-11_14-10-10_31.800444_35.125194.mp4-img_14.jpg\n",
      "Saved frame 15000 as ForTraining\\2022-07-11_14-10-10_31.800444_35.125194.mp4-img_15.jpg\n",
      "Saved frame 16000 as ForTraining\\2022-07-11_14-10-10_31.800444_35.125194.mp4-img_16.jpg\n",
      "Saved frame 17000 as ForTraining\\2022-07-11_14-10-10_31.800444_35.125194.mp4-img_17.jpg\n",
      "Saved frame 18000 as ForTraining\\2022-07-11_14-10-10_31.800444_35.125194.mp4-img_18.jpg\n",
      "Saved frame 19000 as ForTraining\\2022-07-11_14-10-10_31.800444_35.125194.mp4-img_19.jpg\n",
      "Saved frame 20000 as ForTraining\\2022-07-11_14-10-10_31.800444_35.125194.mp4-img_20.jpg\n",
      "Saved frame 21000 as ForTraining\\2022-07-11_14-10-10_31.800444_35.125194.mp4-img_21.jpg\n",
      "Saved frame 22000 as ForTraining\\2022-07-11_14-10-10_31.800444_35.125194.mp4-img_22.jpg\n",
      "Saved frame 23000 as ForTraining\\2022-07-11_14-10-10_31.800444_35.125194.mp4-img_23.jpg\n",
      "Saved frame 24000 as ForTraining\\2022-07-11_14-10-10_31.800444_35.125194.mp4-img_24.jpg\n",
      "Saved frame 25000 as ForTraining\\2022-07-11_14-10-10_31.800444_35.125194.mp4-img_25.jpg\n",
      "ForTraining\\2022-07-11_14-10-10_32.100198_34.84752.mp4\n",
      "Saved frame 1000 as ForTraining\\2022-07-11_14-10-10_32.100198_34.84752.mp4-img_1.jpg\n",
      "Saved frame 2000 as ForTraining\\2022-07-11_14-10-10_32.100198_34.84752.mp4-img_2.jpg\n",
      "Saved frame 3000 as ForTraining\\2022-07-11_14-10-10_32.100198_34.84752.mp4-img_3.jpg\n",
      "Saved frame 4000 as ForTraining\\2022-07-11_14-10-10_32.100198_34.84752.mp4-img_4.jpg\n",
      "Saved frame 5000 as ForTraining\\2022-07-11_14-10-10_32.100198_34.84752.mp4-img_5.jpg\n",
      "Saved frame 6000 as ForTraining\\2022-07-11_14-10-10_32.100198_34.84752.mp4-img_6.jpg\n",
      "Saved frame 7000 as ForTraining\\2022-07-11_14-10-10_32.100198_34.84752.mp4-img_7.jpg\n",
      "Saved frame 8000 as ForTraining\\2022-07-11_14-10-10_32.100198_34.84752.mp4-img_8.jpg\n",
      "Saved frame 9000 as ForTraining\\2022-07-11_14-10-10_32.100198_34.84752.mp4-img_9.jpg\n",
      "Saved frame 10000 as ForTraining\\2022-07-11_14-10-10_32.100198_34.84752.mp4-img_10.jpg\n",
      "Saved frame 11000 as ForTraining\\2022-07-11_14-10-10_32.100198_34.84752.mp4-img_11.jpg\n",
      "Saved frame 12000 as ForTraining\\2022-07-11_14-10-10_32.100198_34.84752.mp4-img_12.jpg\n",
      "Saved frame 13000 as ForTraining\\2022-07-11_14-10-10_32.100198_34.84752.mp4-img_13.jpg\n",
      "Saved frame 14000 as ForTraining\\2022-07-11_14-10-10_32.100198_34.84752.mp4-img_14.jpg\n",
      "Saved frame 15000 as ForTraining\\2022-07-11_14-10-10_32.100198_34.84752.mp4-img_15.jpg\n",
      "Saved frame 16000 as ForTraining\\2022-07-11_14-10-10_32.100198_34.84752.mp4-img_16.jpg\n",
      "Saved frame 17000 as ForTraining\\2022-07-11_14-10-10_32.100198_34.84752.mp4-img_17.jpg\n",
      "Saved frame 18000 as ForTraining\\2022-07-11_14-10-10_32.100198_34.84752.mp4-img_18.jpg\n",
      "Saved frame 19000 as ForTraining\\2022-07-11_14-10-10_32.100198_34.84752.mp4-img_19.jpg\n",
      "Saved frame 20000 as ForTraining\\2022-07-11_14-10-10_32.100198_34.84752.mp4-img_20.jpg\n",
      "Saved frame 21000 as ForTraining\\2022-07-11_14-10-10_32.100198_34.84752.mp4-img_21.jpg\n",
      "Saved frame 22000 as ForTraining\\2022-07-11_14-10-10_32.100198_34.84752.mp4-img_22.jpg\n",
      "Saved frame 23000 as ForTraining\\2022-07-11_14-10-10_32.100198_34.84752.mp4-img_23.jpg\n",
      "Saved frame 24000 as ForTraining\\2022-07-11_14-10-10_32.100198_34.84752.mp4-img_24.jpg\n",
      "Saved frame 25000 as ForTraining\\2022-07-11_14-10-10_32.100198_34.84752.mp4-img_25.jpg\n"
     ]
    }
   ],
   "source": [
    "for video in V4train:\n",
    "    print(video)\n",
    "    cap = cv2.VideoCapture(video)  # Replace with your video path\n",
    "\n",
    "    # Check if video opened successfully\n",
    "    if not cap.isOpened():\n",
    "        print(\"Error opening video stream or file\")\n",
    "        exit(1)\n",
    "    \n",
    "    # Process video frames\n",
    "    fps = cap.get(cv2.CAP_PROP_FPS)\n",
    "    total_frames = int(cap.get(cv2.CAP_PROP_FRAME_COUNT))\n",
    "    frame_count = 0\n",
    "    image_count= 0\n",
    "    while cap.isOpened():\n",
    "        success, im0 = cap.read()\n",
    "        if not success:\n",
    "            print(\"Video frame is empty or video processing has been successfully completed.\")\n",
    "            break\n",
    "        \n",
    "        # Capture frame-by-frame\n",
    "        ret, frame = cap.read()\n",
    "        # Check if frame is read correctly\n",
    "\n",
    "        if image_count >= 25:\n",
    "            break\n",
    "\n",
    "        frame_count += 1\n",
    "        \n",
    "        # Save every 100th frame as JPEG\n",
    "        if frame_count % 1000 == 0:\n",
    "            image_count += 1\n",
    "            image_path = f\"{video}-img_{image_count}.jpg\"\n",
    "            cv2.imwrite(image_path, frame)\n",
    "            print(f\"Saved frame {frame_count} as {image_path}\")\n",
    "\n",
    "\n",
    "with open('Framelist.pkl', 'wb') as f:\n",
    "    pickle.dump(AllVideos, f)\n"
   ]
  },
  {
   "cell_type": "code",
   "execution_count": 23,
   "id": "70bf27f3-a611-4c16-9a4d-7f7a60e09d35",
   "metadata": {
    "scrolled": true
   },
   "outputs": [],
   "source": [
    "import pickle\n",
    "\n",
    "with open(\"AllFrames_11video.pkl\", 'rb') as f:\n",
    "    AllFrames_11video = pickle.load(f)\n",
    "AllFrames_11video = AllFrames_11video[:-1]\n",
    "with open(\"AllVideos_every15frames.pkl\", 'rb') as f:\n",
    "    AllVideos_every15frames = pickle.load(f)\n",
    "\n",
    "with open(\"AllVideos_every15frames_last6.pkl\", 'rb') as f:\n",
    "    AllVideos_every15frames_last6 = pickle.load(f)\n",
    "\n",
    "AllVideos = AllFrames_11video[:][:]\n",
    "for video in AllVideos_every15frames:\n",
    "    AllVideos.append(video)\n",
    "\n",
    "for video in AllVideos_every15frames_last6:\n",
    "    AllVideos.append(video)\n"
   ]
  },
  {
   "cell_type": "code",
   "execution_count": 4,
   "id": "e0946d7a-2618-4794-b606-af51c4ae7405",
   "metadata": {},
   "outputs": [
    {
     "name": "stdout",
     "output_type": "stream",
     "text": [
      "11\n",
      "14\n",
      "6\n"
     ]
    }
   ],
   "source": [
    "print(len(AllFrames_11video))\n",
    "print(len(AllVideos_every15frames))\n",
    "print(len(AllVideos_every15frames_last6))"
   ]
  },
  {
   "cell_type": "code",
   "execution_count": 46,
   "id": "6321feb1-37b2-49f0-be4d-ef0aa8a5dfaa",
   "metadata": {},
   "outputs": [
    {
     "data": {
      "text/html": [
       "<div>\n",
       "<style scoped>\n",
       "    .dataframe tbody tr th:only-of-type {\n",
       "        vertical-align: middle;\n",
       "    }\n",
       "\n",
       "    .dataframe tbody tr th {\n",
       "        vertical-align: top;\n",
       "    }\n",
       "\n",
       "    .dataframe thead th {\n",
       "        text-align: right;\n",
       "    }\n",
       "</style>\n",
       "<table border=\"1\" class=\"dataframe\">\n",
       "  <thead>\n",
       "    <tr style=\"text-align: right;\">\n",
       "      <th></th>\n",
       "      <th>lattitude</th>\n",
       "      <th>longtitude</th>\n",
       "      <th>day</th>\n",
       "      <th>month</th>\n",
       "      <th>year</th>\n",
       "      <th>hours</th>\n",
       "      <th>mintes</th>\n",
       "      <th>second</th>\n",
       "      <th>frameRate</th>\n",
       "      <th>sample</th>\n",
       "    </tr>\n",
       "  </thead>\n",
       "  <tbody>\n",
       "    <tr>\n",
       "      <th>0</th>\n",
       "      <td>31.801</td>\n",
       "      <td>35.121</td>\n",
       "      <td>28</td>\n",
       "      <td>6</td>\n",
       "      <td>2022</td>\n",
       "      <td>23</td>\n",
       "      <td>46</td>\n",
       "      <td>17</td>\n",
       "      <td>15.00</td>\n",
       "      <td>All</td>\n",
       "    </tr>\n",
       "    <tr>\n",
       "      <th>1</th>\n",
       "      <td>32.710</td>\n",
       "      <td>34.952</td>\n",
       "      <td>28</td>\n",
       "      <td>6</td>\n",
       "      <td>2022</td>\n",
       "      <td>23</td>\n",
       "      <td>46</td>\n",
       "      <td>17</td>\n",
       "      <td>9.57</td>\n",
       "      <td>All</td>\n",
       "    </tr>\n",
       "    <tr>\n",
       "      <th>2</th>\n",
       "      <td>31.800</td>\n",
       "      <td>35.125</td>\n",
       "      <td>29</td>\n",
       "      <td>6</td>\n",
       "      <td>2022</td>\n",
       "      <td>0</td>\n",
       "      <td>37</td>\n",
       "      <td>27</td>\n",
       "      <td>15.00</td>\n",
       "      <td>All</td>\n",
       "    </tr>\n",
       "    <tr>\n",
       "      <th>3</th>\n",
       "      <td>32.711</td>\n",
       "      <td>34.952</td>\n",
       "      <td>29</td>\n",
       "      <td>6</td>\n",
       "      <td>2022</td>\n",
       "      <td>0</td>\n",
       "      <td>37</td>\n",
       "      <td>27</td>\n",
       "      <td>9.77</td>\n",
       "      <td>All</td>\n",
       "    </tr>\n",
       "    <tr>\n",
       "      <th>4</th>\n",
       "      <td>32.056</td>\n",
       "      <td>34.835</td>\n",
       "      <td>29</td>\n",
       "      <td>6</td>\n",
       "      <td>2022</td>\n",
       "      <td>5</td>\n",
       "      <td>21</td>\n",
       "      <td>14</td>\n",
       "      <td>15.00</td>\n",
       "      <td>All</td>\n",
       "    </tr>\n",
       "  </tbody>\n",
       "</table>\n",
       "</div>"
      ],
      "text/plain": [
       "   lattitude  longtitude  day  month  year  hours  mintes  second  frameRate  \\\n",
       "0     31.801      35.121   28      6  2022     23      46      17      15.00   \n",
       "1     32.710      34.952   28      6  2022     23      46      17       9.57   \n",
       "2     31.800      35.125   29      6  2022      0      37      27      15.00   \n",
       "3     32.711      34.952   29      6  2022      0      37      27       9.77   \n",
       "4     32.056      34.835   29      6  2022      5      21      14      15.00   \n",
       "\n",
       "  sample  \n",
       "0    All  \n",
       "1    All  \n",
       "2    All  \n",
       "3    All  \n",
       "4    All  "
      ]
     },
     "execution_count": 46,
     "metadata": {},
     "output_type": "execute_result"
    }
   ],
   "source": [
    "import pandas as pd\n",
    "import geopandas as gpd\n",
    "from shapely.geometry import Point\n",
    "\n",
    "df = pd.read_csv(\"metadata.csv\")\n",
    "# df.drop(df.columns[0])\n",
    "df = df.loc[:,[\"lattitude\", \"longtitude\",\"day\", \"month\", \"year\", \"hours\",\"mintes\",\"second\", \"frameRate\", \"sample\"]]\n",
    "df.head()"
   ]
  },
  {
   "cell_type": "code",
   "execution_count": 47,
   "id": "a1ac09da-04c4-49f0-b817-7178b2af3cbd",
   "metadata": {},
   "outputs": [
    {
     "name": "stdout",
     "output_type": "stream",
     "text": [
      "   lattitude  longtitude  day  month  year  hours  mintes  second  frameRate  \\\n",
      "0     31.801      35.121   28      6  2022     23      46      17      15.00   \n",
      "1     32.710      34.952   28      6  2022     23      46      17       9.57   \n",
      "2     31.800      35.125   29      6  2022      0      37      27      15.00   \n",
      "3     32.711      34.952   29      6  2022      0      37      27       9.77   \n",
      "4     32.056      34.835   29      6  2022      5      21      14      15.00   \n",
      "\n",
      "  sample                   geometry  \n",
      "0    All  POINT (35.12100 31.80100)  \n",
      "1    All  POINT (34.95200 32.71000)  \n",
      "2    All  POINT (35.12500 31.80000)  \n",
      "3    All  POINT (34.95200 32.71100)  \n",
      "4    All  POINT (34.83500 32.05600)  \n"
     ]
    }
   ],
   "source": [
    "geometry = [Point(lon, lat) for lon, lat in zip(df['longtitude'], df['lattitude'])]\n",
    "# Convert DataFrame to GeoDataFrame\n",
    "gdf = gpd.GeoDataFrame(df, geometry=geometry)\n",
    "print(gdf.head())\n",
    "# Drop the Latitude and Longitude columns if needed\n",
    "gdf = gdf.drop(columns=['lattitude', 'longtitude'])\n",
    "gdf.crs = 'EPSG:4326'\n",
    "m = gdf.explore()\n",
    "outfp = r\"base_map.html\"\n",
    "\n",
    "m.save(outfp)\n"
   ]
  },
  {
   "cell_type": "code",
   "execution_count": 48,
   "id": "a0929b66-5eb6-4abc-8b04-1214ff924727",
   "metadata": {},
   "outputs": [
    {
     "name": "stderr",
     "output_type": "stream",
     "text": [
      "100%|████████████████████████████████████████████████████████████████████████| 13953/13953 [00:00<00:00, 870568.90it/s]\n",
      "100%|█████████████████████████████████████████████████████████████████████████| 8902/8902 [00:00<00:00, 1104208.14it/s]\n",
      "100%|█████████████████████████████████████████████████████████████████████| 253318/253318 [00:00<00:00, 1391566.07it/s]\n",
      "100%|█████████████████████████████████████████████████████████████████████| 165084/165084 [00:00<00:00, 1451878.52it/s]\n",
      "100%|███████████████████████████████████████████████████████████████████████| 70566/70566 [00:00<00:00, 1468925.44it/s]\n",
      "100%|███████████████████████████████████████████████████████████████████████| 46181/46181 [00:00<00:00, 1398545.50it/s]\n",
      "100%|█████████████████████████████████████████████████████████████████████| 385077/385077 [00:00<00:00, 1552942.42it/s]\n",
      "100%|█████████████████████████████████████████████████████████████████████| 581230/581230 [00:00<00:00, 1573188.46it/s]\n",
      "100%|█████████████████████████████████████████████████████████████████████| 266263/266263 [00:00<00:00, 1534011.47it/s]\n",
      "100%|█████████████████████████████████████████████████████████████████████| 176874/176874 [00:00<00:00, 1264715.81it/s]\n",
      "100%|█████████████████████████████████████████████████████████████████████| 701416/701416 [00:00<00:00, 1398825.92it/s]\n",
      "100%|████████████████████████████████████████████████████████████████████████| 36991/36991 [00:00<00:00, 974159.74it/s]\n",
      "100%|████████████████████████████████████████████████████████████████████████| 53650/53650 [00:00<00:00, 974849.06it/s]\n",
      "100%|████████████████████████████████████████████████████████████████████████| 11829/11829 [00:00<00:00, 690249.20it/s]\n",
      "100%|████████████████████████████████████████████████████████████████████████| 49885/49885 [00:00<00:00, 918683.20it/s]\n",
      "100%|███████████████████████████████████████████████████████████████████████| 16753/16753 [00:00<00:00, 1041983.14it/s]\n",
      "100%|███████████████████████████████████████████████████████████████████████| 25544/25544 [00:00<00:00, 1020918.79it/s]\n",
      "100%|███████████████████████████████████████████████████████████████████████| 86001/86001 [00:00<00:00, 1364982.38it/s]\n",
      "100%|████████████████████████████████████████████████████████████████████████| 56213/56213 [00:00<00:00, 921450.92it/s]\n",
      "100%|██████████████████████████████████████████████████████████████████████████| 4746/4746 [00:00<00:00, 597477.77it/s]\n",
      "100%|██████████████████████████████████████████████████████████████████████████| 3129/3129 [00:00<00:00, 626233.58it/s]\n",
      "100%|█████████████████████████████████████████████████████████████████████| 133519/133519 [00:00<00:00, 1140624.54it/s]\n",
      "100%|█████████████████████████████████████████████████████████████████████| 133519/133519 [00:00<00:00, 1246276.38it/s]\n",
      "100%|███████████████████████████████████████████████████████████████████████| 96373/96373 [00:00<00:00, 1339369.38it/s]\n",
      "100%|████████████████████████████████████████████████████████████████████████| 62034/62034 [00:00<00:00, 983952.28it/s]\n",
      "100%|████████████████████████████████████████████████████████████████████████| 86171/86171 [00:00<00:00, 963125.71it/s]\n",
      "100%|████████████████████████████████████████████████████████████████████████| 56434/56434 [00:00<00:00, 770133.66it/s]\n",
      "100%|█████████████████████████████████████████████████████████████████████| 102601/102601 [00:00<00:00, 1080208.10it/s]\n",
      "100%|█████████████████████████████████████████████████████████████████████| 159478/159478 [00:00<00:00, 1226932.78it/s]\n",
      "100%|████████████████████████████████████████████████████████████████████████| 64171/64171 [00:00<00:00, 891139.62it/s]\n",
      "100%|█████████████████████████████████████████████████████████████████████| 116637/116637 [00:00<00:00, 1050309.45it/s]\n"
     ]
    }
   ],
   "source": [
    "# CarCounting = np.zeroes((31,24))\n",
    "from tqdm import tqdm\n",
    "def TimeUpdate(h,m,s):\n",
    "    ## add one second to the time\n",
    "    s += 1\n",
    "    if s==60:\n",
    "        s=0\n",
    "        m+=1\n",
    "        if m==60:\n",
    "            m=0\n",
    "            h+=1\n",
    "            if h==24:\n",
    "                h=0\n",
    "    return h,m,s\n",
    "        \n",
    "\n",
    "CarCounting = [[[] for j in range(24)]for i in range(len(AllVideos))]\n",
    "\n",
    "for i in range(len(AllVideos)):\n",
    "    h = df[\"hours\"].iloc[i]\n",
    "    m = df[\"mintes\"].iloc[i]\n",
    "    s = df[\"second\"].iloc[i]\n",
    "    frameRate = df[\"frameRate\"].iloc[i]\n",
    "    allframe = df[\"sample\"].iloc[i] == \"All\"\n",
    "\n",
    "    for j in tqdm(range(len(AllVideos[i]))):\n",
    "        if allframe:\n",
    "            if j%int(frameRate)==0:\n",
    "                h,m,s = TimeUpdate(h,m,s)\n",
    "        else:\n",
    "            h,m,s = TimeUpdate(h,m,s)\n",
    "            if frameRate != 15.0:\n",
    "                h,m,s = TimeUpdate(h,m,s)\n",
    "                \n",
    "        CarCounting[i][h].append(AllVideos[i][j])\n"
   ]
  },
  {
   "cell_type": "code",
   "execution_count": 135,
   "id": "c7974436-3a18-45ef-a526-a948c434a009",
   "metadata": {},
   "outputs": [],
   "source": [
    "CountingArray = np.zeros((31,24))\n",
    "countingFrames = np.zeros((31,24))\n",
    "\n",
    "for i in range(len(CarCounting)):\n",
    "    for j in range(len(CarCounting[0])):\n",
    "        if len(CarCounting[i][j])>0:\n",
    "            CountingArray[i,j] = np.average(CarCounting[i][j])\n",
    "            countingFrames[i,j] = len(CarCounting[i][j])\n",
    "        "
   ]
  },
  {
   "cell_type": "code",
   "execution_count": 136,
   "id": "75dca9a8-d385-41cd-8bb4-0e8b07ce98f5",
   "metadata": {},
   "outputs": [],
   "source": [
    "def mergeLines(indexlist):\n",
    "    c = countingFrames[indexlist[0],:]\n",
    "    for i in indexlist[1:]:\n",
    "        CountingArray[indexlist[0],:] = ((c * CountingArray[4,:]) + (countingFrames[i,:] * CountingArray[i,:])) / (c + countingFrames[i,:] + 0.000000001)\n",
    "        c += countingFrames[i,:]\n",
    "\n",
    "mergeLines([3,5])\n",
    "mergeLines([7,9])\n",
    "mergeLines([14,16,17,19,21])\n",
    "mergeLines([18,20,22,24,26,28])\n",
    "\n",
    "CountingArray = np.delete(CountingArray, [5,9,16,17,19,21,20,22,24,26,28], 0)\n",
    "# print(CountingArray[4,0])\n"
   ]
  },
  {
   "cell_type": "code",
   "execution_count": 137,
   "id": "4a0f6199-0fa0-41c9-916e-bd746b99648d",
   "metadata": {},
   "outputs": [
    {
     "data": {
      "text/plain": [
       "<matplotlib.colorbar.Colorbar at 0x1de70a9cd40>"
      ]
     },
     "execution_count": 137,
     "metadata": {},
     "output_type": "execute_result"
    },
    {
     "data": {
      "image/png": "[encoded data removed]",
      "text/plain": [
       "<Figure size 640x480 with 2 Axes>"
      ]
     },
     "metadata": {},
     "output_type": "display_data"
    }
   ],
   "source": [
    "CountingArray4show = np.copy(CountingArray)\n",
    "CountingArray4show[CountingArray4show == 0] = np.nan\n",
    "\n",
    "plt.imshow(CountingArray4show, cmap=\"jet\")\n",
    "plt.xlabel(\"daytime [hours]\")\n",
    "plt.title(\"Average number of vehicles per day \\n\\n (divided by hour) at selected intersections\\n\")\n",
    "plt.yticks([]) \n",
    "plt.colorbar()"
   ]
  },
  {
   "cell_type": "code",
   "execution_count": 101,
   "id": "f7f6c028-78e2-4504-8de6-ce8e70576984",
   "metadata": {},
   "outputs": [],
   "source": [
    "gdf = gdf.drop([5,9,16,17,19,21,20,22,24,26,28], axis = 0)\n"
   ]
  },
  {
   "cell_type": "code",
   "execution_count": 124,
   "id": "86fac2d1-5fa8-4da1-a5f6-7b2a4a0e5e4e",
   "metadata": {},
   "outputs": [],
   "source": [
    "score_max = pd.Series(np.max(CountingArray, axis=1))\n",
    "score_avg = pd.Series(np.average(CountingArray, axis=1))"
   ]
  },
  {
   "cell_type": "code",
   "execution_count": 125,
   "id": "4d203862-f91e-439d-b985-68abf9edc574",
   "metadata": {},
   "outputs": [
    {
     "data": {
      "text/html": [
       "<div>\n",
       "<style scoped>\n",
       "    .dataframe tbody tr th:only-of-type {\n",
       "        vertical-align: middle;\n",
       "    }\n",
       "\n",
       "    .dataframe tbody tr th {\n",
       "        vertical-align: top;\n",
       "    }\n",
       "\n",
       "    .dataframe thead th {\n",
       "        text-align: right;\n",
       "    }\n",
       "</style>\n",
       "<table border=\"1\" class=\"dataframe\">\n",
       "  <thead>\n",
       "    <tr style=\"text-align: right;\">\n",
       "      <th></th>\n",
       "      <th>day</th>\n",
       "      <th>month</th>\n",
       "      <th>year</th>\n",
       "      <th>hours</th>\n",
       "      <th>mintes</th>\n",
       "      <th>second</th>\n",
       "      <th>frameRate</th>\n",
       "      <th>sample</th>\n",
       "      <th>geometry</th>\n",
       "      <th>score</th>\n",
       "      <th>score_max</th>\n",
       "      <th>score_avg</th>\n",
       "    </tr>\n",
       "  </thead>\n",
       "  <tbody>\n",
       "    <tr>\n",
       "      <th>0</th>\n",
       "      <td>28</td>\n",
       "      <td>6</td>\n",
       "      <td>2022</td>\n",
       "      <td>23</td>\n",
       "      <td>46</td>\n",
       "      <td>17</td>\n",
       "      <td>15.00</td>\n",
       "      <td>All</td>\n",
       "      <td>POINT (35.12100 31.80100)</td>\n",
       "      <td>0.325418</td>\n",
       "      <td>3.937770</td>\n",
       "      <td>0.325418</td>\n",
       "    </tr>\n",
       "    <tr>\n",
       "      <th>1</th>\n",
       "      <td>28</td>\n",
       "      <td>6</td>\n",
       "      <td>2022</td>\n",
       "      <td>23</td>\n",
       "      <td>46</td>\n",
       "      <td>17</td>\n",
       "      <td>9.57</td>\n",
       "      <td>All</td>\n",
       "      <td>POINT (34.95200 32.71000)</td>\n",
       "      <td>0.108668</td>\n",
       "      <td>1.318484</td>\n",
       "      <td>0.108668</td>\n",
       "    </tr>\n",
       "    <tr>\n",
       "      <th>2</th>\n",
       "      <td>29</td>\n",
       "      <td>6</td>\n",
       "      <td>2022</td>\n",
       "      <td>0</td>\n",
       "      <td>37</td>\n",
       "      <td>27</td>\n",
       "      <td>15.00</td>\n",
       "      <td>All</td>\n",
       "      <td>POINT (35.12500 31.80000)</td>\n",
       "      <td>0.250000</td>\n",
       "      <td>1.000000</td>\n",
       "      <td>0.250000</td>\n",
       "    </tr>\n",
       "    <tr>\n",
       "      <th>3</th>\n",
       "      <td>29</td>\n",
       "      <td>6</td>\n",
       "      <td>2022</td>\n",
       "      <td>0</td>\n",
       "      <td>37</td>\n",
       "      <td>27</td>\n",
       "      <td>9.77</td>\n",
       "      <td>All</td>\n",
       "      <td>POINT (34.95200 32.71100)</td>\n",
       "      <td>0.190644</td>\n",
       "      <td>3.088850</td>\n",
       "      <td>0.190644</td>\n",
       "    </tr>\n",
       "    <tr>\n",
       "      <th>4</th>\n",
       "      <td>29</td>\n",
       "      <td>6</td>\n",
       "      <td>2022</td>\n",
       "      <td>5</td>\n",
       "      <td>21</td>\n",
       "      <td>14</td>\n",
       "      <td>15.00</td>\n",
       "      <td>All</td>\n",
       "      <td>POINT (34.83500 32.05600)</td>\n",
       "      <td>0.065583</td>\n",
       "      <td>0.976860</td>\n",
       "      <td>0.065583</td>\n",
       "    </tr>\n",
       "    <tr>\n",
       "      <th>6</th>\n",
       "      <td>29</td>\n",
       "      <td>6</td>\n",
       "      <td>2022</td>\n",
       "      <td>6</td>\n",
       "      <td>43</td>\n",
       "      <td>8</td>\n",
       "      <td>9.94</td>\n",
       "      <td>All</td>\n",
       "      <td>POINT (34.83500 32.05500)</td>\n",
       "      <td>1.351924</td>\n",
       "      <td>6.218364</td>\n",
       "      <td>1.351924</td>\n",
       "    </tr>\n",
       "    <tr>\n",
       "      <th>7</th>\n",
       "      <td>29</td>\n",
       "      <td>6</td>\n",
       "      <td>2022</td>\n",
       "      <td>6</td>\n",
       "      <td>43</td>\n",
       "      <td>8</td>\n",
       "      <td>15.00</td>\n",
       "      <td>All</td>\n",
       "      <td>POINT (34.86700 32.38600)</td>\n",
       "      <td>0.549827</td>\n",
       "      <td>2.786722</td>\n",
       "      <td>0.549827</td>\n",
       "    </tr>\n",
       "    <tr>\n",
       "      <th>8</th>\n",
       "      <td>29</td>\n",
       "      <td>6</td>\n",
       "      <td>2022</td>\n",
       "      <td>17</td>\n",
       "      <td>29</td>\n",
       "      <td>34</td>\n",
       "      <td>15.00</td>\n",
       "      <td>All</td>\n",
       "      <td>POINT (34.83400 32.05600)</td>\n",
       "      <td>10.728993</td>\n",
       "      <td>21.648403</td>\n",
       "      <td>10.728993</td>\n",
       "    </tr>\n",
       "    <tr>\n",
       "      <th>10</th>\n",
       "      <td>29</td>\n",
       "      <td>6</td>\n",
       "      <td>2022</td>\n",
       "      <td>22</td>\n",
       "      <td>35</td>\n",
       "      <td>28</td>\n",
       "      <td>8.17</td>\n",
       "      <td>All</td>\n",
       "      <td>POINT (34.84700 32.10000)</td>\n",
       "      <td>3.441192</td>\n",
       "      <td>4.471111</td>\n",
       "      <td>3.441192</td>\n",
       "    </tr>\n",
       "    <tr>\n",
       "      <th>11</th>\n",
       "      <td>30</td>\n",
       "      <td>6</td>\n",
       "      <td>2022</td>\n",
       "      <td>23</td>\n",
       "      <td>33</td>\n",
       "      <td>47</td>\n",
       "      <td>9.90</td>\n",
       "      <td>every_15th</td>\n",
       "      <td>POINT (34.89066 32.25414)</td>\n",
       "      <td>3.578724</td>\n",
       "      <td>14.568333</td>\n",
       "      <td>3.578724</td>\n",
       "    </tr>\n",
       "    <tr>\n",
       "      <th>12</th>\n",
       "      <td>1</td>\n",
       "      <td>7</td>\n",
       "      <td>2022</td>\n",
       "      <td>15</td>\n",
       "      <td>19</td>\n",
       "      <td>6</td>\n",
       "      <td>8.41</td>\n",
       "      <td>every_15th</td>\n",
       "      <td>POINT (34.83626 32.00752)</td>\n",
       "      <td>4.269330</td>\n",
       "      <td>6.774603</td>\n",
       "      <td>4.269330</td>\n",
       "    </tr>\n",
       "    <tr>\n",
       "      <th>13</th>\n",
       "      <td>2</td>\n",
       "      <td>7</td>\n",
       "      <td>2022</td>\n",
       "      <td>17</td>\n",
       "      <td>57</td>\n",
       "      <td>4</td>\n",
       "      <td>9.86</td>\n",
       "      <td>every_15th</td>\n",
       "      <td>POINT (35.09060 32.95390)</td>\n",
       "      <td>2.254328</td>\n",
       "      <td>11.728333</td>\n",
       "      <td>2.254328</td>\n",
       "    </tr>\n",
       "    <tr>\n",
       "      <th>14</th>\n",
       "      <td>3</td>\n",
       "      <td>7</td>\n",
       "      <td>2022</td>\n",
       "      <td>0</td>\n",
       "      <td>54</td>\n",
       "      <td>0</td>\n",
       "      <td>9.78</td>\n",
       "      <td>every_15th</td>\n",
       "      <td>POINT (35.02222 31.81667)</td>\n",
       "      <td>0.954009</td>\n",
       "      <td>1.743709</td>\n",
       "      <td>0.954009</td>\n",
       "    </tr>\n",
       "    <tr>\n",
       "      <th>15</th>\n",
       "      <td>3</td>\n",
       "      <td>7</td>\n",
       "      <td>2022</td>\n",
       "      <td>23</td>\n",
       "      <td>5</td>\n",
       "      <td>48</td>\n",
       "      <td>15.00</td>\n",
       "      <td>every_15th</td>\n",
       "      <td>POINT (34.81309 31.59948)</td>\n",
       "      <td>6.919367</td>\n",
       "      <td>7.878056</td>\n",
       "      <td>6.919367</td>\n",
       "    </tr>\n",
       "    <tr>\n",
       "      <th>18</th>\n",
       "      <td>4</td>\n",
       "      <td>7</td>\n",
       "      <td>2022</td>\n",
       "      <td>8</td>\n",
       "      <td>7</td>\n",
       "      <td>40</td>\n",
       "      <td>9.80</td>\n",
       "      <td>every_15th</td>\n",
       "      <td>POINT (34.86717 32.32440)</td>\n",
       "      <td>17.444102</td>\n",
       "      <td>20.297778</td>\n",
       "      <td>17.444102</td>\n",
       "    </tr>\n",
       "    <tr>\n",
       "      <th>23</th>\n",
       "      <td>6</td>\n",
       "      <td>7</td>\n",
       "      <td>2022</td>\n",
       "      <td>22</td>\n",
       "      <td>45</td>\n",
       "      <td>22</td>\n",
       "      <td>15.00</td>\n",
       "      <td>every_15th</td>\n",
       "      <td>POINT (34.92533 31.98566)</td>\n",
       "      <td>NaN</td>\n",
       "      <td>NaN</td>\n",
       "      <td>NaN</td>\n",
       "    </tr>\n",
       "    <tr>\n",
       "      <th>25</th>\n",
       "      <td>8</td>\n",
       "      <td>7</td>\n",
       "      <td>2022</td>\n",
       "      <td>1</td>\n",
       "      <td>35</td>\n",
       "      <td>6</td>\n",
       "      <td>15.00</td>\n",
       "      <td>every_15th</td>\n",
       "      <td>POINT (34.98621 31.93716)</td>\n",
       "      <td>NaN</td>\n",
       "      <td>NaN</td>\n",
       "      <td>NaN</td>\n",
       "    </tr>\n",
       "    <tr>\n",
       "      <th>27</th>\n",
       "      <td>9</td>\n",
       "      <td>7</td>\n",
       "      <td>2022</td>\n",
       "      <td>1</td>\n",
       "      <td>32</td>\n",
       "      <td>39</td>\n",
       "      <td>9.65</td>\n",
       "      <td>every_15th</td>\n",
       "      <td>POINT (34.98621 31.93716)</td>\n",
       "      <td>NaN</td>\n",
       "      <td>NaN</td>\n",
       "      <td>NaN</td>\n",
       "    </tr>\n",
       "    <tr>\n",
       "      <th>29</th>\n",
       "      <td>11</td>\n",
       "      <td>7</td>\n",
       "      <td>2022</td>\n",
       "      <td>14</td>\n",
       "      <td>10</td>\n",
       "      <td>10</td>\n",
       "      <td>8.25</td>\n",
       "      <td>every_15th</td>\n",
       "      <td>POINT (35.12519 31.80044)</td>\n",
       "      <td>NaN</td>\n",
       "      <td>NaN</td>\n",
       "      <td>NaN</td>\n",
       "    </tr>\n",
       "    <tr>\n",
       "      <th>30</th>\n",
       "      <td>11</td>\n",
       "      <td>7</td>\n",
       "      <td>2022</td>\n",
       "      <td>14</td>\n",
       "      <td>10</td>\n",
       "      <td>10</td>\n",
       "      <td>15.00</td>\n",
       "      <td>every_15th</td>\n",
       "      <td>POINT (34.84752 32.10020)</td>\n",
       "      <td>NaN</td>\n",
       "      <td>NaN</td>\n",
       "      <td>NaN</td>\n",
       "    </tr>\n",
       "  </tbody>\n",
       "</table>\n",
       "</div>"
      ],
      "text/plain": [
       "    day  month  year  hours  mintes  second  frameRate      sample  \\\n",
       "0    28      6  2022     23      46      17      15.00         All   \n",
       "1    28      6  2022     23      46      17       9.57         All   \n",
       "2    29      6  2022      0      37      27      15.00         All   \n",
       "3    29      6  2022      0      37      27       9.77         All   \n",
       "4    29      6  2022      5      21      14      15.00         All   \n",
       "6    29      6  2022      6      43       8       9.94         All   \n",
       "7    29      6  2022      6      43       8      15.00         All   \n",
       "8    29      6  2022     17      29      34      15.00         All   \n",
       "10   29      6  2022     22      35      28       8.17         All   \n",
       "11   30      6  2022     23      33      47       9.90  every_15th   \n",
       "12    1      7  2022     15      19       6       8.41  every_15th   \n",
       "13    2      7  2022     17      57       4       9.86  every_15th   \n",
       "14    3      7  2022      0      54       0       9.78  every_15th   \n",
       "15    3      7  2022     23       5      48      15.00  every_15th   \n",
       "18    4      7  2022      8       7      40       9.80  every_15th   \n",
       "23    6      7  2022     22      45      22      15.00  every_15th   \n",
       "25    8      7  2022      1      35       6      15.00  every_15th   \n",
       "27    9      7  2022      1      32      39       9.65  every_15th   \n",
       "29   11      7  2022     14      10      10       8.25  every_15th   \n",
       "30   11      7  2022     14      10      10      15.00  every_15th   \n",
       "\n",
       "                     geometry      score  score_max  score_avg  \n",
       "0   POINT (35.12100 31.80100)   0.325418   3.937770   0.325418  \n",
       "1   POINT (34.95200 32.71000)   0.108668   1.318484   0.108668  \n",
       "2   POINT (35.12500 31.80000)   0.250000   1.000000   0.250000  \n",
       "3   POINT (34.95200 32.71100)   0.190644   3.088850   0.190644  \n",
       "4   POINT (34.83500 32.05600)   0.065583   0.976860   0.065583  \n",
       "6   POINT (34.83500 32.05500)   1.351924   6.218364   1.351924  \n",
       "7   POINT (34.86700 32.38600)   0.549827   2.786722   0.549827  \n",
       "8   POINT (34.83400 32.05600)  10.728993  21.648403  10.728993  \n",
       "10  POINT (34.84700 32.10000)   3.441192   4.471111   3.441192  \n",
       "11  POINT (34.89066 32.25414)   3.578724  14.568333   3.578724  \n",
       "12  POINT (34.83626 32.00752)   4.269330   6.774603   4.269330  \n",
       "13  POINT (35.09060 32.95390)   2.254328  11.728333   2.254328  \n",
       "14  POINT (35.02222 31.81667)   0.954009   1.743709   0.954009  \n",
       "15  POINT (34.81309 31.59948)   6.919367   7.878056   6.919367  \n",
       "18  POINT (34.86717 32.32440)  17.444102  20.297778  17.444102  \n",
       "23  POINT (34.92533 31.98566)        NaN        NaN        NaN  \n",
       "25  POINT (34.98621 31.93716)        NaN        NaN        NaN  \n",
       "27  POINT (34.98621 31.93716)        NaN        NaN        NaN  \n",
       "29  POINT (35.12519 31.80044)        NaN        NaN        NaN  \n",
       "30  POINT (34.84752 32.10020)        NaN        NaN        NaN  "
      ]
     },
     "execution_count": 125,
     "metadata": {},
     "output_type": "execute_result"
    }
   ],
   "source": [
    "gdf[\"score_max\"] = score_max\n",
    "gdf[\"score_avg\"] = score_avg\n",
    "gdf"
   ]
  },
  {
   "cell_type": "code",
   "execution_count": 126,
   "id": "1072b97d-0970-40b6-ad86-3092067f17f0",
   "metadata": {
    "scrolled": true
   },
   "outputs": [],
   "source": [
    "m = gdf.explore(\n",
    "    style_kwds={\"style_function\":lambda x: {\"radius\":x[\"properties\"][\"score_avg\"]}}\n",
    ")\n",
    "outfp = r\"averge_traffic_map.html\"\n",
    "m.save(outfp)\n",
    "\n",
    "\n",
    "m = gdf.explore(\n",
    "    style_kwds={\"style_function\":lambda x: {\"radius\":x[\"properties\"][\"score_max\"]}}\n",
    ")\n",
    "outfp = r\"max_traffic_map.html\"\n",
    "m.save(outfp)"
   ]
  },
  {
   "cell_type": "code",
   "execution_count": null,
   "id": "dc702957-8718-47a8-a888-96aeec5718e9",
   "metadata": {},
   "outputs": [],
   "source": []
  }
 ],
 "metadata": {
  "kernelspec": {
   "display_name": "Python 3 (ipykernel)",
   "language": "python",
   "name": "python3"
  },
  "language_info": {
   "codemirror_mode": {
    "name": "ipython",
    "version": 3
   },
   "file_extension": ".py",
   "mimetype": "text/x-python",
   "name": "python",
   "nbconvert_exporter": "python",
   "pygments_lexer": "ipython3",
   "version": "3.8.19"
  }
 },
 "nbformat": 4,
 "nbformat_minor": 5
}
